{
 "cells": [
  {
   "cell_type": "markdown",
   "metadata": {},
   "source": [
    "# Machine Learning"
   ]
  },
  {
   "cell_type": "markdown",
   "metadata": {},
   "source": [
    "### Will a dog get adopted?\n",
    "* Predict outcome of a dog"
   ]
  },
  {
   "cell_type": "code",
   "execution_count": 28,
   "metadata": {},
   "outputs": [],
   "source": [
    "%matplotlib inline\n",
    "\n",
    "import numpy as np\n",
    "import pandas as pd\n",
    "\n",
    "from sklearn.preprocessing import StandardScaler, Normalizer, MinMaxScaler\n",
    "from sklearn.feature_extraction import DictVectorizer\n",
    "from sklearn.pipeline import Pipeline\n",
    "\n",
    "from sklearn.svm import LinearSVC\n",
    "from sklearn.svm import SVC\n",
    "from sklearn.neighbors import KNeighborsClassifier\n",
    "from sklearn.ensemble import RandomForestClassifier\n",
    "from sklearn.ensemble import BaggingClassifier\n",
    "\n",
    "from sklearn.model_selection import GridSearchCV, cross_val_score\n",
    "from sklearn.metrics import precision_score, accuracy_score, f1_score, recall_score\n",
    "\n",
    "\n",
    "import warnings\n",
    "warnings.filterwarnings('ignore')"
   ]
  },
  {
   "cell_type": "code",
   "execution_count": 29,
   "metadata": {},
   "outputs": [],
   "source": [
    "unique_df = pd.read_csv(\"../data/unique_austin_shelter.csv\")\n",
    "unique_df.set_index(\"animal_id\", inplace=True)"
   ]
  },
  {
   "cell_type": "code",
   "execution_count": 30,
   "metadata": {},
   "outputs": [],
   "source": [
    "features = ['breed', 'intake_condition', 'intake_type', 'sex', 'fixed', 'time_in_shelter', 'age_in']\n",
    "features1 = ['sex', 'fixed', 'time_in_shelter', 'age_in']"
   ]
  },
  {
   "cell_type": "code",
   "execution_count": 31,
   "metadata": {},
   "outputs": [],
   "source": [
    "new_unique_df = unique_df[unique_df.in_shelter == \"No\"][['breed', 'intake_condition', 'intake_type', 'sex', 'fixed', 'time_in_shelter', 'age_in','outcome_type']]"
   ]
  },
  {
   "cell_type": "code",
   "execution_count": 32,
   "metadata": {},
   "outputs": [],
   "source": [
    "new_unique_df.dropna(inplace=True)"
   ]
  },
  {
   "cell_type": "markdown",
   "metadata": {},
   "source": [
    "**Hyperparameter Tuning**\n",
    "1. Features\n",
    "2. Scaling\n",
    "3. K "
   ]
  },
  {
   "cell_type": "markdown",
   "metadata": {},
   "source": [
    "## Defining Training Data"
   ]
  },
  {
   "cell_type": "code",
   "execution_count": 70,
   "metadata": {},
   "outputs": [],
   "source": [
    "x_train_dict = new_unique_df[features][:3000].to_dict(orient=\"records\")\n",
    "y_train = new_unique_df['outcome_type'][:3000]"
   ]
  },
  {
   "cell_type": "code",
   "execution_count": 71,
   "metadata": {},
   "outputs": [
    {
     "data": {
      "text/plain": [
       "MinMaxScaler(copy=True, feature_range=(0, 1))"
      ]
     },
     "execution_count": 71,
     "metadata": {},
     "output_type": "execute_result"
    }
   ],
   "source": [
    "vec = DictVectorizer(sparse=False)\n",
    "vec.fit(x_train_dict)\n",
    "x_train = vec.transform(x_train_dict)\n",
    "\n",
    "scaler = MinMaxScaler()\n",
    "scaler.fit(x_train)\n",
    "# x_train_sc = scaler.transform(x_train)"
   ]
  },
  {
   "cell_type": "code",
   "execution_count": 72,
   "metadata": {},
   "outputs": [],
   "source": [
    "vec = DictVectorizer(sparse=False)\n",
    "scaler = StandardScaler()\n",
    "\n",
    "pipeline = Pipeline([\n",
    "    (\"vectorizer\", vec), \n",
    "    (\"scaler\", scaler), \n",
    "    (\"model\", model)\n",
    "])"
   ]
  },
  {
   "cell_type": "markdown",
   "metadata": {},
   "source": [
    "## Model: KNeighborsClassifier"
   ]
  },
  {
   "cell_type": "code",
   "execution_count": 93,
   "metadata": {},
   "outputs": [],
   "source": [
    "model = KNeighborsClassifier()\n",
    "n_neighbors = np.array([10,20,30,40,50])\n",
    "scalers = [Normalizer(), StandardScaler(), MinMaxScaler(), None]"
   ]
  },
  {
   "cell_type": "code",
   "execution_count": 74,
   "metadata": {},
   "outputs": [
    {
     "data": {
      "text/plain": [
       "dict_keys(['memory', 'steps', 'vectorizer', 'scaler', 'model', 'vectorizer__dtype', 'vectorizer__separator', 'vectorizer__sort', 'vectorizer__sparse', 'scaler__copy', 'scaler__with_mean', 'scaler__with_std', 'model__algorithm', 'model__leaf_size', 'model__metric', 'model__metric_params', 'model__n_jobs', 'model__n_neighbors', 'model__p', 'model__weights'])"
      ]
     },
     "execution_count": 74,
     "metadata": {},
     "output_type": "execute_result"
    }
   ],
   "source": [
    "pipeline.get_params().keys()"
   ]
  },
  {
   "cell_type": "code",
   "execution_count": 75,
   "metadata": {},
   "outputs": [
    {
     "data": {
      "text/plain": [
       "GridSearchCV(cv=5, error_score='raise-deprecating',\n",
       "       estimator=Pipeline(memory=None,\n",
       "     steps=[('vectorizer', DictVectorizer(dtype=<class 'numpy.float64'>, separator='=', sort=True,\n",
       "        sparse=False)), ('scaler', StandardScaler(copy=True, with_mean=True, with_std=True)), ('model', KNeighborsClassifier(algorithm='auto', leaf_size=30, metric='minkowski',\n",
       "           metric_params=None, n_jobs=None, n_neighbors=5, p=2,\n",
       "           weights='uniform'))]),\n",
       "       fit_params=None, iid='warn', n_jobs=None,\n",
       "       param_grid={'scaler': [Normalizer(copy=True, norm='l2'), StandardScaler(copy=True, with_mean=True, with_std=True), MinMaxScaler(copy=True, feature_range=(0, 1)), None]},\n",
       "       pre_dispatch='2*n_jobs', refit=True, return_train_score='warn',\n",
       "       scoring=None, verbose=0)"
      ]
     },
     "execution_count": 75,
     "metadata": {},
     "output_type": "execute_result"
    }
   ],
   "source": [
    "grid = GridSearchCV(pipeline,param_grid=dict(scaler=scalers),cv=5)\n",
    "grid.fit(x_train_dict, y_train)"
   ]
  },
  {
   "cell_type": "code",
   "execution_count": 78,
   "metadata": {},
   "outputs": [
    {
     "name": "stdout",
     "output_type": "stream",
     "text": [
      "0.517\n",
      "[('vectorizer', DictVectorizer(dtype=<class 'numpy.float64'>, separator='=', sort=True,\n",
      "        sparse=False)), ('scaler', MinMaxScaler(copy=True, feature_range=(0, 1))), ('model', KNeighborsClassifier(algorithm='auto', leaf_size=30, metric='minkowski',\n",
      "           metric_params=None, n_jobs=None, n_neighbors=5, p=2,\n",
      "           weights='uniform'))]\n"
     ]
    }
   ],
   "source": [
    "print(grid.best_score_)\n",
    "print(grid.best_estimator_.steps)"
   ]
  },
  {
   "cell_type": "code",
   "execution_count": 79,
   "metadata": {},
   "outputs": [
    {
     "data": {
      "text/html": [
       "<div>\n",
       "<style scoped>\n",
       "    .dataframe tbody tr th:only-of-type {\n",
       "        vertical-align: middle;\n",
       "    }\n",
       "\n",
       "    .dataframe tbody tr th {\n",
       "        vertical-align: top;\n",
       "    }\n",
       "\n",
       "    .dataframe thead th {\n",
       "        text-align: right;\n",
       "    }\n",
       "</style>\n",
       "<table border=\"1\" class=\"dataframe\">\n",
       "  <thead>\n",
       "    <tr style=\"text-align: right;\">\n",
       "      <th></th>\n",
       "      <th>mean_fit_time</th>\n",
       "      <th>std_fit_time</th>\n",
       "      <th>mean_score_time</th>\n",
       "      <th>std_score_time</th>\n",
       "      <th>param_scaler</th>\n",
       "      <th>params</th>\n",
       "      <th>split0_test_score</th>\n",
       "      <th>split1_test_score</th>\n",
       "      <th>split2_test_score</th>\n",
       "      <th>split3_test_score</th>\n",
       "      <th>...</th>\n",
       "      <th>mean_test_score</th>\n",
       "      <th>std_test_score</th>\n",
       "      <th>rank_test_score</th>\n",
       "      <th>split0_train_score</th>\n",
       "      <th>split1_train_score</th>\n",
       "      <th>split2_train_score</th>\n",
       "      <th>split3_train_score</th>\n",
       "      <th>split4_train_score</th>\n",
       "      <th>mean_train_score</th>\n",
       "      <th>std_train_score</th>\n",
       "    </tr>\n",
       "  </thead>\n",
       "  <tbody>\n",
       "    <tr>\n",
       "      <th>0</th>\n",
       "      <td>0.331439</td>\n",
       "      <td>0.018648</td>\n",
       "      <td>3.665929</td>\n",
       "      <td>0.035891</td>\n",
       "      <td>Normalizer(copy=True, norm='l2')</td>\n",
       "      <td>{'scaler': Normalizer(copy=True, norm='l2')}</td>\n",
       "      <td>0.500829</td>\n",
       "      <td>0.482587</td>\n",
       "      <td>0.520868</td>\n",
       "      <td>0.500835</td>\n",
       "      <td>...</td>\n",
       "      <td>0.510000</td>\n",
       "      <td>0.021352</td>\n",
       "      <td>3</td>\n",
       "      <td>0.640801</td>\n",
       "      <td>0.653317</td>\n",
       "      <td>0.657643</td>\n",
       "      <td>0.642232</td>\n",
       "      <td>0.628952</td>\n",
       "      <td>0.644589</td>\n",
       "      <td>0.010109</td>\n",
       "    </tr>\n",
       "    <tr>\n",
       "      <th>1</th>\n",
       "      <td>0.457410</td>\n",
       "      <td>0.029438</td>\n",
       "      <td>5.674942</td>\n",
       "      <td>0.031828</td>\n",
       "      <td>StandardScaler(copy=True, with_mean=True, with...</td>\n",
       "      <td>{'scaler': StandardScaler(copy=True, with_mean...</td>\n",
       "      <td>0.253731</td>\n",
       "      <td>0.472637</td>\n",
       "      <td>0.479132</td>\n",
       "      <td>0.252087</td>\n",
       "      <td>...</td>\n",
       "      <td>0.341333</td>\n",
       "      <td>0.110037</td>\n",
       "      <td>4</td>\n",
       "      <td>0.371297</td>\n",
       "      <td>0.585732</td>\n",
       "      <td>0.727613</td>\n",
       "      <td>0.313203</td>\n",
       "      <td>0.274958</td>\n",
       "      <td>0.454561</td>\n",
       "      <td>0.173744</td>\n",
       "    </tr>\n",
       "    <tr>\n",
       "      <th>2</th>\n",
       "      <td>0.375438</td>\n",
       "      <td>0.017527</td>\n",
       "      <td>5.689499</td>\n",
       "      <td>0.086480</td>\n",
       "      <td>MinMaxScaler(copy=True, feature_range=(0, 1))</td>\n",
       "      <td>{'scaler': MinMaxScaler(copy=True, feature_ran...</td>\n",
       "      <td>0.507463</td>\n",
       "      <td>0.504146</td>\n",
       "      <td>0.514190</td>\n",
       "      <td>0.520868</td>\n",
       "      <td>...</td>\n",
       "      <td>0.517000</td>\n",
       "      <td>0.012193</td>\n",
       "      <td>1</td>\n",
       "      <td>0.638298</td>\n",
       "      <td>0.644973</td>\n",
       "      <td>0.640150</td>\n",
       "      <td>0.642232</td>\n",
       "      <td>0.632280</td>\n",
       "      <td>0.639587</td>\n",
       "      <td>0.004275</td>\n",
       "    </tr>\n",
       "    <tr>\n",
       "      <th>3</th>\n",
       "      <td>0.270427</td>\n",
       "      <td>0.017448</td>\n",
       "      <td>2.811606</td>\n",
       "      <td>0.021588</td>\n",
       "      <td>None</td>\n",
       "      <td>{'scaler': None}</td>\n",
       "      <td>0.504146</td>\n",
       "      <td>0.495854</td>\n",
       "      <td>0.527546</td>\n",
       "      <td>0.527546</td>\n",
       "      <td>...</td>\n",
       "      <td>0.516333</td>\n",
       "      <td>0.013650</td>\n",
       "      <td>2</td>\n",
       "      <td>0.644139</td>\n",
       "      <td>0.641218</td>\n",
       "      <td>0.639733</td>\n",
       "      <td>0.636401</td>\n",
       "      <td>0.632696</td>\n",
       "      <td>0.638837</td>\n",
       "      <td>0.003955</td>\n",
       "    </tr>\n",
       "  </tbody>\n",
       "</table>\n",
       "<p>4 rows × 21 columns</p>\n",
       "</div>"
      ],
      "text/plain": [
       "   mean_fit_time  std_fit_time  mean_score_time  std_score_time  \\\n",
       "0       0.331439      0.018648         3.665929        0.035891   \n",
       "1       0.457410      0.029438         5.674942        0.031828   \n",
       "2       0.375438      0.017527         5.689499        0.086480   \n",
       "3       0.270427      0.017448         2.811606        0.021588   \n",
       "\n",
       "                                        param_scaler  \\\n",
       "0                   Normalizer(copy=True, norm='l2')   \n",
       "1  StandardScaler(copy=True, with_mean=True, with...   \n",
       "2      MinMaxScaler(copy=True, feature_range=(0, 1))   \n",
       "3                                               None   \n",
       "\n",
       "                                              params  split0_test_score  \\\n",
       "0       {'scaler': Normalizer(copy=True, norm='l2')}           0.500829   \n",
       "1  {'scaler': StandardScaler(copy=True, with_mean...           0.253731   \n",
       "2  {'scaler': MinMaxScaler(copy=True, feature_ran...           0.507463   \n",
       "3                                   {'scaler': None}           0.504146   \n",
       "\n",
       "   split1_test_score  split2_test_score  split3_test_score  ...  \\\n",
       "0           0.482587           0.520868           0.500835  ...   \n",
       "1           0.472637           0.479132           0.252087  ...   \n",
       "2           0.504146           0.514190           0.520868  ...   \n",
       "3           0.495854           0.527546           0.527546  ...   \n",
       "\n",
       "   mean_test_score  std_test_score  rank_test_score  split0_train_score  \\\n",
       "0         0.510000        0.021352                3            0.640801   \n",
       "1         0.341333        0.110037                4            0.371297   \n",
       "2         0.517000        0.012193                1            0.638298   \n",
       "3         0.516333        0.013650                2            0.644139   \n",
       "\n",
       "   split1_train_score  split2_train_score  split3_train_score  \\\n",
       "0            0.653317            0.657643            0.642232   \n",
       "1            0.585732            0.727613            0.313203   \n",
       "2            0.644973            0.640150            0.642232   \n",
       "3            0.641218            0.639733            0.636401   \n",
       "\n",
       "   split4_train_score  mean_train_score  std_train_score  \n",
       "0            0.628952          0.644589         0.010109  \n",
       "1            0.274958          0.454561         0.173744  \n",
       "2            0.632280          0.639587         0.004275  \n",
       "3            0.632696          0.638837         0.003955  \n",
       "\n",
       "[4 rows x 21 columns]"
      ]
     },
     "execution_count": 79,
     "metadata": {},
     "output_type": "execute_result"
    }
   ],
   "source": [
    "pd.DataFrame(grid.cv_results_)"
   ]
  },
  {
   "cell_type": "markdown",
   "metadata": {},
   "source": [
    "Not bothering to scale things since it takes forever and the score isnt that much better"
   ]
  },
  {
   "cell_type": "code",
   "execution_count": 96,
   "metadata": {},
   "outputs": [
    {
     "data": {
      "text/plain": [
       "GridSearchCV(cv=5, error_score='raise-deprecating',\n",
       "       estimator=KNeighborsClassifier(algorithm='auto', leaf_size=30, metric='minkowski',\n",
       "           metric_params=None, n_jobs=None, n_neighbors=5, p=2,\n",
       "           weights='uniform'),\n",
       "       fit_params=None, iid='warn', n_jobs=None,\n",
       "       param_grid={'n_neighbors': array([10, 20, 30, 40, 50])},\n",
       "       pre_dispatch='2*n_jobs', refit=True, return_train_score='warn',\n",
       "       scoring=None, verbose=0)"
      ]
     },
     "execution_count": 96,
     "metadata": {},
     "output_type": "execute_result"
    }
   ],
   "source": [
    "grid = GridSearchCV(model,param_grid=dict(n_neighbors=n_neighbors),cv=5)\n",
    "grid.fit(x_train, y_train)"
   ]
  },
  {
   "cell_type": "code",
   "execution_count": 97,
   "metadata": {},
   "outputs": [
    {
     "name": "stdout",
     "output_type": "stream",
     "text": [
      "0.55\n",
      "30\n"
     ]
    }
   ],
   "source": [
    "print(grid.best_score_)\n",
    "print(grid.best_estimator_.n_neighbors)"
   ]
  },
  {
   "cell_type": "code",
   "execution_count": 98,
   "metadata": {},
   "outputs": [
    {
     "data": {
      "text/html": [
       "<div>\n",
       "<style scoped>\n",
       "    .dataframe tbody tr th:only-of-type {\n",
       "        vertical-align: middle;\n",
       "    }\n",
       "\n",
       "    .dataframe tbody tr th {\n",
       "        vertical-align: top;\n",
       "    }\n",
       "\n",
       "    .dataframe thead th {\n",
       "        text-align: right;\n",
       "    }\n",
       "</style>\n",
       "<table border=\"1\" class=\"dataframe\">\n",
       "  <thead>\n",
       "    <tr style=\"text-align: right;\">\n",
       "      <th></th>\n",
       "      <th>mean_fit_time</th>\n",
       "      <th>std_fit_time</th>\n",
       "      <th>mean_score_time</th>\n",
       "      <th>std_score_time</th>\n",
       "      <th>param_n_neighbors</th>\n",
       "      <th>params</th>\n",
       "      <th>split0_test_score</th>\n",
       "      <th>split1_test_score</th>\n",
       "      <th>split2_test_score</th>\n",
       "      <th>split3_test_score</th>\n",
       "      <th>...</th>\n",
       "      <th>mean_test_score</th>\n",
       "      <th>std_test_score</th>\n",
       "      <th>rank_test_score</th>\n",
       "      <th>split0_train_score</th>\n",
       "      <th>split1_train_score</th>\n",
       "      <th>split2_train_score</th>\n",
       "      <th>split3_train_score</th>\n",
       "      <th>split4_train_score</th>\n",
       "      <th>mean_train_score</th>\n",
       "      <th>std_train_score</th>\n",
       "    </tr>\n",
       "  </thead>\n",
       "  <tbody>\n",
       "    <tr>\n",
       "      <th>0</th>\n",
       "      <td>0.344832</td>\n",
       "      <td>0.006469</td>\n",
       "      <td>3.488303</td>\n",
       "      <td>0.034671</td>\n",
       "      <td>10</td>\n",
       "      <td>{'n_neighbors': 10}</td>\n",
       "      <td>0.548922</td>\n",
       "      <td>0.525705</td>\n",
       "      <td>0.559265</td>\n",
       "      <td>0.537563</td>\n",
       "      <td>...</td>\n",
       "      <td>0.543667</td>\n",
       "      <td>0.011340</td>\n",
       "      <td>5</td>\n",
       "      <td>0.602420</td>\n",
       "      <td>0.598665</td>\n",
       "      <td>0.596418</td>\n",
       "      <td>0.592253</td>\n",
       "      <td>0.595674</td>\n",
       "      <td>0.597086</td>\n",
       "      <td>0.003369</td>\n",
       "    </tr>\n",
       "    <tr>\n",
       "      <th>1</th>\n",
       "      <td>0.340429</td>\n",
       "      <td>0.004528</td>\n",
       "      <td>3.627470</td>\n",
       "      <td>0.040013</td>\n",
       "      <td>20</td>\n",
       "      <td>{'n_neighbors': 20}</td>\n",
       "      <td>0.542289</td>\n",
       "      <td>0.542289</td>\n",
       "      <td>0.550918</td>\n",
       "      <td>0.540902</td>\n",
       "      <td>...</td>\n",
       "      <td>0.545667</td>\n",
       "      <td>0.004757</td>\n",
       "      <td>3</td>\n",
       "      <td>0.572799</td>\n",
       "      <td>0.570713</td>\n",
       "      <td>0.571429</td>\n",
       "      <td>0.566847</td>\n",
       "      <td>0.576123</td>\n",
       "      <td>0.571582</td>\n",
       "      <td>0.003010</td>\n",
       "    </tr>\n",
       "    <tr>\n",
       "      <th>2</th>\n",
       "      <td>0.337189</td>\n",
       "      <td>0.002294</td>\n",
       "      <td>3.757156</td>\n",
       "      <td>0.034959</td>\n",
       "      <td>30</td>\n",
       "      <td>{'n_neighbors': 30}</td>\n",
       "      <td>0.542289</td>\n",
       "      <td>0.529022</td>\n",
       "      <td>0.564274</td>\n",
       "      <td>0.554257</td>\n",
       "      <td>...</td>\n",
       "      <td>0.550000</td>\n",
       "      <td>0.012892</td>\n",
       "      <td>1</td>\n",
       "      <td>0.565707</td>\n",
       "      <td>0.566542</td>\n",
       "      <td>0.556435</td>\n",
       "      <td>0.561849</td>\n",
       "      <td>0.559484</td>\n",
       "      <td>0.562003</td>\n",
       "      <td>0.003787</td>\n",
       "    </tr>\n",
       "    <tr>\n",
       "      <th>3</th>\n",
       "      <td>0.342544</td>\n",
       "      <td>0.006542</td>\n",
       "      <td>3.841673</td>\n",
       "      <td>0.031839</td>\n",
       "      <td>40</td>\n",
       "      <td>{'n_neighbors': 40}</td>\n",
       "      <td>0.542289</td>\n",
       "      <td>0.525705</td>\n",
       "      <td>0.560935</td>\n",
       "      <td>0.540902</td>\n",
       "      <td>...</td>\n",
       "      <td>0.545667</td>\n",
       "      <td>0.012936</td>\n",
       "      <td>3</td>\n",
       "      <td>0.554443</td>\n",
       "      <td>0.556946</td>\n",
       "      <td>0.554352</td>\n",
       "      <td>0.554352</td>\n",
       "      <td>0.559900</td>\n",
       "      <td>0.555999</td>\n",
       "      <td>0.002189</td>\n",
       "    </tr>\n",
       "    <tr>\n",
       "      <th>4</th>\n",
       "      <td>0.339431</td>\n",
       "      <td>0.002726</td>\n",
       "      <td>3.909382</td>\n",
       "      <td>0.027603</td>\n",
       "      <td>50</td>\n",
       "      <td>{'n_neighbors': 50}</td>\n",
       "      <td>0.547264</td>\n",
       "      <td>0.533997</td>\n",
       "      <td>0.560935</td>\n",
       "      <td>0.544240</td>\n",
       "      <td>...</td>\n",
       "      <td>0.548333</td>\n",
       "      <td>0.009297</td>\n",
       "      <td>2</td>\n",
       "      <td>0.554026</td>\n",
       "      <td>0.559449</td>\n",
       "      <td>0.551020</td>\n",
       "      <td>0.551853</td>\n",
       "      <td>0.553245</td>\n",
       "      <td>0.553919</td>\n",
       "      <td>0.002957</td>\n",
       "    </tr>\n",
       "  </tbody>\n",
       "</table>\n",
       "<p>5 rows × 21 columns</p>\n",
       "</div>"
      ],
      "text/plain": [
       "   mean_fit_time  std_fit_time  mean_score_time  std_score_time  \\\n",
       "0       0.344832      0.006469         3.488303        0.034671   \n",
       "1       0.340429      0.004528         3.627470        0.040013   \n",
       "2       0.337189      0.002294         3.757156        0.034959   \n",
       "3       0.342544      0.006542         3.841673        0.031839   \n",
       "4       0.339431      0.002726         3.909382        0.027603   \n",
       "\n",
       "  param_n_neighbors               params  split0_test_score  \\\n",
       "0                10  {'n_neighbors': 10}           0.548922   \n",
       "1                20  {'n_neighbors': 20}           0.542289   \n",
       "2                30  {'n_neighbors': 30}           0.542289   \n",
       "3                40  {'n_neighbors': 40}           0.542289   \n",
       "4                50  {'n_neighbors': 50}           0.547264   \n",
       "\n",
       "   split1_test_score  split2_test_score  split3_test_score  ...  \\\n",
       "0           0.525705           0.559265           0.537563  ...   \n",
       "1           0.542289           0.550918           0.540902  ...   \n",
       "2           0.529022           0.564274           0.554257  ...   \n",
       "3           0.525705           0.560935           0.540902  ...   \n",
       "4           0.533997           0.560935           0.544240  ...   \n",
       "\n",
       "   mean_test_score  std_test_score  rank_test_score  split0_train_score  \\\n",
       "0         0.543667        0.011340                5            0.602420   \n",
       "1         0.545667        0.004757                3            0.572799   \n",
       "2         0.550000        0.012892                1            0.565707   \n",
       "3         0.545667        0.012936                3            0.554443   \n",
       "4         0.548333        0.009297                2            0.554026   \n",
       "\n",
       "   split1_train_score  split2_train_score  split3_train_score  \\\n",
       "0            0.598665            0.596418            0.592253   \n",
       "1            0.570713            0.571429            0.566847   \n",
       "2            0.566542            0.556435            0.561849   \n",
       "3            0.556946            0.554352            0.554352   \n",
       "4            0.559449            0.551020            0.551853   \n",
       "\n",
       "   split4_train_score  mean_train_score  std_train_score  \n",
       "0            0.595674          0.597086         0.003369  \n",
       "1            0.576123          0.571582         0.003010  \n",
       "2            0.559484          0.562003         0.003787  \n",
       "3            0.559900          0.555999         0.002189  \n",
       "4            0.553245          0.553919         0.002957  \n",
       "\n",
       "[5 rows x 21 columns]"
      ]
     },
     "execution_count": 98,
     "metadata": {},
     "output_type": "execute_result"
    }
   ],
   "source": [
    "pd.DataFrame(grid.cv_results_)"
   ]
  },
  {
   "cell_type": "markdown",
   "metadata": {},
   "source": [
    "## Model: RandomForestClassifier"
   ]
  },
  {
   "cell_type": "code",
   "execution_count": null,
   "metadata": {},
   "outputs": [],
   "source": [
    "model = RandomForestClassifier()\n",
    "0.5436666666666666\n",
    "10"
   ]
  },
  {
   "cell_type": "code",
   "execution_count": null,
   "metadata": {},
   "outputs": [],
   "source": []
  },
  {
   "cell_type": "code",
   "execution_count": null,
   "metadata": {},
   "outputs": [],
   "source": []
  },
  {
   "cell_type": "code",
   "execution_count": null,
   "metadata": {},
   "outputs": [],
   "source": []
  },
  {
   "cell_type": "code",
   "execution_count": null,
   "metadata": {},
   "outputs": [],
   "source": [
    "y_train_pred = model.predict(x_train_sc)"
   ]
  },
  {
   "cell_type": "markdown",
   "metadata": {},
   "source": [
    "**TRAINING**"
   ]
  },
  {
   "cell_type": "code",
   "execution_count": null,
   "metadata": {},
   "outputs": [],
   "source": [
    "print(\"Training Accuracy\")\n",
    "print(accuracy_score(y_train, y_train_pred))"
   ]
  },
  {
   "cell_type": "code",
   "execution_count": null,
   "metadata": {},
   "outputs": [],
   "source": [
    "print(\"Training Precision\")\n",
    "print(precision_score(y_train, y_train_pred,pos_label=\"Adoption\", average=None).mean())"
   ]
  },
  {
   "cell_type": "code",
   "execution_count": null,
   "metadata": {},
   "outputs": [],
   "source": [
    "print(\"Training Recall\")\n",
    "print(recall_score(y_train, y_train_pred,pos_label=\"Adoption\", average=None).mean())"
   ]
  },
  {
   "cell_type": "code",
   "execution_count": null,
   "metadata": {},
   "outputs": [],
   "source": [
    "true_positives = ((y_train_pred == \"Transfer\") & (y_train == \"Transfer\")).sum()\n",
    "\n",
    "precision = true_positives / (y_train_pred == \"Transfer\").sum()\n",
    "recall = true_positives / (y_train == \"Transfer\").sum()\n",
    "    \n",
    "precision, recall"
   ]
  },
  {
   "cell_type": "code",
   "execution_count": null,
   "metadata": {},
   "outputs": [],
   "source": [
    "pipeline = Pipeline([\n",
    "    (\"vectorizer\", vec), \n",
    "    (\"scaler\", scaler), \n",
    "    (\"model\", model)\n",
    "])\n",
    "\n",
    "print(cross_val_score(pipeline, x_train_dict, y_train, cv=10, scoring=\"accuracy\").mean())"
   ]
  },
  {
   "cell_type": "code",
   "execution_count": null,
   "metadata": {},
   "outputs": [],
   "source": [
    "new_dog = pd.DataFrame()\n",
    "new_dog['breed'] = ['German Shepherd Mix']\n",
    "new_dog['intake_condition'] = ['Normal']\n",
    "new_dog['intake_type'] = ['Owner Surrender']\n",
    "new_dog['sex'] = ['Male']\n",
    "new_dog['fixed'] = ['No']\n",
    "new_dog['time_in_shelter'] = ['3 days 07:44:00.000000000']\n",
    "new_dog['age_in'] = [4.0]"
   ]
  },
  {
   "cell_type": "code",
   "execution_count": null,
   "metadata": {},
   "outputs": [],
   "source": [
    "new_dog = new_dog.to_dict(orient=\"records\")\n",
    "new_dog = vec.transform(new_dog)\n",
    "new_dog_sc = scaler.transform(new_dog)\n",
    "\n",
    "preds = model.predict(new_dog_sc)\n"
   ]
  },
  {
   "cell_type": "code",
   "execution_count": null,
   "metadata": {},
   "outputs": [],
   "source": [
    "preds"
   ]
  },
  {
   "cell_type": "code",
   "execution_count": null,
   "metadata": {},
   "outputs": [],
   "source": [
    "new_unique_df[:10]"
   ]
  },
  {
   "cell_type": "code",
   "execution_count": null,
   "metadata": {},
   "outputs": [],
   "source": []
  }
 ],
 "metadata": {
  "kernelspec": {
   "display_name": "Python 3",
   "language": "python",
   "name": "python3"
  },
  "language_info": {
   "codemirror_mode": {
    "name": "ipython",
    "version": 3
   },
   "file_extension": ".py",
   "mimetype": "text/x-python",
   "name": "python",
   "nbconvert_exporter": "python",
   "pygments_lexer": "ipython3",
   "version": "3.6.8"
  }
 },
 "nbformat": 4,
 "nbformat_minor": 2
}
