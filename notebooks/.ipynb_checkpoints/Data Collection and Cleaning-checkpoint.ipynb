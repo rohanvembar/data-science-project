{
 "cells": [
  {
   "cell_type": "markdown",
   "metadata": {},
   "source": [
    "# Data Collection and Cleaning\n",
    "---\n",
    "\n",
    "## Table of Contents\n",
    " #### 1.  [Getting data from the REST API](#getting_data)\n",
    " #### 2.  [Creating the intakes Data Frame](#intakes)\n",
    " #### 3.  [Creating the outcomes Data Frame](#outcomes)\n",
    " #### 4.  [Joining together](#joining)\n",
    " #### 5.  [Exporting the cleaned data](#exporting)\n",
    " ---"
   ]
  },
  {
   "cell_type": "markdown",
   "metadata": {},
   "source": [
    "## 1. Getting data from the REST API <a id=\"getting_data\"></a>"
   ]
  },
  {
   "cell_type": "code",
   "execution_count": 1,
   "metadata": {
    "scrolled": true
   },
   "outputs": [],
   "source": [
    "import numpy as np\n",
    "import pandas as pd\n",
    "import requests\n",
    "from pandas.io.json import json_normalize\n",
    "from sodapy import Socrata\n",
    "import warnings\n",
    "warnings.filterwarnings('ignore')"
   ]
  },
  {
   "cell_type": "code",
   "execution_count": 2,
   "metadata": {},
   "outputs": [
    {
     "name": "stderr",
     "output_type": "stream",
     "text": [
      "WARNING:root:Requests made without an app_token will be subject to strict throttling limits.\n"
     ]
    }
   ],
   "source": [
    "client = Socrata(\"data.austintexas.gov\", None)\n",
    "results = client.get(\"fdzn-9yqv\", limit=100000)"
   ]
  },
  {
   "cell_type": "markdown",
   "metadata": {},
   "source": [
    "## 2. Creating the intakes Data Frame <a id=\"intakes\"></a>"
   ]
  },
  {
   "cell_type": "code",
   "execution_count": 3,
   "metadata": {},
   "outputs": [],
   "source": [
    "intake_df = pd.DataFrame.from_records(results)\n",
    "intake_df = intake_df.set_index(\"animal_id\")"
   ]
  },
  {
   "cell_type": "markdown",
   "metadata": {},
   "source": [
    "#### I. Rename datetime and sex to normal names\n"
   ]
  },
  {
   "cell_type": "code",
   "execution_count": 4,
   "metadata": {},
   "outputs": [],
   "source": [
    "#### I. Rename datetime and sex to normal names\n",
    "intake_df.drop(['datetime2'], axis=1, inplace=True)\n",
    "intake_df.rename(columns={'datetime': 'date_in', 'sex_upon_intake': 'sex'}, inplace=True)"
   ]
  },
  {
   "cell_type": "markdown",
   "metadata": {},
   "source": [
    "#### II. Remove other animals except dogs\n"
   ]
  },
  {
   "cell_type": "code",
   "execution_count": 5,
   "metadata": {},
   "outputs": [],
   "source": [
    "intake_df = intake_df.loc[intake_df['animal_type'] == \"Dog\"]"
   ]
  },
  {
   "cell_type": "markdown",
   "metadata": {},
   "source": [
    "#### III. Convert `color` to a list\n"
   ]
  },
  {
   "cell_type": "code",
   "execution_count": 6,
   "metadata": {},
   "outputs": [],
   "source": [
    "intake_df.color = intake_df.color.str.split('/')"
   ]
  },
  {
   "cell_type": "markdown",
   "metadata": {},
   "source": [
    "#### IV. Standardize addresses to use later\n"
   ]
  },
  {
   "cell_type": "code",
   "execution_count": 7,
   "metadata": {},
   "outputs": [],
   "source": [
    "intake_df.found_location = intake_df['found_location'].str[:-5].str.replace(\" in \", \" \")"
   ]
  },
  {
   "cell_type": "markdown",
   "metadata": {},
   "source": [
    "#### V. Create two separate columns, `fixed` and `sex` from `sex`\n"
   ]
  },
  {
   "cell_type": "code",
   "execution_count": 8,
   "metadata": {},
   "outputs": [],
   "source": [
    "sex_series = intake_df.sex.str.split(\" \")\n",
    "intake_df['fixed'] = sex_series.str[0]\n",
    "intake_df['sex'] = sex_series.str[1]\n",
    "intake_df.fixed = intake_df.fixed.map({\n",
    "    \"Neutered\": \"Yes\",\n",
    "    \"Spayed\": \"Yes\",\n",
    "    \"Intact\": \"No\"\n",
    "})"
   ]
  },
  {
   "cell_type": "markdown",
   "metadata": {},
   "source": [
    "#### VI. Clean up the dogs' names\n"
   ]
  },
  {
   "cell_type": "code",
   "execution_count": 9,
   "metadata": {},
   "outputs": [],
   "source": [
    "intake_df.name = intake_df.name.str.replace(\"*\", \"\")"
   ]
  },
  {
   "cell_type": "markdown",
   "metadata": {},
   "source": [
    "#### VII. Convert `date_in` to `datetime` object\n"
   ]
  },
  {
   "cell_type": "code",
   "execution_count": 10,
   "metadata": {},
   "outputs": [],
   "source": [
    "intake_df.date_in = intake_df.date_in.apply(pd.to_datetime)"
   ]
  },
  {
   "cell_type": "markdown",
   "metadata": {},
   "source": [
    "#### VIII. Convert `age_upon_intake` to years\n"
   ]
  },
  {
   "cell_type": "code",
   "execution_count": 11,
   "metadata": {},
   "outputs": [],
   "source": [
    "def fix_age_intake(date):\n",
    "    years = 0.0\n",
    "    if (\"year\" in date[1]):\n",
    "        years =  float(date[0])\n",
    "        \n",
    "    elif (\"month\" in date[1]):\n",
    "        years =  (float(date[0]) / 12)\n",
    "        \n",
    "    elif (\"week\" in date[1]):\n",
    "        years =  (float(date[0]) / 52)\n",
    "        \n",
    "    elif (\"day\" in date[1]):\n",
    "        years =  (float(date[0]) / 365)\n",
    "        \n",
    "    return years"
   ]
  },
  {
   "cell_type": "code",
   "execution_count": 12,
   "metadata": {},
   "outputs": [],
   "source": [
    "intake_df['age_upon_intake'] = intake_df.age_upon_intake.str.split().apply(fix_age_intake)"
   ]
  },
  {
   "cell_type": "markdown",
   "metadata": {},
   "source": [
    "## 3. Creating the outcomes Data Frame <a id=\"outcomes\"></a>"
   ]
  },
  {
   "cell_type": "code",
   "execution_count": 13,
   "metadata": {},
   "outputs": [
    {
     "name": "stderr",
     "output_type": "stream",
     "text": [
      "WARNING:root:Requests made without an app_token will be subject to strict throttling limits.\n"
     ]
    }
   ],
   "source": [
    "client = Socrata(\"data.austintexas.gov\", None)\n",
    "results = client.get(\"9t4d-g238\", limit=100000)\n",
    "\n",
    "outcomes_df = pd.DataFrame.from_records(results)\n",
    "outcomes_df = outcomes_df.set_index(\"animal_id\")"
   ]
  },
  {
   "cell_type": "markdown",
   "metadata": {},
   "source": [
    "#### I. Rename and convert `datetime` to `date_out` as a `datetime` object"
   ]
  },
  {
   "cell_type": "code",
   "execution_count": 14,
   "metadata": {},
   "outputs": [],
   "source": [
    "outcomes_df.rename(columns={'datetime': 'date_out'}, inplace=True)"
   ]
  },
  {
   "cell_type": "code",
   "execution_count": 15,
   "metadata": {},
   "outputs": [],
   "source": [
    "outcomes_df.date_out = outcomes_df.date_out.apply(pd.to_datetime)"
   ]
  },
  {
   "cell_type": "markdown",
   "metadata": {},
   "source": [
    "#### II. Remove unnecessary columns from `outcomes_df`"
   ]
  },
  {
   "cell_type": "code",
   "execution_count": 16,
   "metadata": {},
   "outputs": [],
   "source": [
    "outcomes_df = outcomes_df[['date_of_birth', 'date_out', \"outcome_subtype\", \"outcome_type\"]]"
   ]
  },
  {
   "cell_type": "markdown",
   "metadata": {},
   "source": [
    "## 4. Joining together <a id=\"joining\"></a>"
   ]
  },
  {
   "cell_type": "markdown",
   "metadata": {},
   "source": [
    "#### I. Outer merge `intake_df` and `outcomes_df`"
   ]
  },
  {
   "cell_type": "code",
   "execution_count": 17,
   "metadata": {},
   "outputs": [],
   "source": [
    "combined_df = intake_df.merge(outcomes_df, on=\"animal_id\", how=\"outer\")"
   ]
  },
  {
   "cell_type": "markdown",
   "metadata": {},
   "source": [
    "#### II. Drop incorrectly entered rows (rows that don't have `date_in`)"
   ]
  },
  {
   "cell_type": "code",
   "execution_count": 18,
   "metadata": {},
   "outputs": [],
   "source": [
    "combined_df = combined_df.dropna(axis=0, subset=['date_in'])"
   ]
  },
  {
   "cell_type": "markdown",
   "metadata": {},
   "source": [
    "#### III. Create column `in_shelter` if `outcome_type` has a value"
   ]
  },
  {
   "cell_type": "code",
   "execution_count": 19,
   "metadata": {},
   "outputs": [],
   "source": [
    "combined_df['in_shelter'] = \"No\"\n",
    "combined_df['in_shelter'][combined_df.outcome_type.isnull()] = \"Yes\""
   ]
  },
  {
   "cell_type": "markdown",
   "metadata": {},
   "source": [
    "#### IV. Create column `time_in_shelter` and remove invalid rows (negative times)"
   ]
  },
  {
   "cell_type": "code",
   "execution_count": 20,
   "metadata": {},
   "outputs": [],
   "source": [
    "combined_df['time_in_shelter'] = combined_df.date_out - combined_df.date_in"
   ]
  },
  {
   "cell_type": "code",
   "execution_count": 21,
   "metadata": {},
   "outputs": [],
   "source": [
    "mask = ((combined_df.time_in_shelter < pd.Timedelta(0)))\n",
    "combined_df = combined_df.drop(mask.loc[mask == True].index)"
   ]
  },
  {
   "cell_type": "markdown",
   "metadata": {},
   "source": [
    "#### VI. Create `age_in` and `age_out` from the dog's birthday"
   ]
  },
  {
   "cell_type": "code",
   "execution_count": 22,
   "metadata": {},
   "outputs": [],
   "source": [
    "combined_df.date_of_birth = combined_df.date_of_birth.apply(pd.to_datetime)"
   ]
  },
  {
   "cell_type": "code",
   "execution_count": 23,
   "metadata": {},
   "outputs": [],
   "source": [
    "combined_df[\"age_in\"] = combined_df.date_in - combined_df.date_of_birth\n",
    "combined_df.age_in = (combined_df.age_in.apply(lambda x: x.days)/365)"
   ]
  },
  {
   "cell_type": "code",
   "execution_count": 24,
   "metadata": {},
   "outputs": [],
   "source": [
    "# if age in didn't work, then replace it with age_upon_intake\n",
    "combined_df.age_in = np.where(combined_df.age_in.isnull(), combined_df.age_upon_intake, combined_df.age_in)"
   ]
  },
  {
   "cell_type": "code",
   "execution_count": 25,
   "metadata": {},
   "outputs": [],
   "source": [
    "combined_df[\"age_out\"] = combined_df.date_out - combined_df.date_of_birth\n",
    "combined_df.age_out =  (combined_df.age_out.apply(lambda x: x.days)/365)"
   ]
  },
  {
   "cell_type": "markdown",
   "metadata": {},
   "source": [
    "#### VII. Remove duplicate rows (from user entry error)"
   ]
  },
  {
   "cell_type": "code",
   "execution_count": 26,
   "metadata": {},
   "outputs": [],
   "source": [
    "features = combined_df.columns.tolist()\n",
    "features.remove(\"color\")\n",
    "features.remove(\"date_out\")\n",
    "features.remove(\"outcome_type\")\n",
    "combined_df = combined_df.drop_duplicates(subset=features)"
   ]
  },
  {
   "cell_type": "code",
   "execution_count": 27,
   "metadata": {},
   "outputs": [],
   "source": [
    "combined_df.drop(['age_upon_intake', 'animal_type'], axis=1, inplace=True)"
   ]
  },
  {
   "cell_type": "markdown",
   "metadata": {},
   "source": [
    "#### VIII. Create a new Data Frame without repeat-admit dogs"
   ]
  },
  {
   "cell_type": "code",
   "execution_count": 28,
   "metadata": {},
   "outputs": [],
   "source": [
    "combined_unique_df = combined_df[~combined_df.index.duplicated(keep='first')]"
   ]
  },
  {
   "cell_type": "markdown",
   "metadata": {},
   "source": [
    "#### IX. Create Column that indicates if a dog is a purebred or mixed"
   ]
  },
  {
   "cell_type": "code",
   "execution_count": 29,
   "metadata": {},
   "outputs": [],
   "source": [
    "combined_unique_df['is_mixed'] = (combined_unique_df.breed.str.contains(\"Mix\") | combined_unique_df.breed.str.contains(\"/\"))"
   ]
  },
  {
   "cell_type": "code",
   "execution_count": 30,
   "metadata": {},
   "outputs": [],
   "source": [
    "combined_unique_df['is_mixed'] = combined_unique_df['is_mixed'].map({\n",
    "    True: 1,\n",
    "    False: 0\n",
    "})"
   ]
  },
  {
   "cell_type": "markdown",
   "metadata": {},
   "source": [
    "#### X. Create a column that indicates is a dog has a name"
   ]
  },
  {
   "cell_type": "code",
   "execution_count": 32,
   "metadata": {},
   "outputs": [],
   "source": [
    "combined_unique_df['has_name']= combined_unique_df.name.notnull()\n",
    "combined_unique_df['has_name'] = combined_unique_df['has_name'].map({\n",
    "    True: 1,\n",
    "    False: 0\n",
    "})"
   ]
  },
  {
   "cell_type": "markdown",
   "metadata": {},
   "source": [
    "## 5. Exporting the cleaned data <a id=\"exporting\"></a>"
   ]
  },
  {
   "cell_type": "code",
   "execution_count": 34,
   "metadata": {},
   "outputs": [],
   "source": [
    "combined_df.to_csv('../data/austin_shelter.csv')"
   ]
  },
  {
   "cell_type": "code",
   "execution_count": 35,
   "metadata": {},
   "outputs": [],
   "source": [
    "combined_unique_df.to_csv('../data/unique_austin_shelter.csv')"
   ]
  },
  {
   "cell_type": "markdown",
   "metadata": {},
   "source": [
    "---"
   ]
  },
  {
   "cell_type": "markdown",
   "metadata": {},
   "source": [
    "### Get geocodes from addresses\n",
    "\n",
    "*Note: these cells were run using data from 3/16/2019. We can't update the geocode data due to billing limitations with the Google Maps API*"
   ]
  },
  {
   "cell_type": "raw",
   "metadata": {},
   "source": [
    "from geopy.geocoders import Nominatim\n",
    "from pygeocoder import Geocoder"
   ]
  },
  {
   "cell_type": "raw",
   "metadata": {},
   "source": [
    "geocodes = []"
   ]
  },
  {
   "cell_type": "raw",
   "metadata": {},
   "source": [
    "api_key = \"REMOVED\"\n",
    "\n",
    "def getGeocodes(found_location):\n",
    "    if (len(found_location) < 15):\n",
    "        geocodes.append({'lat': 30.267153, 'lng': -97.7430608})\n",
    "        return ({'lat': 30.267153, 'lng': -97.7430608})\n",
    "    \n",
    "    response = requests.get('https://maps.googleapis.com/maps/api/geocode/json?address=%s&key=%s' % (found_location, api_key)).json()['results']\n",
    "    if (response):\n",
    "        geocodes.append(response[0]['geometry']['location'])\n",
    "        return response[0]['geometry']['location']\n",
    "    else:\n",
    "        geocodes.append({'lat': 30.267153, 'lng': -97.7430608})\n",
    "        return ({'lat': 30.267153, 'lng': -97.7430608})\n",
    "    "
   ]
  },
  {
   "cell_type": "raw",
   "metadata": {},
   "source": [
    "with open('../data/geocodes.txt', 'w') as f:\n",
    "    for item in geocodes:\n",
    "        f.write(\"%s\\n\" % item)"
   ]
  }
 ],
 "metadata": {
  "kernelspec": {
   "display_name": "Python 3",
   "language": "python",
   "name": "python3"
  },
  "language_info": {
   "codemirror_mode": {
    "name": "ipython",
    "version": 3
   },
   "file_extension": ".py",
   "mimetype": "text/x-python",
   "name": "python",
   "nbconvert_exporter": "python",
   "pygments_lexer": "ipython3",
   "version": "3.6.8"
  }
 },
 "nbformat": 4,
 "nbformat_minor": 2
}
