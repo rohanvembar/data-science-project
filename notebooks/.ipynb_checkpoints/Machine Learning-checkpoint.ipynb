{
 "cells": [
  {
   "cell_type": "markdown",
   "metadata": {},
   "source": [
    "# Machine Learning\n",
    "---"
   ]
  },
  {
   "cell_type": "markdown",
   "metadata": {},
   "source": [
    "## 1. What will happen to a dog in the shelter?"
   ]
  },
  {
   "cell_type": "code",
   "execution_count": 2,
   "metadata": {},
   "outputs": [],
   "source": [
    "%matplotlib inline\n",
    "\n",
    "import numpy as np\n",
    "import pandas as pd\n",
    "\n",
    "from sklearn.preprocessing import StandardScaler, Normalizer, MinMaxScaler, MaxAbsScaler, RobustScaler\n",
    "from sklearn.feature_extraction import DictVectorizer\n",
    "from sklearn.pipeline import Pipeline\n",
    "\n",
    "from sklearn.svm import LinearSVC\n",
    "from sklearn.svm import SVC\n",
    "from sklearn.neighbors import KNeighborsClassifier\n",
    "from sklearn.ensemble import RandomForestClassifier\n",
    "from sklearn.ensemble import BaggingClassifier\n",
    "\n",
    "from sklearn.model_selection import GridSearchCV, cross_val_score\n",
    "from sklearn.metrics import precision_score, accuracy_score, f1_score, recall_score\n",
    "\n",
    "\n",
    "import warnings\n",
    "warnings.filterwarnings('ignore')"
   ]
  },
  {
   "cell_type": "code",
   "execution_count": 3,
   "metadata": {},
   "outputs": [],
   "source": [
    "unique_df = pd.read_csv(\"../data/unique_austin_shelter.csv\")\n",
    "unique_df.set_index(\"animal_id\", inplace=True)"
   ]
  },
  {
   "cell_type": "code",
   "execution_count": 4,
   "metadata": {},
   "outputs": [],
   "source": [
    "features = ['is_mixed','intake_condition', 'intake_type', 'sex', 'fixed', 'time_in_shelter', 'age_in']\n",
    "features1 = ['intake_condition', 'intake_type', 'sex', 'fixed', 'time_in_shelter', 'age_in']\n",
    "features2 = ['is_mixed', 'sex', 'fixed', 'time_in_shelter', 'age_in']\n",
    "features3 = ['intake_condition', 'sex', 'time_in_shelter', 'age_in']\n",
    "features4 = ['is_mixed', 'intake_type', 'sex', 'fixed', 'age_in']\n",
    "features5 = ['is_mixed', 'sex', 'fixed', 'age_in']"
   ]
  },
  {
   "cell_type": "code",
   "execution_count": 5,
   "metadata": {},
   "outputs": [],
   "source": [
    "new_unique_df = unique_df[unique_df.in_shelter == \"No\"][['is_mixed', 'intake_condition', 'intake_type', 'name', 'sex', 'fixed', 'time_in_shelter', 'has_name', 'age_in','outcome_type']]"
   ]
  },
  {
   "cell_type": "code",
   "execution_count": 6,
   "metadata": {},
   "outputs": [
    {
     "data": {
      "text/plain": [
       "dtype('float64')"
      ]
     },
     "execution_count": 6,
     "metadata": {},
     "output_type": "execute_result"
    }
   ],
   "source": [
    "temp = new_unique_df.time_in_shelter.apply(pd.to_timedelta)\n",
    "temp = temp.apply(lambda x:( x.days*24*60*60 + x.seconds)/60)\n",
    "new_unique_df.time_in_shelter = temp\n",
    "new_unique_df.time_in_shelter.dtype\n"
   ]
  },
  {
   "cell_type": "code",
   "execution_count": 7,
   "metadata": {},
   "outputs": [],
   "source": [
    "new_unique_df.dropna(inplace=True)"
   ]
  },
  {
   "cell_type": "code",
   "execution_count": 8,
   "metadata": {},
   "outputs": [
    {
     "data": {
      "text/html": [
       "<div>\n",
       "<style scoped>\n",
       "    .dataframe tbody tr th:only-of-type {\n",
       "        vertical-align: middle;\n",
       "    }\n",
       "\n",
       "    .dataframe tbody tr th {\n",
       "        vertical-align: top;\n",
       "    }\n",
       "\n",
       "    .dataframe thead th {\n",
       "        text-align: right;\n",
       "    }\n",
       "</style>\n",
       "<table border=\"1\" class=\"dataframe\">\n",
       "  <thead>\n",
       "    <tr style=\"text-align: right;\">\n",
       "      <th></th>\n",
       "      <th>is_mixed</th>\n",
       "      <th>intake_condition</th>\n",
       "      <th>intake_type</th>\n",
       "      <th>name</th>\n",
       "      <th>sex</th>\n",
       "      <th>fixed</th>\n",
       "      <th>time_in_shelter</th>\n",
       "      <th>has_name</th>\n",
       "      <th>age_in</th>\n",
       "      <th>outcome_type</th>\n",
       "    </tr>\n",
       "    <tr>\n",
       "      <th>animal_id</th>\n",
       "      <th></th>\n",
       "      <th></th>\n",
       "      <th></th>\n",
       "      <th></th>\n",
       "      <th></th>\n",
       "      <th></th>\n",
       "      <th></th>\n",
       "      <th></th>\n",
       "      <th></th>\n",
       "      <th></th>\n",
       "    </tr>\n",
       "  </thead>\n",
       "  <tbody>\n",
       "    <tr>\n",
       "      <th>A786884</th>\n",
       "      <td>1</td>\n",
       "      <td>Normal</td>\n",
       "      <td>Stray</td>\n",
       "      <td>Brock</td>\n",
       "      <td>Male</td>\n",
       "      <td>Yes</td>\n",
       "      <td>7132.0</td>\n",
       "      <td>1</td>\n",
       "      <td>2.000000</td>\n",
       "      <td>Transfer</td>\n",
       "    </tr>\n",
       "    <tr>\n",
       "      <th>A706918</th>\n",
       "      <td>0</td>\n",
       "      <td>Normal</td>\n",
       "      <td>Stray</td>\n",
       "      <td>Belle</td>\n",
       "      <td>Female</td>\n",
       "      <td>Yes</td>\n",
       "      <td>134.0</td>\n",
       "      <td>1</td>\n",
       "      <td>8.005479</td>\n",
       "      <td>Return to Owner</td>\n",
       "    </tr>\n",
       "    <tr>\n",
       "      <th>A724273</th>\n",
       "      <td>1</td>\n",
       "      <td>Normal</td>\n",
       "      <td>Stray</td>\n",
       "      <td>Runster</td>\n",
       "      <td>Male</td>\n",
       "      <td>No</td>\n",
       "      <td>9994.0</td>\n",
       "      <td>1</td>\n",
       "      <td>0.994521</td>\n",
       "      <td>Return to Owner</td>\n",
       "    </tr>\n",
       "    <tr>\n",
       "      <th>A778404</th>\n",
       "      <td>1</td>\n",
       "      <td>Normal</td>\n",
       "      <td>Owner Surrender</td>\n",
       "      <td>Max</td>\n",
       "      <td>Male</td>\n",
       "      <td>No</td>\n",
       "      <td>4784.0</td>\n",
       "      <td>1</td>\n",
       "      <td>4.002740</td>\n",
       "      <td>Adoption</td>\n",
       "    </tr>\n",
       "    <tr>\n",
       "      <th>A682524</th>\n",
       "      <td>1</td>\n",
       "      <td>Normal</td>\n",
       "      <td>Stray</td>\n",
       "      <td>Rio</td>\n",
       "      <td>Male</td>\n",
       "      <td>Yes</td>\n",
       "      <td>4538.0</td>\n",
       "      <td>1</td>\n",
       "      <td>4.002740</td>\n",
       "      <td>Return to Owner</td>\n",
       "    </tr>\n",
       "  </tbody>\n",
       "</table>\n",
       "</div>"
      ],
      "text/plain": [
       "           is_mixed intake_condition      intake_type     name     sex fixed  \\\n",
       "animal_id                                                                      \n",
       "A786884           1           Normal            Stray    Brock    Male   Yes   \n",
       "A706918           0           Normal            Stray    Belle  Female   Yes   \n",
       "A724273           1           Normal            Stray  Runster    Male    No   \n",
       "A778404           1           Normal  Owner Surrender      Max    Male    No   \n",
       "A682524           1           Normal            Stray      Rio    Male   Yes   \n",
       "\n",
       "           time_in_shelter  has_name    age_in     outcome_type  \n",
       "animal_id                                                        \n",
       "A786884             7132.0         1  2.000000         Transfer  \n",
       "A706918              134.0         1  8.005479  Return to Owner  \n",
       "A724273             9994.0         1  0.994521  Return to Owner  \n",
       "A778404             4784.0         1  4.002740         Adoption  \n",
       "A682524             4538.0         1  4.002740  Return to Owner  "
      ]
     },
     "execution_count": 8,
     "metadata": {},
     "output_type": "execute_result"
    }
   ],
   "source": [
    "new_unique_df.head()"
   ]
  },
  {
   "cell_type": "markdown",
   "metadata": {},
   "source": [
    "## Defining Training Data"
   ]
  },
  {
   "cell_type": "raw",
   "metadata": {},
   "source": [
    "x_train_dict = new_unique_df[features].to_dict(orient=\"records\")\n",
    "y_train = new_unique_df['outcome_type']"
   ]
  },
  {
   "cell_type": "raw",
   "metadata": {},
   "source": [
    "vec = DictVectorizer(sparse=False)\n",
    "vec.fit(x_train_dict)\n",
    "x_train = vec.transform(x_train_dict)\n",
    "\n",
    "scaler = Normalizer()\n",
    "scaler.fit(x_train)\n",
    "x_train_sc = scaler.transform(x_train)"
   ]
  },
  {
   "cell_type": "raw",
   "metadata": {},
   "source": [
    "model = KNeighborsClassifier(n_neighbors=9)\n",
    "vec = DictVectorizer(sparse=False)\n",
    "scaler = StandardScaler()\n",
    "\n",
    "pipeline = Pipeline([\n",
    "    (\"vectorizer\", vec), \n",
    "    (\"scaler\", scaler), \n",
    "    (\"model\", model)\n",
    "])"
   ]
  },
  {
   "cell_type": "markdown",
   "metadata": {},
   "source": [
    "## Model: KNeighborsClassifier \n",
    "### Feature Selection"
   ]
  },
  {
   "cell_type": "code",
   "execution_count": 8,
   "metadata": {
    "scrolled": true
   },
   "outputs": [
    {
     "name": "stdout",
     "output_type": "stream",
     "text": [
      "['is_mixed', 'intake_condition', 'intake_type', 'sex', 'fixed', 'time_in_shelter', 'age_in'] 0.7032228834323774\n",
      "['intake_condition', 'intake_type', 'sex', 'fixed', 'time_in_shelter', 'age_in'] 0.7077282319862647\n",
      "['is_mixed', 'sex', 'fixed', 'time_in_shelter', 'age_in'] 0.6436777812883262\n",
      "['intake_condition', 'sex', 'time_in_shelter', 'age_in'] 0.6489118793058553\n",
      "['is_mixed', 'intake_type', 'sex', 'fixed', 'age_in'] 0.5778185926872705\n",
      "['is_mixed', 'sex', 'fixed', 'age_in'] 0.5211608681390264\n"
     ]
    }
   ],
   "source": [
    "model = KNeighborsClassifier(n_neighbors=30, n_jobs=-1)\n",
    "vec = DictVectorizer(sparse=False)\n",
    "scaler = StandardScaler()\n",
    "\n",
    "pipeline = Pipeline([\n",
    "    (\"vectorizer\", vec), \n",
    "    (\"scaler\", scaler), \n",
    "    (\"model\", model)\n",
    "])\n",
    "\n",
    "\n",
    "for feat in [features, features1, features2, features3, features4, features5]:\n",
    "    x_train_dict = new_unique_df[feat].to_dict(orient=\"records\")\n",
    "    y_train = new_unique_df['outcome_type']\n",
    "    print(feat, cross_val_score(pipeline, x_train_dict, y_train, cv=5, scoring=\"accuracy\").mean())"
   ]
  },
  {
   "cell_type": "markdown",
   "metadata": {},
   "source": [
    "### Scaler testing"
   ]
  },
  {
   "cell_type": "code",
   "execution_count": 9,
   "metadata": {},
   "outputs": [],
   "source": [
    "x_train_dict = new_unique_df[features1].to_dict(orient=\"records\")\n",
    "y_train = new_unique_df['outcome_type']"
   ]
  },
  {
   "cell_type": "code",
   "execution_count": 10,
   "metadata": {},
   "outputs": [],
   "source": [
    "scalers = [StandardScaler(), Normalizer(), MinMaxScaler(), MaxAbsScaler(), RobustScaler()]"
   ]
  },
  {
   "cell_type": "code",
   "execution_count": 11,
   "metadata": {},
   "outputs": [
    {
     "name": "stdout",
     "output_type": "stream",
     "text": [
      "Fitting 5 folds for each of 5 candidates, totalling 25 fits\n"
     ]
    },
    {
     "name": "stderr",
     "output_type": "stream",
     "text": [
      "[Parallel(n_jobs=-1)]: Done   2 tasks      | elapsed:   19.4s\n",
      "[Parallel(n_jobs=-1)]: Done  16 out of  25 | elapsed:  1.0min remaining:   34.2s\n",
      "[Parallel(n_jobs=-1)]: Done  22 out of  25 | elapsed:  1.1min remaining:    9.2s\n",
      "[Parallel(n_jobs=-1)]: Done  25 out of  25 | elapsed:  1.2min finished\n"
     ]
    },
    {
     "data": {
      "text/plain": [
       "GridSearchCV(cv=5, error_score='raise',\n",
       "       estimator=Pipeline(memory=None,\n",
       "     steps=[('vectorizer', DictVectorizer(dtype=<class 'numpy.float64'>, separator='=', sort=True,\n",
       "        sparse=False)), ('scaler', StandardScaler(copy=True, with_mean=True, with_std=True)), ('model', KNeighborsClassifier(algorithm='auto', leaf_size=30, metric='minkowski',\n",
       "           metric_params=None, n_jobs=-1, n_neighbors=30, p=2,\n",
       "           weights='uniform'))]),\n",
       "       fit_params=None, iid=True, n_jobs=-1,\n",
       "       param_grid={'scaler': [StandardScaler(copy=True, with_mean=True, with_std=True), Normalizer(copy=True, norm='l2'), MinMaxScaler(copy=True, feature_range=(0, 1)), MaxAbsScaler(copy=True), RobustScaler(copy=True, quantile_range=(25.0, 75.0), with_centering=True,\n",
       "       with_scaling=True)]},\n",
       "       pre_dispatch='2*n_jobs', refit=True, return_train_score='warn',\n",
       "       scoring=None, verbose=5)"
      ]
     },
     "execution_count": 11,
     "metadata": {},
     "output_type": "execute_result"
    }
   ],
   "source": [
    "grid_kn = GridSearchCV(pipeline,param_grid=dict(scaler=scalers),cv=5, verbose=5, n_jobs=-1)\n",
    "grid_kn.fit(x_train_dict, y_train)"
   ]
  },
  {
   "cell_type": "code",
   "execution_count": 12,
   "metadata": {},
   "outputs": [
    {
     "name": "stdout",
     "output_type": "stream",
     "text": [
      "0.7174671657889727\n",
      "[('vectorizer', DictVectorizer(dtype=<class 'numpy.float64'>, separator='=', sort=True,\n",
      "        sparse=False)), ('scaler', RobustScaler(copy=True, quantile_range=(25.0, 75.0), with_centering=True,\n",
      "       with_scaling=True)), ('model', KNeighborsClassifier(algorithm='auto', leaf_size=30, metric='minkowski',\n",
      "           metric_params=None, n_jobs=-1, n_neighbors=30, p=2,\n",
      "           weights='uniform'))]\n"
     ]
    }
   ],
   "source": [
    "print(grid_kn.best_score_)\n",
    "print(grid_kn.best_estimator_.steps)"
   ]
  },
  {
   "cell_type": "code",
   "execution_count": 13,
   "metadata": {
    "scrolled": true
   },
   "outputs": [
    {
     "data": {
      "text/html": [
       "<div>\n",
       "<style scoped>\n",
       "    .dataframe tbody tr th:only-of-type {\n",
       "        vertical-align: middle;\n",
       "    }\n",
       "\n",
       "    .dataframe tbody tr th {\n",
       "        vertical-align: top;\n",
       "    }\n",
       "\n",
       "    .dataframe thead th {\n",
       "        text-align: right;\n",
       "    }\n",
       "</style>\n",
       "<table border=\"1\" class=\"dataframe\">\n",
       "  <thead>\n",
       "    <tr style=\"text-align: right;\">\n",
       "      <th></th>\n",
       "      <th>mean_fit_time</th>\n",
       "      <th>std_fit_time</th>\n",
       "      <th>mean_score_time</th>\n",
       "      <th>std_score_time</th>\n",
       "      <th>param_scaler</th>\n",
       "      <th>params</th>\n",
       "      <th>split0_test_score</th>\n",
       "      <th>split1_test_score</th>\n",
       "      <th>split2_test_score</th>\n",
       "      <th>split3_test_score</th>\n",
       "      <th>...</th>\n",
       "      <th>mean_test_score</th>\n",
       "      <th>std_test_score</th>\n",
       "      <th>rank_test_score</th>\n",
       "      <th>split0_train_score</th>\n",
       "      <th>split1_train_score</th>\n",
       "      <th>split2_train_score</th>\n",
       "      <th>split3_train_score</th>\n",
       "      <th>split4_train_score</th>\n",
       "      <th>mean_train_score</th>\n",
       "      <th>std_train_score</th>\n",
       "    </tr>\n",
       "  </thead>\n",
       "  <tbody>\n",
       "    <tr>\n",
       "      <th>0</th>\n",
       "      <td>3.389178</td>\n",
       "      <td>1.737522</td>\n",
       "      <td>5.464291</td>\n",
       "      <td>2.580006</td>\n",
       "      <td>StandardScaler(copy=True, with_mean=True, with...</td>\n",
       "      <td>{'scaler': StandardScaler(copy=True, with_mean...</td>\n",
       "      <td>0.704502</td>\n",
       "      <td>0.709324</td>\n",
       "      <td>0.709549</td>\n",
       "      <td>0.705014</td>\n",
       "      <td>...</td>\n",
       "      <td>0.707728</td>\n",
       "      <td>0.002450</td>\n",
       "      <td>3</td>\n",
       "      <td>0.722456</td>\n",
       "      <td>0.721685</td>\n",
       "      <td>0.720041</td>\n",
       "      <td>0.721372</td>\n",
       "      <td>0.720817</td>\n",
       "      <td>0.721274</td>\n",
       "      <td>0.000813</td>\n",
       "    </tr>\n",
       "    <tr>\n",
       "      <th>1</th>\n",
       "      <td>1.797246</td>\n",
       "      <td>0.486609</td>\n",
       "      <td>3.444275</td>\n",
       "      <td>0.803026</td>\n",
       "      <td>Normalizer(copy=True, norm='l2')</td>\n",
       "      <td>{'scaler': Normalizer(copy=True, norm='l2')}</td>\n",
       "      <td>0.708941</td>\n",
       "      <td>0.712020</td>\n",
       "      <td>0.713198</td>\n",
       "      <td>0.710885</td>\n",
       "      <td>...</td>\n",
       "      <td>0.712709</td>\n",
       "      <td>0.003218</td>\n",
       "      <td>2</td>\n",
       "      <td>0.725787</td>\n",
       "      <td>0.724619</td>\n",
       "      <td>0.723293</td>\n",
       "      <td>0.723037</td>\n",
       "      <td>0.722799</td>\n",
       "      <td>0.723907</td>\n",
       "      <td>0.001132</td>\n",
       "    </tr>\n",
       "    <tr>\n",
       "      <th>2</th>\n",
       "      <td>4.326220</td>\n",
       "      <td>1.045597</td>\n",
       "      <td>4.645742</td>\n",
       "      <td>0.474498</td>\n",
       "      <td>MinMaxScaler(copy=True, feature_range=(0, 1))</td>\n",
       "      <td>{'scaler': MinMaxScaler(copy=True, feature_ran...</td>\n",
       "      <td>0.697368</td>\n",
       "      <td>0.698065</td>\n",
       "      <td>0.700825</td>\n",
       "      <td>0.694224</td>\n",
       "      <td>...</td>\n",
       "      <td>0.697957</td>\n",
       "      <td>0.002205</td>\n",
       "      <td>4</td>\n",
       "      <td>0.713849</td>\n",
       "      <td>0.712881</td>\n",
       "      <td>0.712864</td>\n",
       "      <td>0.712094</td>\n",
       "      <td>0.710349</td>\n",
       "      <td>0.712407</td>\n",
       "      <td>0.001170</td>\n",
       "    </tr>\n",
       "    <tr>\n",
       "      <th>3</th>\n",
       "      <td>4.784162</td>\n",
       "      <td>0.199169</td>\n",
       "      <td>4.616533</td>\n",
       "      <td>0.410775</td>\n",
       "      <td>MaxAbsScaler(copy=True)</td>\n",
       "      <td>{'scaler': MaxAbsScaler(copy=True)}</td>\n",
       "      <td>0.697210</td>\n",
       "      <td>0.698065</td>\n",
       "      <td>0.700666</td>\n",
       "      <td>0.694065</td>\n",
       "      <td>...</td>\n",
       "      <td>0.697798</td>\n",
       "      <td>0.002190</td>\n",
       "      <td>5</td>\n",
       "      <td>0.713929</td>\n",
       "      <td>0.712881</td>\n",
       "      <td>0.712785</td>\n",
       "      <td>0.712133</td>\n",
       "      <td>0.710349</td>\n",
       "      <td>0.712415</td>\n",
       "      <td>0.001183</td>\n",
       "    </tr>\n",
       "    <tr>\n",
       "      <th>4</th>\n",
       "      <td>2.382561</td>\n",
       "      <td>0.384427</td>\n",
       "      <td>3.031501</td>\n",
       "      <td>1.061002</td>\n",
       "      <td>RobustScaler(copy=True, quantile_range=(25.0, ...</td>\n",
       "      <td>{'scaler': RobustScaler(copy=True, quantile_ra...</td>\n",
       "      <td>0.710368</td>\n",
       "      <td>0.715509</td>\n",
       "      <td>0.720654</td>\n",
       "      <td>0.717867</td>\n",
       "      <td>...</td>\n",
       "      <td>0.717467</td>\n",
       "      <td>0.004349</td>\n",
       "      <td>1</td>\n",
       "      <td>0.729277</td>\n",
       "      <td>0.728109</td>\n",
       "      <td>0.728646</td>\n",
       "      <td>0.728588</td>\n",
       "      <td>0.729461</td>\n",
       "      <td>0.728816</td>\n",
       "      <td>0.000492</td>\n",
       "    </tr>\n",
       "  </tbody>\n",
       "</table>\n",
       "<p>5 rows × 21 columns</p>\n",
       "</div>"
      ],
      "text/plain": [
       "   mean_fit_time  std_fit_time  mean_score_time  std_score_time  \\\n",
       "0       3.389178      1.737522         5.464291        2.580006   \n",
       "1       1.797246      0.486609         3.444275        0.803026   \n",
       "2       4.326220      1.045597         4.645742        0.474498   \n",
       "3       4.784162      0.199169         4.616533        0.410775   \n",
       "4       2.382561      0.384427         3.031501        1.061002   \n",
       "\n",
       "                                        param_scaler  \\\n",
       "0  StandardScaler(copy=True, with_mean=True, with...   \n",
       "1                   Normalizer(copy=True, norm='l2')   \n",
       "2      MinMaxScaler(copy=True, feature_range=(0, 1))   \n",
       "3                            MaxAbsScaler(copy=True)   \n",
       "4  RobustScaler(copy=True, quantile_range=(25.0, ...   \n",
       "\n",
       "                                              params  split0_test_score  \\\n",
       "0  {'scaler': StandardScaler(copy=True, with_mean...           0.704502   \n",
       "1       {'scaler': Normalizer(copy=True, norm='l2')}           0.708941   \n",
       "2  {'scaler': MinMaxScaler(copy=True, feature_ran...           0.697368   \n",
       "3                {'scaler': MaxAbsScaler(copy=True)}           0.697210   \n",
       "4  {'scaler': RobustScaler(copy=True, quantile_ra...           0.710368   \n",
       "\n",
       "   split1_test_score  split2_test_score  split3_test_score       ...         \\\n",
       "0           0.709324           0.709549           0.705014       ...          \n",
       "1           0.712020           0.713198           0.710885       ...          \n",
       "2           0.698065           0.700825           0.694224       ...          \n",
       "3           0.698065           0.700666           0.694065       ...          \n",
       "4           0.715509           0.720654           0.717867       ...          \n",
       "\n",
       "   mean_test_score  std_test_score  rank_test_score  split0_train_score  \\\n",
       "0         0.707728        0.002450                3            0.722456   \n",
       "1         0.712709        0.003218                2            0.725787   \n",
       "2         0.697957        0.002205                4            0.713849   \n",
       "3         0.697798        0.002190                5            0.713929   \n",
       "4         0.717467        0.004349                1            0.729277   \n",
       "\n",
       "   split1_train_score  split2_train_score  split3_train_score  \\\n",
       "0            0.721685            0.720041            0.721372   \n",
       "1            0.724619            0.723293            0.723037   \n",
       "2            0.712881            0.712864            0.712094   \n",
       "3            0.712881            0.712785            0.712133   \n",
       "4            0.728109            0.728646            0.728588   \n",
       "\n",
       "   split4_train_score  mean_train_score  std_train_score  \n",
       "0            0.720817          0.721274         0.000813  \n",
       "1            0.722799          0.723907         0.001132  \n",
       "2            0.710349          0.712407         0.001170  \n",
       "3            0.710349          0.712415         0.001183  \n",
       "4            0.729461          0.728816         0.000492  \n",
       "\n",
       "[5 rows x 21 columns]"
      ]
     },
     "execution_count": 13,
     "metadata": {},
     "output_type": "execute_result"
    }
   ],
   "source": [
    "pd.DataFrame(grid_kn.cv_results_)"
   ]
  },
  {
   "cell_type": "markdown",
   "metadata": {},
   "source": [
    "Robust scaler is the best"
   ]
  },
  {
   "cell_type": "markdown",
   "metadata": {},
   "source": [
    "### K value testing"
   ]
  },
  {
   "cell_type": "code",
   "execution_count": 14,
   "metadata": {},
   "outputs": [],
   "source": [
    "x_train_dict = new_unique_df[features1].to_dict(orient=\"records\")\n",
    "y_train = new_unique_df['outcome_type']\n",
    "\n",
    "vec = DictVectorizer(sparse=False)\n",
    "vec.fit(x_train_dict)\n",
    "x_train = vec.transform(x_train_dict)\n",
    "\n",
    "scaler = RobustScaler()\n",
    "scaler.fit(x_train)\n",
    "x_train_sc = scaler.transform(x_train)\n",
    "\n",
    "model = KNeighborsClassifier(n_jobs=-1)"
   ]
  },
  {
   "cell_type": "code",
   "execution_count": 15,
   "metadata": {},
   "outputs": [],
   "source": [
    "ks = [5,10,20,30,40,50]"
   ]
  },
  {
   "cell_type": "code",
   "execution_count": 16,
   "metadata": {},
   "outputs": [
    {
     "data": {
      "text/plain": [
       "GridSearchCV(cv=5, error_score='raise',\n",
       "       estimator=KNeighborsClassifier(algorithm='auto', leaf_size=30, metric='minkowski',\n",
       "           metric_params=None, n_jobs=-1, n_neighbors=5, p=2,\n",
       "           weights='uniform'),\n",
       "       fit_params=None, iid=True, n_jobs=1,\n",
       "       param_grid={'n_neighbors': [5, 10, 20, 30, 40, 50]},\n",
       "       pre_dispatch='2*n_jobs', refit=True, return_train_score='warn',\n",
       "       scoring=None, verbose=0)"
      ]
     },
     "execution_count": 16,
     "metadata": {},
     "output_type": "execute_result"
    }
   ],
   "source": [
    "grid_kn_k = GridSearchCV(model,param_grid=dict(n_neighbors=ks),cv=5)\n",
    "grid_kn_k.fit(x_train_sc, y_train)"
   ]
  },
  {
   "cell_type": "code",
   "execution_count": 17,
   "metadata": {},
   "outputs": [
    {
     "name": "stdout",
     "output_type": "stream",
     "text": [
      "0.7177526806674703\n",
      "40\n"
     ]
    }
   ],
   "source": [
    "print(grid_kn_k.best_score_)\n",
    "print(grid_kn_k.best_estimator_.n_neighbors)"
   ]
  },
  {
   "cell_type": "code",
   "execution_count": 18,
   "metadata": {
    "scrolled": true
   },
   "outputs": [
    {
     "data": {
      "text/plain": [
       "<matplotlib.axes._subplots.AxesSubplot at 0x22cdca45438>"
      ]
     },
     "execution_count": 18,
     "metadata": {},
     "output_type": "execute_result"
    },
    {
     "data": {
      "image/png": "[encoded data removed]",
      "text/plain": [
       "<Figure size 432x288 with 1 Axes>"
      ]
     },
     "metadata": {},
     "output_type": "display_data"
    }
   ],
   "source": [
    "pd.DataFrame(grid_kn_k.cv_results_).set_index(\"param_n_neighbors\")['mean_test_score'].plot.line()"
   ]
  },
  {
   "cell_type": "markdown",
   "metadata": {},
   "source": [
    "### Model Results"
   ]
  },
  {
   "cell_type": "markdown",
   "metadata": {},
   "source": [
    "accuracy = 0.7177526806674703\n",
    "\n",
    "k = 40\n",
    "\n",
    "scaler = RobustScaler()\n",
    "\n",
    "features = features1\n",
    "\n",
    "model = KNeighborsClassifier(algorithm='auto', leaf_size=30, metric='minkowski',\n",
    "           metric_params=None, n_jobs=-1, n_neighbors=5, p=2,\n",
    "           weights='uniform'),\n",
    "       fit_params=None, iid='warn', n_jobs=None)"
   ]
  },
  {
   "cell_type": "markdown",
   "metadata": {},
   "source": [
    "## Model: RandomForestClassifier"
   ]
  },
  {
   "cell_type": "code",
   "execution_count": 19,
   "metadata": {},
   "outputs": [
    {
     "name": "stdout",
     "output_type": "stream",
     "text": [
      "['is_mixed', 'intake_condition', 'intake_type', 'sex', 'fixed', 'time_in_shelter', 'age_in'] 0.682318257684175\n",
      "['intake_condition', 'intake_type', 'sex', 'fixed', 'time_in_shelter', 'age_in'] 0.6818729581376433\n",
      "['is_mixed', 'sex', 'fixed', 'time_in_shelter', 'age_in'] 0.607164489003684\n",
      "['intake_condition', 'sex', 'time_in_shelter', 'age_in'] 0.6085908160918031\n",
      "['is_mixed', 'intake_type', 'sex', 'fixed', 'age_in'] 0.5556448903594655\n",
      "['is_mixed', 'sex', 'fixed', 'age_in'] 0.5029837632974529\n"
     ]
    }
   ],
   "source": [
    "model = RandomForestClassifier(n_jobs=-1)\n",
    "vec = DictVectorizer(sparse=False)\n",
    "scaler = StandardScaler()\n",
    "\n",
    "pipeline = Pipeline([\n",
    "    (\"vectorizer\", vec), \n",
    "    (\"scaler\", scaler), \n",
    "    (\"model\", model)\n",
    "])\n",
    "\n",
    "\n",
    "for feat in [features, features1, features2, features3, features4, features5]:\n",
    "    x_train_dict = new_unique_df[feat].to_dict(orient=\"records\")\n",
    "    y_train = new_unique_df['outcome_type']\n",
    "    print(feat, cross_val_score(pipeline, x_train_dict, y_train, cv=5, scoring=\"accuracy\").mean())"
   ]
  },
  {
   "cell_type": "markdown",
   "metadata": {},
   "source": [
    "### Scaler Testing"
   ]
  },
  {
   "cell_type": "code",
   "execution_count": 20,
   "metadata": {},
   "outputs": [],
   "source": [
    "x_train_dict = new_unique_df[features].to_dict(orient=\"records\")\n",
    "y_train = new_unique_df['outcome_type']"
   ]
  },
  {
   "cell_type": "code",
   "execution_count": 21,
   "metadata": {},
   "outputs": [],
   "source": [
    "scalers = [StandardScaler(), Normalizer(), MinMaxScaler(), MaxAbsScaler(), RobustScaler()]"
   ]
  },
  {
   "cell_type": "code",
   "execution_count": 22,
   "metadata": {},
   "outputs": [
    {
     "name": "stdout",
     "output_type": "stream",
     "text": [
      "Fitting 5 folds for each of 5 candidates, totalling 25 fits\n"
     ]
    },
    {
     "name": "stderr",
     "output_type": "stream",
     "text": [
      "[Parallel(n_jobs=-1)]: Done   2 tasks      | elapsed:    2.2s\n",
      "[Parallel(n_jobs=-1)]: Done  16 out of  25 | elapsed:    7.9s remaining:    4.4s\n",
      "[Parallel(n_jobs=-1)]: Done  22 out of  25 | elapsed:    8.3s remaining:    1.0s\n",
      "[Parallel(n_jobs=-1)]: Done  25 out of  25 | elapsed:    9.0s finished\n"
     ]
    },
    {
     "data": {
      "text/plain": [
       "GridSearchCV(cv=5, error_score='raise',\n",
       "       estimator=Pipeline(memory=None,\n",
       "     steps=[('vectorizer', DictVectorizer(dtype=<class 'numpy.float64'>, separator='=', sort=True,\n",
       "        sparse=False)), ('scaler', StandardScaler(copy=True, with_mean=True, with_std=True)), ('model', RandomForestClassifier(bootstrap=True, class_weight=None, criterion='gini',\n",
       "            max_depth=None..._jobs=-1,\n",
       "            oob_score=False, random_state=None, verbose=0,\n",
       "            warm_start=False))]),\n",
       "       fit_params=None, iid=True, n_jobs=-1,\n",
       "       param_grid={'scaler': [StandardScaler(copy=True, with_mean=True, with_std=True), Normalizer(copy=True, norm='l2'), MinMaxScaler(copy=True, feature_range=(0, 1)), MaxAbsScaler(copy=True), RobustScaler(copy=True, quantile_range=(25.0, 75.0), with_centering=True,\n",
       "       with_scaling=True)]},\n",
       "       pre_dispatch='2*n_jobs', refit=True, return_train_score='warn',\n",
       "       scoring=None, verbose=5)"
      ]
     },
     "execution_count": 22,
     "metadata": {},
     "output_type": "execute_result"
    }
   ],
   "source": [
    "grid_rf = GridSearchCV(pipeline,param_grid=dict(scaler=scalers),cv=5, verbose=5, n_jobs=-1)\n",
    "grid_rf.fit(x_train_dict, y_train)"
   ]
  },
  {
   "cell_type": "code",
   "execution_count": 23,
   "metadata": {},
   "outputs": [
    {
     "name": "stdout",
     "output_type": "stream",
     "text": [
      "0.6995749000697925\n",
      "[('vectorizer', DictVectorizer(dtype=<class 'numpy.float64'>, separator='=', sort=True,\n",
      "        sparse=False)), ('scaler', Normalizer(copy=True, norm='l2')), ('model', RandomForestClassifier(bootstrap=True, class_weight=None, criterion='gini',\n",
      "            max_depth=None, max_features='auto', max_leaf_nodes=None,\n",
      "            min_impurity_decrease=0.0, min_impurity_split=None,\n",
      "            min_samples_leaf=1, min_samples_split=2,\n",
      "            min_weight_fraction_leaf=0.0, n_estimators=10, n_jobs=-1,\n",
      "            oob_score=False, random_state=None, verbose=0,\n",
      "            warm_start=False))]\n"
     ]
    }
   ],
   "source": [
    "print(grid_rf.best_score_)\n",
    "print(grid_rf.best_estimator_.steps)"
   ]
  },
  {
   "cell_type": "code",
   "execution_count": 24,
   "metadata": {
    "scrolled": false
   },
   "outputs": [
    {
     "data": {
      "text/html": [
       "<div>\n",
       "<style scoped>\n",
       "    .dataframe tbody tr th:only-of-type {\n",
       "        vertical-align: middle;\n",
       "    }\n",
       "\n",
       "    .dataframe tbody tr th {\n",
       "        vertical-align: top;\n",
       "    }\n",
       "\n",
       "    .dataframe thead th {\n",
       "        text-align: right;\n",
       "    }\n",
       "</style>\n",
       "<table border=\"1\" class=\"dataframe\">\n",
       "  <thead>\n",
       "    <tr style=\"text-align: right;\">\n",
       "      <th></th>\n",
       "      <th>mean_fit_time</th>\n",
       "      <th>std_fit_time</th>\n",
       "      <th>mean_score_time</th>\n",
       "      <th>std_score_time</th>\n",
       "      <th>param_scaler</th>\n",
       "      <th>params</th>\n",
       "      <th>split0_test_score</th>\n",
       "      <th>split1_test_score</th>\n",
       "      <th>split2_test_score</th>\n",
       "      <th>split3_test_score</th>\n",
       "      <th>...</th>\n",
       "      <th>mean_test_score</th>\n",
       "      <th>std_test_score</th>\n",
       "      <th>rank_test_score</th>\n",
       "      <th>split0_train_score</th>\n",
       "      <th>split1_train_score</th>\n",
       "      <th>split2_train_score</th>\n",
       "      <th>split3_train_score</th>\n",
       "      <th>split4_train_score</th>\n",
       "      <th>mean_train_score</th>\n",
       "      <th>std_train_score</th>\n",
       "    </tr>\n",
       "  </thead>\n",
       "  <tbody>\n",
       "    <tr>\n",
       "      <th>0</th>\n",
       "      <td>0.388189</td>\n",
       "      <td>0.024891</td>\n",
       "      <td>0.150824</td>\n",
       "      <td>0.004430</td>\n",
       "      <td>StandardScaler(copy=True, with_mean=True, with...</td>\n",
       "      <td>{'scaler': StandardScaler(copy=True, with_mean...</td>\n",
       "      <td>0.681357</td>\n",
       "      <td>0.684586</td>\n",
       "      <td>0.691624</td>\n",
       "      <td>0.677245</td>\n",
       "      <td>...</td>\n",
       "      <td>0.684855</td>\n",
       "      <td>0.005239</td>\n",
       "      <td>2</td>\n",
       "      <td>0.970691</td>\n",
       "      <td>0.969622</td>\n",
       "      <td>0.969942</td>\n",
       "      <td>0.969350</td>\n",
       "      <td>0.970896</td>\n",
       "      <td>0.970100</td>\n",
       "      <td>0.000600</td>\n",
       "    </tr>\n",
       "    <tr>\n",
       "      <th>1</th>\n",
       "      <td>0.631151</td>\n",
       "      <td>0.142016</td>\n",
       "      <td>0.206917</td>\n",
       "      <td>0.055498</td>\n",
       "      <td>Normalizer(copy=True, norm='l2')</td>\n",
       "      <td>{'scaler': Normalizer(copy=True, norm='l2')}</td>\n",
       "      <td>0.701015</td>\n",
       "      <td>0.702188</td>\n",
       "      <td>0.700825</td>\n",
       "      <td>0.691526</td>\n",
       "      <td>...</td>\n",
       "      <td>0.699575</td>\n",
       "      <td>0.004068</td>\n",
       "      <td>1</td>\n",
       "      <td>0.943841</td>\n",
       "      <td>0.942933</td>\n",
       "      <td>0.948450</td>\n",
       "      <td>0.947264</td>\n",
       "      <td>0.943497</td>\n",
       "      <td>0.945197</td>\n",
       "      <td>0.002223</td>\n",
       "    </tr>\n",
       "    <tr>\n",
       "      <th>2</th>\n",
       "      <td>0.885217</td>\n",
       "      <td>0.068848</td>\n",
       "      <td>0.206124</td>\n",
       "      <td>0.016098</td>\n",
       "      <td>MinMaxScaler(copy=True, feature_range=(0, 1))</td>\n",
       "      <td>{'scaler': MinMaxScaler(copy=True, feature_ran...</td>\n",
       "      <td>0.676601</td>\n",
       "      <td>0.678877</td>\n",
       "      <td>0.691466</td>\n",
       "      <td>0.677721</td>\n",
       "      <td>...</td>\n",
       "      <td>0.682571</td>\n",
       "      <td>0.006059</td>\n",
       "      <td>5</td>\n",
       "      <td>0.971960</td>\n",
       "      <td>0.970455</td>\n",
       "      <td>0.969387</td>\n",
       "      <td>0.969707</td>\n",
       "      <td>0.970143</td>\n",
       "      <td>0.970330</td>\n",
       "      <td>0.000893</td>\n",
       "    </tr>\n",
       "    <tr>\n",
       "      <th>3</th>\n",
       "      <td>0.678293</td>\n",
       "      <td>0.033933</td>\n",
       "      <td>0.220505</td>\n",
       "      <td>0.048029</td>\n",
       "      <td>MaxAbsScaler(copy=True)</td>\n",
       "      <td>{'scaler': MaxAbsScaler(copy=True)}</td>\n",
       "      <td>0.678662</td>\n",
       "      <td>0.680304</td>\n",
       "      <td>0.686707</td>\n",
       "      <td>0.684545</td>\n",
       "      <td>...</td>\n",
       "      <td>0.683491</td>\n",
       "      <td>0.003435</td>\n",
       "      <td>4</td>\n",
       "      <td>0.971682</td>\n",
       "      <td>0.971486</td>\n",
       "      <td>0.970616</td>\n",
       "      <td>0.970658</td>\n",
       "      <td>0.969151</td>\n",
       "      <td>0.970719</td>\n",
       "      <td>0.000893</td>\n",
       "    </tr>\n",
       "    <tr>\n",
       "      <th>4</th>\n",
       "      <td>0.673698</td>\n",
       "      <td>0.133581</td>\n",
       "      <td>0.177439</td>\n",
       "      <td>0.033874</td>\n",
       "      <td>RobustScaler(copy=True, quantile_range=(25.0, ...</td>\n",
       "      <td>{'scaler': RobustScaler(copy=True, quantile_ra...</td>\n",
       "      <td>0.683893</td>\n",
       "      <td>0.681732</td>\n",
       "      <td>0.684010</td>\n",
       "      <td>0.683116</td>\n",
       "      <td>...</td>\n",
       "      <td>0.684411</td>\n",
       "      <td>0.002578</td>\n",
       "      <td>3</td>\n",
       "      <td>0.971087</td>\n",
       "      <td>0.969662</td>\n",
       "      <td>0.970378</td>\n",
       "      <td>0.971134</td>\n",
       "      <td>0.970817</td>\n",
       "      <td>0.970616</td>\n",
       "      <td>0.000547</td>\n",
       "    </tr>\n",
       "  </tbody>\n",
       "</table>\n",
       "<p>5 rows × 21 columns</p>\n",
       "</div>"
      ],
      "text/plain": [
       "   mean_fit_time  std_fit_time  mean_score_time  std_score_time  \\\n",
       "0       0.388189      0.024891         0.150824        0.004430   \n",
       "1       0.631151      0.142016         0.206917        0.055498   \n",
       "2       0.885217      0.068848         0.206124        0.016098   \n",
       "3       0.678293      0.033933         0.220505        0.048029   \n",
       "4       0.673698      0.133581         0.177439        0.033874   \n",
       "\n",
       "                                        param_scaler  \\\n",
       "0  StandardScaler(copy=True, with_mean=True, with...   \n",
       "1                   Normalizer(copy=True, norm='l2')   \n",
       "2      MinMaxScaler(copy=True, feature_range=(0, 1))   \n",
       "3                            MaxAbsScaler(copy=True)   \n",
       "4  RobustScaler(copy=True, quantile_range=(25.0, ...   \n",
       "\n",
       "                                              params  split0_test_score  \\\n",
       "0  {'scaler': StandardScaler(copy=True, with_mean...           0.681357   \n",
       "1       {'scaler': Normalizer(copy=True, norm='l2')}           0.701015   \n",
       "2  {'scaler': MinMaxScaler(copy=True, feature_ran...           0.676601   \n",
       "3                {'scaler': MaxAbsScaler(copy=True)}           0.678662   \n",
       "4  {'scaler': RobustScaler(copy=True, quantile_ra...           0.683893   \n",
       "\n",
       "   split1_test_score  split2_test_score  split3_test_score       ...         \\\n",
       "0           0.684586           0.691624           0.677245       ...          \n",
       "1           0.702188           0.700825           0.691526       ...          \n",
       "2           0.678877           0.691466           0.677721       ...          \n",
       "3           0.680304           0.686707           0.684545       ...          \n",
       "4           0.681732           0.684010           0.683116       ...          \n",
       "\n",
       "   mean_test_score  std_test_score  rank_test_score  split0_train_score  \\\n",
       "0         0.684855        0.005239                2            0.970691   \n",
       "1         0.699575        0.004068                1            0.943841   \n",
       "2         0.682571        0.006059                5            0.971960   \n",
       "3         0.683491        0.003435                4            0.971682   \n",
       "4         0.684411        0.002578                3            0.971087   \n",
       "\n",
       "   split1_train_score  split2_train_score  split3_train_score  \\\n",
       "0            0.969622            0.969942            0.969350   \n",
       "1            0.942933            0.948450            0.947264   \n",
       "2            0.970455            0.969387            0.969707   \n",
       "3            0.971486            0.970616            0.970658   \n",
       "4            0.969662            0.970378            0.971134   \n",
       "\n",
       "   split4_train_score  mean_train_score  std_train_score  \n",
       "0            0.970896          0.970100         0.000600  \n",
       "1            0.943497          0.945197         0.002223  \n",
       "2            0.970143          0.970330         0.000893  \n",
       "3            0.969151          0.970719         0.000893  \n",
       "4            0.970817          0.970616         0.000547  \n",
       "\n",
       "[5 rows x 21 columns]"
      ]
     },
     "execution_count": 24,
     "metadata": {},
     "output_type": "execute_result"
    }
   ],
   "source": [
    "pd.DataFrame(grid_rf.cv_results_)"
   ]
  },
  {
   "cell_type": "markdown",
   "metadata": {},
   "source": [
    "### Parameter tuning"
   ]
  },
  {
   "cell_type": "code",
   "execution_count": 25,
   "metadata": {},
   "outputs": [],
   "source": [
    "x_train_dict = new_unique_df[features].to_dict(orient=\"records\")\n",
    "y_train = new_unique_df['outcome_type']\n",
    "\n",
    "vec = DictVectorizer(sparse=False)\n",
    "vec.fit(x_train_dict)\n",
    "x_train = vec.transform(x_train_dict)\n",
    "\n",
    "scaler = Normalizer()\n",
    "scaler.fit(x_train)\n",
    "x_train_sc = scaler.transform(x_train)\n",
    "\n",
    "model = RandomForestClassifier(n_jobs=-1)"
   ]
  },
  {
   "cell_type": "code",
   "execution_count": 26,
   "metadata": {},
   "outputs": [],
   "source": [
    "param_grid = {\n",
    "    'bootstrap': [True],\n",
    "    'max_depth': [10, 50, 90, 100],\n",
    "    'max_features': [2, 3],\n",
    "    'random_state': [10],\n",
    "    'min_samples_leaf': [2, 3, 4],\n",
    "    'min_samples_split': [10, 12, 15],\n",
    "    'n_estimators': [300, 1000]\n",
    "}"
   ]
  },
  {
   "cell_type": "code",
   "execution_count": 27,
   "metadata": {
    "scrolled": true
   },
   "outputs": [
    {
     "name": "stdout",
     "output_type": "stream",
     "text": [
      "Fitting 5 folds for each of 144 candidates, totalling 720 fits\n"
     ]
    },
    {
     "name": "stderr",
     "output_type": "stream",
     "text": [
      "[Parallel(n_jobs=-1)]: Done  25 tasks      | elapsed:  1.1min\n",
      "[Parallel(n_jobs=-1)]: Done 146 tasks      | elapsed:  7.6min\n",
      "[Parallel(n_jobs=-1)]: Done 349 tasks      | elapsed: 22.1min\n",
      "[Parallel(n_jobs=-1)]: Done 632 tasks      | elapsed: 42.3min\n",
      "[Parallel(n_jobs=-1)]: Done 720 out of 720 | elapsed: 49.6min finished\n"
     ]
    },
    {
     "data": {
      "text/plain": [
       "GridSearchCV(cv=5, error_score='raise',\n",
       "       estimator=RandomForestClassifier(bootstrap=True, class_weight=None, criterion='gini',\n",
       "            max_depth=None, max_features='auto', max_leaf_nodes=None,\n",
       "            min_impurity_decrease=0.0, min_impurity_split=None,\n",
       "            min_samples_leaf=1, min_samples_split=2,\n",
       "            min_weight_fraction_leaf=0.0, n_estimators=10, n_jobs=-1,\n",
       "            oob_score=False, random_state=None, verbose=0,\n",
       "            warm_start=False),\n",
       "       fit_params=None, iid=True, n_jobs=-1,\n",
       "       param_grid={'bootstrap': [True], 'max_depth': [10, 50, 90, 100], 'max_features': [2, 3], 'random_state': [10], 'min_samples_leaf': [2, 3, 4], 'min_samples_split': [10, 12, 15], 'n_estimators': [300, 1000]},\n",
       "       pre_dispatch='2*n_jobs', refit=True, return_train_score='warn',\n",
       "       scoring=None, verbose=2)"
      ]
     },
     "execution_count": 27,
     "metadata": {},
     "output_type": "execute_result"
    }
   ],
   "source": [
    "grid_rf_p = GridSearchCV(model,param_grid=param_grid,cv=5, n_jobs=-1, verbose=2)\n",
    "grid_rf_p.fit(x_train_sc, y_train)"
   ]
  },
  {
   "cell_type": "code",
   "execution_count": 28,
   "metadata": {},
   "outputs": [
    {
     "name": "stdout",
     "output_type": "stream",
     "text": [
      "0.7355814986358734\n",
      "RandomForestClassifier(bootstrap=True, class_weight=None, criterion='gini',\n",
      "            max_depth=50, max_features=3, max_leaf_nodes=None,\n",
      "            min_impurity_decrease=0.0, min_impurity_split=None,\n",
      "            min_samples_leaf=3, min_samples_split=12,\n",
      "            min_weight_fraction_leaf=0.0, n_estimators=1000, n_jobs=-1,\n",
      "            oob_score=False, random_state=10, verbose=0, warm_start=False)\n"
     ]
    }
   ],
   "source": [
    "print(grid_rf_p.best_score_)\n",
    "print(grid_rf_p.best_estimator_)"
   ]
  },
  {
   "cell_type": "markdown",
   "metadata": {},
   "source": [
    "### Model Results"
   ]
  },
  {
   "cell_type": "markdown",
   "metadata": {},
   "source": [
    "accuracy = 0.7355814986358734\n",
    "\n",
    "scaler = Normalizer()\n",
    "\n",
    "features = features\n",
    "\n",
    "model = RandomForestClassifier(bootstrap=True, class_weight=None, criterion='gini',\n",
    "            max_depth=90, max_features=2, max_leaf_nodes=None,\n",
    "            min_impurity_decrease=0.0, min_impurity_split=None,\n",
    "            min_samples_leaf=2, min_samples_split=15,\n",
    "            min_weight_fraction_leaf=0.0, n_estimators=1000, n_jobs=-1,\n",
    "            oob_score=False, random_state=10, verbose=0, warm_start=False)"
   ]
  },
  {
   "cell_type": "markdown",
   "metadata": {},
   "source": [
    "## Model: LinearSVC"
   ]
  },
  {
   "cell_type": "code",
   "execution_count": 29,
   "metadata": {},
   "outputs": [
    {
     "name": "stdout",
     "output_type": "stream",
     "text": [
      "[LibLinear][LibLinear][LibLinear][LibLinear][LibLinear]['is_mixed', 'intake_condition', 'intake_type', 'sex', 'fixed', 'time_in_shelter', 'age_in'] 0.6486269295505558\n",
      "[LibLinear][LibLinear][LibLinear][LibLinear][LibLinear]['intake_condition', 'intake_type', 'sex', 'fixed', 'time_in_shelter', 'age_in'] 0.6475794719825141\n",
      "[LibLinear][LibLinear][LibLinear][LibLinear][LibLinear]['is_mixed', 'sex', 'fixed', 'time_in_shelter', 'age_in'] 0.5903501885342708\n",
      "[LibLinear][LibLinear][LibLinear][LibLinear][LibLinear]['intake_condition', 'sex', 'time_in_shelter', 'age_in'] 0.6080208264816255\n",
      "[LibLinear][LibLinear][LibLinear][LibLinear][LibLinear]['is_mixed', 'intake_type', 'sex', 'fixed', 'age_in'] 0.5793102526146894\n",
      "[LibLinear][LibLinear][LibLinear][LibLinear][LibLinear]['is_mixed', 'sex', 'fixed', 'age_in'] 0.5220492634024069\n"
     ]
    }
   ],
   "source": [
    "model = LinearSVC(verbose=2)\n",
    "vec = DictVectorizer(sparse=False)\n",
    "scaler = StandardScaler()\n",
    "\n",
    "pipeline = Pipeline([\n",
    "    (\"vectorizer\", vec), \n",
    "    (\"scaler\", scaler), \n",
    "    (\"model\", model)\n",
    "])\n",
    "\n",
    "\n",
    "for feat in [features, features1, features2, features3, features4, features5]:\n",
    "    x_train_dict = new_unique_df[feat].to_dict(orient=\"records\")\n",
    "    y_train = new_unique_df['outcome_type']\n",
    "    print(feat, cross_val_score(pipeline, x_train_dict, y_train, cv=5, scoring=\"accuracy\").mean())"
   ]
  },
  {
   "cell_type": "markdown",
   "metadata": {},
   "source": [
    "### Scaler Testing"
   ]
  },
  {
   "cell_type": "code",
   "execution_count": 30,
   "metadata": {},
   "outputs": [],
   "source": [
    "x_train_dict = new_unique_df[features].to_dict(orient=\"records\")\n",
    "y_train = new_unique_df['outcome_type']"
   ]
  },
  {
   "cell_type": "code",
   "execution_count": 31,
   "metadata": {},
   "outputs": [],
   "source": [
    "scalers = [StandardScaler(), Normalizer(), MinMaxScaler(), MaxAbsScaler(), RobustScaler()]"
   ]
  },
  {
   "cell_type": "code",
   "execution_count": 32,
   "metadata": {},
   "outputs": [
    {
     "name": "stdout",
     "output_type": "stream",
     "text": [
      "Fitting 5 folds for each of 5 candidates, totalling 25 fits\n"
     ]
    },
    {
     "name": "stderr",
     "output_type": "stream",
     "text": [
      "[Parallel(n_jobs=-1)]: Done   2 tasks      | elapsed:    8.7s\n",
      "[Parallel(n_jobs=-1)]: Done  16 out of  25 | elapsed:  1.1min remaining:   38.5s\n",
      "[Parallel(n_jobs=-1)]: Done  22 out of  25 | elapsed:  1.3min remaining:   10.4s\n",
      "[Parallel(n_jobs=-1)]: Done  25 out of  25 | elapsed:  1.5min finished\n"
     ]
    },
    {
     "name": "stdout",
     "output_type": "stream",
     "text": [
      "[LibLinear]"
     ]
    },
    {
     "data": {
      "text/plain": [
       "GridSearchCV(cv=5, error_score='raise',\n",
       "       estimator=Pipeline(memory=None,\n",
       "     steps=[('vectorizer', DictVectorizer(dtype=<class 'numpy.float64'>, separator='=', sort=True,\n",
       "        sparse=False)), ('scaler', StandardScaler(copy=True, with_mean=True, with_std=True)), ('model', LinearSVC(C=1.0, class_weight=None, dual=True, fit_intercept=True,\n",
       "     intercept_scaling=1, loss='squared_hinge', max_iter=1000,\n",
       "     multi_class='ovr', penalty='l2', random_state=None, tol=0.0001,\n",
       "     verbose=2))]),\n",
       "       fit_params=None, iid=True, n_jobs=-1,\n",
       "       param_grid={'scaler': [StandardScaler(copy=True, with_mean=True, with_std=True), Normalizer(copy=True, norm='l2'), MinMaxScaler(copy=True, feature_range=(0, 1)), MaxAbsScaler(copy=True), RobustScaler(copy=True, quantile_range=(25.0, 75.0), with_centering=True,\n",
       "       with_scaling=True)]},\n",
       "       pre_dispatch='2*n_jobs', refit=True, return_train_score='warn',\n",
       "       scoring=None, verbose=5)"
      ]
     },
     "execution_count": 32,
     "metadata": {},
     "output_type": "execute_result"
    }
   ],
   "source": [
    "grid_ls = GridSearchCV(pipeline,param_grid=dict(scaler=scalers),cv=5, verbose=5, n_jobs=-1)\n",
    "grid_ls.fit(x_train_dict, y_train)"
   ]
  },
  {
   "cell_type": "code",
   "execution_count": 33,
   "metadata": {},
   "outputs": [
    {
     "name": "stdout",
     "output_type": "stream",
     "text": [
      "0.6539876911363492\n",
      "[('vectorizer', DictVectorizer(dtype=<class 'numpy.float64'>, separator='=', sort=True,\n",
      "        sparse=False)), ('scaler', RobustScaler(copy=True, quantile_range=(25.0, 75.0), with_centering=True,\n",
      "       with_scaling=True)), ('model', LinearSVC(C=1.0, class_weight=None, dual=True, fit_intercept=True,\n",
      "     intercept_scaling=1, loss='squared_hinge', max_iter=1000,\n",
      "     multi_class='ovr', penalty='l2', random_state=None, tol=0.0001,\n",
      "     verbose=2))]\n"
     ]
    }
   ],
   "source": [
    "print(grid_ls.best_score_)\n",
    "print(grid_ls.best_estimator_.steps)"
   ]
  },
  {
   "cell_type": "markdown",
   "metadata": {},
   "source": [
    "### Parameter tuning"
   ]
  },
  {
   "cell_type": "code",
   "execution_count": 34,
   "metadata": {},
   "outputs": [],
   "source": [
    "x_train_dict = new_unique_df[features].to_dict(orient=\"records\")\n",
    "y_train = new_unique_df['outcome_type']\n",
    "\n",
    "vec = DictVectorizer(sparse=False)\n",
    "vec.fit(x_train_dict)\n",
    "x_train = vec.transform(x_train_dict)\n",
    "\n",
    "scaler = Normalizer()\n",
    "scaler.fit(x_train)\n",
    "x_train_sc = scaler.transform(x_train)\n",
    "\n",
    "model = LinearSVC()"
   ]
  },
  {
   "cell_type": "code",
   "execution_count": 35,
   "metadata": {},
   "outputs": [],
   "source": [
    "param_grid = {\n",
    "    'C': [0.001, 0.01, 0.1, 1, 10],\n",
    "    'max_iter': [500,1000,1500]\n",
    "}"
   ]
  },
  {
   "cell_type": "code",
   "execution_count": 36,
   "metadata": {},
   "outputs": [
    {
     "name": "stdout",
     "output_type": "stream",
     "text": [
      "Fitting 5 folds for each of 15 candidates, totalling 75 fits\n"
     ]
    },
    {
     "name": "stderr",
     "output_type": "stream",
     "text": [
      "[Parallel(n_jobs=-1)]: Done  25 tasks      | elapsed:    6.2s\n",
      "[Parallel(n_jobs=-1)]: Done  75 out of  75 | elapsed:  1.1min finished\n"
     ]
    },
    {
     "data": {
      "text/plain": [
       "GridSearchCV(cv=5, error_score='raise',\n",
       "       estimator=LinearSVC(C=1.0, class_weight=None, dual=True, fit_intercept=True,\n",
       "     intercept_scaling=1, loss='squared_hinge', max_iter=1000,\n",
       "     multi_class='ovr', penalty='l2', random_state=None, tol=0.0001,\n",
       "     verbose=0),\n",
       "       fit_params=None, iid=True, n_jobs=-1,\n",
       "       param_grid={'C': [0.001, 0.01, 0.1, 1, 10], 'max_iter': [500, 1000, 1500]},\n",
       "       pre_dispatch='2*n_jobs', refit=True, return_train_score='warn',\n",
       "       scoring=None, verbose=2)"
      ]
     },
     "execution_count": 36,
     "metadata": {},
     "output_type": "execute_result"
    }
   ],
   "source": [
    "grid_ls_p = GridSearchCV(model,param_grid=param_grid,cv=5, n_jobs=-1, verbose=2)\n",
    "grid_ls_p.fit(x_train_sc, y_train)"
   ]
  },
  {
   "cell_type": "code",
   "execution_count": 37,
   "metadata": {},
   "outputs": [
    {
     "name": "stdout",
     "output_type": "stream",
     "text": [
      "0.5426686123976905\n",
      "LinearSVC(C=10, class_weight=None, dual=True, fit_intercept=True,\n",
      "     intercept_scaling=1, loss='squared_hinge', max_iter=500,\n",
      "     multi_class='ovr', penalty='l2', random_state=None, tol=0.0001,\n",
      "     verbose=0)\n"
     ]
    }
   ],
   "source": [
    "print(grid_ls_p.best_score_)\n",
    "print(grid_ls_p.best_estimator_)"
   ]
  },
  {
   "cell_type": "markdown",
   "metadata": {},
   "source": [
    "### Model Results"
   ]
  },
  {
   "cell_type": "markdown",
   "metadata": {},
   "source": [
    "accuracy = 0.5426686123976905\n",
    "\n",
    "scaler = RobustScaler()\n",
    "\n",
    "features = features\n",
    "\n",
    "model = LinearSVC(C=10, class_weight=None, dual=True, fit_intercept=True,\n",
    "     intercept_scaling=1, loss='squared_hinge', max_iter=500,\n",
    "     multi_class='ovr', penalty='l2', random_state=None, tol=0.0001,\n",
    "     verbose=0)"
   ]
  },
  {
   "cell_type": "markdown",
   "metadata": {},
   "source": [
    "## Model: BaggingClassifier"
   ]
  },
  {
   "cell_type": "code",
   "execution_count": 38,
   "metadata": {},
   "outputs": [
    {
     "name": "stdout",
     "output_type": "stream",
     "text": [
      "['is_mixed', 'intake_condition', 'intake_type', 'sex', 'fixed', 'time_in_shelter', 'age_in'] 0.6966564793830872\n",
      "['intake_condition', 'intake_type', 'sex', 'fixed', 'time_in_shelter', 'age_in'] 0.7007167493294919\n",
      "['is_mixed', 'sex', 'fixed', 'time_in_shelter', 'age_in'] 0.6202020697585997\n",
      "['intake_condition', 'sex', 'time_in_shelter', 'age_in'] 0.6205505114944501\n",
      "['is_mixed', 'intake_type', 'sex', 'fixed', 'age_in'] 0.5584047106254516\n",
      "['is_mixed', 'sex', 'fixed', 'age_in'] 0.5052356678565763\n"
     ]
    }
   ],
   "source": [
    "model = BaggingClassifier(n_jobs=-1)\n",
    "vec = DictVectorizer(sparse=False)\n",
    "scaler = StandardScaler()\n",
    "\n",
    "pipeline = Pipeline([\n",
    "    (\"vectorizer\", vec), \n",
    "    (\"scaler\", scaler), \n",
    "    (\"model\", model)\n",
    "])\n",
    "\n",
    "\n",
    "for feat in [features, features1, features2, features3, features4, features5]:\n",
    "    x_train_dict = new_unique_df[feat].to_dict(orient=\"records\")\n",
    "    y_train = new_unique_df['outcome_type']\n",
    "    print(feat, cross_val_score(pipeline, x_train_dict, y_train, cv=5, scoring=\"accuracy\").mean())"
   ]
  },
  {
   "cell_type": "markdown",
   "metadata": {},
   "source": [
    "### Scaler Testing"
   ]
  },
  {
   "cell_type": "code",
   "execution_count": 39,
   "metadata": {},
   "outputs": [],
   "source": [
    "x_train_dict = new_unique_df[features1].to_dict(orient=\"records\")\n",
    "y_train = new_unique_df['outcome_type']"
   ]
  },
  {
   "cell_type": "code",
   "execution_count": 40,
   "metadata": {},
   "outputs": [],
   "source": [
    "scalers = [StandardScaler(), Normalizer(), MinMaxScaler(), MaxAbsScaler(), RobustScaler()]"
   ]
  },
  {
   "cell_type": "code",
   "execution_count": 41,
   "metadata": {},
   "outputs": [
    {
     "name": "stdout",
     "output_type": "stream",
     "text": [
      "Fitting 5 folds for each of 5 candidates, totalling 25 fits\n"
     ]
    },
    {
     "name": "stderr",
     "output_type": "stream",
     "text": [
      "[Parallel(n_jobs=-1)]: Done   2 tasks      | elapsed:    3.0s\n",
      "[Parallel(n_jobs=-1)]: Done  16 out of  25 | elapsed:   10.3s remaining:    5.8s\n",
      "[Parallel(n_jobs=-1)]: Done  22 out of  25 | elapsed:   12.5s remaining:    1.6s\n",
      "[Parallel(n_jobs=-1)]: Done  25 out of  25 | elapsed:   12.6s finished\n"
     ]
    },
    {
     "data": {
      "text/plain": [
       "GridSearchCV(cv=5, error_score='raise',\n",
       "       estimator=Pipeline(memory=None,\n",
       "     steps=[('vectorizer', DictVectorizer(dtype=<class 'numpy.float64'>, separator='=', sort=True,\n",
       "        sparse=False)), ('scaler', StandardScaler(copy=True, with_mean=True, with_std=True)), ('model', BaggingClassifier(base_estimator=None, bootstrap=True,\n",
       "         bootstrap_features=False, max_features=1.0, max_samples=1.0,\n",
       "         n_estimators=10, n_jobs=-1, oob_score=False, random_state=None,\n",
       "         verbose=0, warm_start=False))]),\n",
       "       fit_params=None, iid=True, n_jobs=-1,\n",
       "       param_grid={'scaler': [StandardScaler(copy=True, with_mean=True, with_std=True), Normalizer(copy=True, norm='l2'), MinMaxScaler(copy=True, feature_range=(0, 1)), MaxAbsScaler(copy=True), RobustScaler(copy=True, quantile_range=(25.0, 75.0), with_centering=True,\n",
       "       with_scaling=True)]},\n",
       "       pre_dispatch='2*n_jobs', refit=True, return_train_score='warn',\n",
       "       scoring=None, verbose=5)"
      ]
     },
     "execution_count": 41,
     "metadata": {},
     "output_type": "execute_result"
    }
   ],
   "source": [
    "grid_bc = GridSearchCV(pipeline,param_grid=dict(scaler=scalers),cv=5, verbose=5, n_jobs=-1)\n",
    "grid_bc.fit(x_train_dict, y_train)"
   ]
  },
  {
   "cell_type": "code",
   "execution_count": 42,
   "metadata": {},
   "outputs": [
    {
     "name": "stdout",
     "output_type": "stream",
     "text": [
      "0.7015100564684982\n",
      "[('vectorizer', DictVectorizer(dtype=<class 'numpy.float64'>, separator='=', sort=True,\n",
      "        sparse=False)), ('scaler', MaxAbsScaler(copy=True)), ('model', BaggingClassifier(base_estimator=None, bootstrap=True,\n",
      "         bootstrap_features=False, max_features=1.0, max_samples=1.0,\n",
      "         n_estimators=10, n_jobs=-1, oob_score=False, random_state=None,\n",
      "         verbose=0, warm_start=False))]\n"
     ]
    }
   ],
   "source": [
    "print(grid_bc.best_score_)\n",
    "print(grid_bc.best_estimator_.steps)"
   ]
  },
  {
   "cell_type": "code",
   "execution_count": 43,
   "metadata": {
    "scrolled": false
   },
   "outputs": [
    {
     "data": {
      "text/html": [
       "<div>\n",
       "<style scoped>\n",
       "    .dataframe tbody tr th:only-of-type {\n",
       "        vertical-align: middle;\n",
       "    }\n",
       "\n",
       "    .dataframe tbody tr th {\n",
       "        vertical-align: top;\n",
       "    }\n",
       "\n",
       "    .dataframe thead th {\n",
       "        text-align: right;\n",
       "    }\n",
       "</style>\n",
       "<table border=\"1\" class=\"dataframe\">\n",
       "  <thead>\n",
       "    <tr style=\"text-align: right;\">\n",
       "      <th></th>\n",
       "      <th>mean_fit_time</th>\n",
       "      <th>std_fit_time</th>\n",
       "      <th>mean_score_time</th>\n",
       "      <th>std_score_time</th>\n",
       "      <th>param_scaler</th>\n",
       "      <th>params</th>\n",
       "      <th>split0_test_score</th>\n",
       "      <th>split1_test_score</th>\n",
       "      <th>split2_test_score</th>\n",
       "      <th>split3_test_score</th>\n",
       "      <th>...</th>\n",
       "      <th>mean_test_score</th>\n",
       "      <th>std_test_score</th>\n",
       "      <th>rank_test_score</th>\n",
       "      <th>split0_train_score</th>\n",
       "      <th>split1_train_score</th>\n",
       "      <th>split2_train_score</th>\n",
       "      <th>split3_train_score</th>\n",
       "      <th>split4_train_score</th>\n",
       "      <th>mean_train_score</th>\n",
       "      <th>std_train_score</th>\n",
       "    </tr>\n",
       "  </thead>\n",
       "  <tbody>\n",
       "    <tr>\n",
       "      <th>0</th>\n",
       "      <td>1.198086</td>\n",
       "      <td>0.074320</td>\n",
       "      <td>0.081228</td>\n",
       "      <td>0.007823</td>\n",
       "      <td>StandardScaler(copy=True, with_mean=True, with...</td>\n",
       "      <td>{'scaler': StandardScaler(copy=True, with_mean...</td>\n",
       "      <td>0.697844</td>\n",
       "      <td>0.698224</td>\n",
       "      <td>0.701459</td>\n",
       "      <td>0.695176</td>\n",
       "      <td>...</td>\n",
       "      <td>0.697671</td>\n",
       "      <td>0.002235</td>\n",
       "      <td>4</td>\n",
       "      <td>0.975371</td>\n",
       "      <td>0.973350</td>\n",
       "      <td>0.976644</td>\n",
       "      <td>0.975852</td>\n",
       "      <td>0.975178</td>\n",
       "      <td>0.975279</td>\n",
       "      <td>0.001089</td>\n",
       "    </tr>\n",
       "    <tr>\n",
       "      <th>1</th>\n",
       "      <td>3.070022</td>\n",
       "      <td>0.233845</td>\n",
       "      <td>0.139015</td>\n",
       "      <td>0.013698</td>\n",
       "      <td>Normalizer(copy=True, norm='l2')</td>\n",
       "      <td>{'scaler': Normalizer(copy=True, norm='l2')}</td>\n",
       "      <td>0.687223</td>\n",
       "      <td>0.699175</td>\n",
       "      <td>0.697494</td>\n",
       "      <td>0.683910</td>\n",
       "      <td>...</td>\n",
       "      <td>0.692532</td>\n",
       "      <td>0.005945</td>\n",
       "      <td>5</td>\n",
       "      <td>0.957127</td>\n",
       "      <td>0.957368</td>\n",
       "      <td>0.957253</td>\n",
       "      <td>0.957375</td>\n",
       "      <td>0.957811</td>\n",
       "      <td>0.957387</td>\n",
       "      <td>0.000231</td>\n",
       "    </tr>\n",
       "    <tr>\n",
       "      <th>2</th>\n",
       "      <td>1.704144</td>\n",
       "      <td>0.200334</td>\n",
       "      <td>0.123035</td>\n",
       "      <td>0.008896</td>\n",
       "      <td>MinMaxScaler(copy=True, feature_range=(0, 1))</td>\n",
       "      <td>{'scaler': MinMaxScaler(copy=True, feature_ran...</td>\n",
       "      <td>0.698003</td>\n",
       "      <td>0.701871</td>\n",
       "      <td>0.703680</td>\n",
       "      <td>0.691209</td>\n",
       "      <td>...</td>\n",
       "      <td>0.699702</td>\n",
       "      <td>0.004730</td>\n",
       "      <td>3</td>\n",
       "      <td>0.974538</td>\n",
       "      <td>0.975452</td>\n",
       "      <td>0.974701</td>\n",
       "      <td>0.975575</td>\n",
       "      <td>0.975099</td>\n",
       "      <td>0.975073</td>\n",
       "      <td>0.000405</td>\n",
       "    </tr>\n",
       "    <tr>\n",
       "      <th>3</th>\n",
       "      <td>1.900506</td>\n",
       "      <td>0.028042</td>\n",
       "      <td>0.147803</td>\n",
       "      <td>0.019733</td>\n",
       "      <td>MaxAbsScaler(copy=True)</td>\n",
       "      <td>{'scaler': MaxAbsScaler(copy=True)}</td>\n",
       "      <td>0.697527</td>\n",
       "      <td>0.699810</td>\n",
       "      <td>0.709708</td>\n",
       "      <td>0.697080</td>\n",
       "      <td>...</td>\n",
       "      <td>0.701510</td>\n",
       "      <td>0.004675</td>\n",
       "      <td>1</td>\n",
       "      <td>0.975648</td>\n",
       "      <td>0.973786</td>\n",
       "      <td>0.977357</td>\n",
       "      <td>0.975852</td>\n",
       "      <td>0.975496</td>\n",
       "      <td>0.975628</td>\n",
       "      <td>0.001136</td>\n",
       "    </tr>\n",
       "    <tr>\n",
       "      <th>4</th>\n",
       "      <td>1.776486</td>\n",
       "      <td>0.072086</td>\n",
       "      <td>0.094775</td>\n",
       "      <td>0.009417</td>\n",
       "      <td>RobustScaler(copy=True, quantile_range=(25.0, ...</td>\n",
       "      <td>{'scaler': RobustScaler(copy=True, quantile_ra...</td>\n",
       "      <td>0.698478</td>\n",
       "      <td>0.699017</td>\n",
       "      <td>0.703046</td>\n",
       "      <td>0.698032</td>\n",
       "      <td>...</td>\n",
       "      <td>0.700114</td>\n",
       "      <td>0.002018</td>\n",
       "      <td>2</td>\n",
       "      <td>0.974260</td>\n",
       "      <td>0.975809</td>\n",
       "      <td>0.974780</td>\n",
       "      <td>0.974425</td>\n",
       "      <td>0.976289</td>\n",
       "      <td>0.975113</td>\n",
       "      <td>0.000797</td>\n",
       "    </tr>\n",
       "  </tbody>\n",
       "</table>\n",
       "<p>5 rows × 21 columns</p>\n",
       "</div>"
      ],
      "text/plain": [
       "   mean_fit_time  std_fit_time  mean_score_time  std_score_time  \\\n",
       "0       1.198086      0.074320         0.081228        0.007823   \n",
       "1       3.070022      0.233845         0.139015        0.013698   \n",
       "2       1.704144      0.200334         0.123035        0.008896   \n",
       "3       1.900506      0.028042         0.147803        0.019733   \n",
       "4       1.776486      0.072086         0.094775        0.009417   \n",
       "\n",
       "                                        param_scaler  \\\n",
       "0  StandardScaler(copy=True, with_mean=True, with...   \n",
       "1                   Normalizer(copy=True, norm='l2')   \n",
       "2      MinMaxScaler(copy=True, feature_range=(0, 1))   \n",
       "3                            MaxAbsScaler(copy=True)   \n",
       "4  RobustScaler(copy=True, quantile_range=(25.0, ...   \n",
       "\n",
       "                                              params  split0_test_score  \\\n",
       "0  {'scaler': StandardScaler(copy=True, with_mean...           0.697844   \n",
       "1       {'scaler': Normalizer(copy=True, norm='l2')}           0.687223   \n",
       "2  {'scaler': MinMaxScaler(copy=True, feature_ran...           0.698003   \n",
       "3                {'scaler': MaxAbsScaler(copy=True)}           0.697527   \n",
       "4  {'scaler': RobustScaler(copy=True, quantile_ra...           0.698478   \n",
       "\n",
       "   split1_test_score  split2_test_score  split3_test_score       ...         \\\n",
       "0           0.698224           0.701459           0.695176       ...          \n",
       "1           0.699175           0.697494           0.683910       ...          \n",
       "2           0.701871           0.703680           0.691209       ...          \n",
       "3           0.699810           0.709708           0.697080       ...          \n",
       "4           0.699017           0.703046           0.698032       ...          \n",
       "\n",
       "   mean_test_score  std_test_score  rank_test_score  split0_train_score  \\\n",
       "0         0.697671        0.002235                4            0.975371   \n",
       "1         0.692532        0.005945                5            0.957127   \n",
       "2         0.699702        0.004730                3            0.974538   \n",
       "3         0.701510        0.004675                1            0.975648   \n",
       "4         0.700114        0.002018                2            0.974260   \n",
       "\n",
       "   split1_train_score  split2_train_score  split3_train_score  \\\n",
       "0            0.973350            0.976644            0.975852   \n",
       "1            0.957368            0.957253            0.957375   \n",
       "2            0.975452            0.974701            0.975575   \n",
       "3            0.973786            0.977357            0.975852   \n",
       "4            0.975809            0.974780            0.974425   \n",
       "\n",
       "   split4_train_score  mean_train_score  std_train_score  \n",
       "0            0.975178          0.975279         0.001089  \n",
       "1            0.957811          0.957387         0.000231  \n",
       "2            0.975099          0.975073         0.000405  \n",
       "3            0.975496          0.975628         0.001136  \n",
       "4            0.976289          0.975113         0.000797  \n",
       "\n",
       "[5 rows x 21 columns]"
      ]
     },
     "execution_count": 43,
     "metadata": {},
     "output_type": "execute_result"
    }
   ],
   "source": [
    "pd.DataFrame(grid_bc.cv_results_)"
   ]
  },
  {
   "cell_type": "markdown",
   "metadata": {},
   "source": [
    "### Parameter tuning"
   ]
  },
  {
   "cell_type": "code",
   "execution_count": 9,
   "metadata": {},
   "outputs": [],
   "source": [
    "x_train_dict = new_unique_df[features1].to_dict(orient=\"records\")\n",
    "y_train = new_unique_df['outcome_type']\n",
    "\n",
    "vec = DictVectorizer(sparse=False)\n",
    "vec.fit(x_train_dict)\n",
    "x_train = vec.transform(x_train_dict)\n",
    "\n",
    "scaler = MaxAbsScaler()\n",
    "scaler.fit(x_train)\n",
    "x_train_sc = scaler.transform(x_train)\n",
    "\n",
    "model = BaggingClassifier(n_jobs=-1)"
   ]
  },
  {
   "cell_type": "code",
   "execution_count": 10,
   "metadata": {},
   "outputs": [],
   "source": [
    "param_grid = {\n",
    "    'max_samples': [600,800,1000],\n",
    "    'max_features': [0.5, 0.75, 1],\n",
    "    'random_state': [10],\n",
    "    'n_estimators': [100, 200, 300, 500]\n",
    "}"
   ]
  },
  {
   "cell_type": "code",
   "execution_count": 11,
   "metadata": {},
   "outputs": [
    {
     "name": "stdout",
     "output_type": "stream",
     "text": [
      "Fitting 5 folds for each of 36 candidates, totalling 180 fits\n"
     ]
    },
    {
     "name": "stderr",
     "output_type": "stream",
     "text": [
      "[Parallel(n_jobs=-1)]: Using backend LokyBackend with 8 concurrent workers.\n",
      "[Parallel(n_jobs=-1)]: Done  25 tasks      | elapsed:   40.5s\n",
      "[Parallel(n_jobs=-1)]: Done 146 tasks      | elapsed:  3.1min\n",
      "[Parallel(n_jobs=-1)]: Done 180 out of 180 | elapsed:  3.4min finished\n"
     ]
    },
    {
     "data": {
      "text/plain": [
       "GridSearchCV(cv=5, error_score='raise-deprecating',\n",
       "       estimator=BaggingClassifier(base_estimator=None, bootstrap=True,\n",
       "         bootstrap_features=False, max_features=1.0, max_samples=1.0,\n",
       "         n_estimators=10, n_jobs=-1, oob_score=False, random_state=None,\n",
       "         verbose=0, warm_start=False),\n",
       "       fit_params=None, iid='warn', n_jobs=-1,\n",
       "       param_grid={'max_samples': [600, 800, 1000], 'max_features': [0.5, 0.75, 1], 'random_state': [10], 'n_estimators': [100, 200, 300, 500]},\n",
       "       pre_dispatch='2*n_jobs', refit=True, return_train_score='warn',\n",
       "       scoring=None, verbose=2)"
      ]
     },
     "execution_count": 11,
     "metadata": {},
     "output_type": "execute_result"
    }
   ],
   "source": [
    "grid_bc_p = GridSearchCV(model,param_grid=param_grid,cv=5, n_jobs=-1, verbose=2)\n",
    "grid_bc_p.fit(x_train_sc, y_train)"
   ]
  },
  {
   "cell_type": "code",
   "execution_count": 12,
   "metadata": {},
   "outputs": [
    {
     "name": "stdout",
     "output_type": "stream",
     "text": [
      "0.7329801408540068\n",
      "BaggingClassifier(base_estimator=None, bootstrap=True,\n",
      "         bootstrap_features=False, max_features=0.75, max_samples=1000,\n",
      "         n_estimators=500, n_jobs=-1, oob_score=False, random_state=10,\n",
      "         verbose=0, warm_start=False)\n"
     ]
    }
   ],
   "source": [
    "print(grid_bc_p.best_score_)\n",
    "print(grid_bc_p.best_estimator_)"
   ]
  },
  {
   "cell_type": "markdown",
   "metadata": {},
   "source": [
    "### Model Results"
   ]
  },
  {
   "cell_type": "markdown",
   "metadata": {},
   "source": [
    "accuracy = 0.7347884017511579\n",
    "\n",
    "scaler = Normalizer()\n",
    "\n",
    "features = features\n",
    "\n",
    "model = BaggingClassifier(base_estimator=None, bootstrap=True,\n",
    "         bootstrap_features=False, max_features=0.75, max_samples=1000,\n",
    "         n_estimators=200, n_jobs=-1, oob_score=False, random_state=10,\n",
    "         verbose=0, warm_start=False)"
   ]
  },
  {
   "cell_type": "markdown",
   "metadata": {},
   "source": [
    "## Predicting what will happen to a dog in the shelter\n",
    "* **Best Model: RandomForestClassifier**\n",
    "\n",
    "* 2nd Best Model: BaggingClassifier\n",
    "* 3rd Model: KNeighborsClassifier\n",
    "* Worst Model: LinearSVC"
   ]
  },
  {
   "cell_type": "markdown",
   "metadata": {},
   "source": [
    "### Fit the model"
   ]
  },
  {
   "cell_type": "code",
   "execution_count": 14,
   "metadata": {},
   "outputs": [
    {
     "data": {
      "text/plain": [
       "RandomForestClassifier(bootstrap=True, class_weight=None, criterion='gini',\n",
       "            max_depth=90, max_features=2, max_leaf_nodes=None,\n",
       "            min_impurity_decrease=0.0, min_impurity_split=None,\n",
       "            min_samples_leaf=2, min_samples_split=15,\n",
       "            min_weight_fraction_leaf=0.0, n_estimators=1000, n_jobs=-1,\n",
       "            oob_score=False, random_state=10, verbose=0, warm_start=False)"
      ]
     },
     "execution_count": 14,
     "metadata": {},
     "output_type": "execute_result"
    }
   ],
   "source": [
    "x_train_dict = new_unique_df[features].to_dict(orient=\"records\")\n",
    "y_train = new_unique_df['outcome_type']\n",
    "\n",
    "vec = DictVectorizer(sparse=False)\n",
    "vec.fit(x_train_dict)\n",
    "x_train = vec.transform(x_train_dict)\n",
    "\n",
    "scaler = Normalizer()\n",
    "scaler.fit(x_train)\n",
    "x_train_sc = scaler.transform(x_train)\n",
    "\n",
    "model = RandomForestClassifier(bootstrap=True, class_weight=None, criterion='gini', max_depth=90, \n",
    "                               max_features=2, max_leaf_nodes=None, min_impurity_decrease=0.0, \n",
    "                               min_impurity_split=None, min_samples_leaf=2, min_samples_split=15, \n",
    "                               min_weight_fraction_leaf=0.0, n_estimators=1000, n_jobs=-1, \n",
    "                               oob_score=False, random_state=10, verbose=0, warm_start=False)\n",
    "model.fit(x_train_sc, y_train)\n"
   ]
  },
  {
   "cell_type": "markdown",
   "metadata": {},
   "source": [
    "## Evaluating our best model"
   ]
  },
  {
   "cell_type": "code",
   "execution_count": 43,
   "metadata": {},
   "outputs": [],
   "source": [
    "y_train_pred = (model.predict(x_train_sc))"
   ]
  },
  {
   "cell_type": "markdown",
   "metadata": {},
   "source": [
    "### Training Accuracy"
   ]
  },
  {
   "cell_type": "code",
   "execution_count": 69,
   "metadata": {},
   "outputs": [
    {
     "data": {
      "text/plain": [
       "0.7854831546221687"
      ]
     },
     "execution_count": 69,
     "metadata": {},
     "output_type": "execute_result"
    }
   ],
   "source": [
    "accuracy_score(y_train, y_train_pred)"
   ]
  },
  {
   "cell_type": "markdown",
   "metadata": {},
   "source": [
    "### Training Precision"
   ]
  },
  {
   "cell_type": "code",
   "execution_count": 68,
   "metadata": {},
   "outputs": [
    {
     "name": "stdout",
     "output_type": "stream",
     "text": [
      "Transfer 0.7699004975124378\n",
      "Return to Owner 0.9263483265828182\n",
      "Adoption 0.716197409270956\n",
      "nan 0.0\n",
      "Died 0.0\n",
      "Euthanasia 0.8801652892561983\n",
      "Rto-Adopt 0.0\n",
      "Disposal 0.0\n",
      "Missing 0.0\n"
     ]
    }
   ],
   "source": [
    "for outcome_type in unique_df.outcome_type.unique():\n",
    "    print(outcome_type, precision_score(y_train==outcome_type, y_train_pred==outcome_type))"
   ]
  },
  {
   "cell_type": "markdown",
   "metadata": {},
   "source": [
    "### Training Recall"
   ]
  },
  {
   "cell_type": "code",
   "execution_count": 60,
   "metadata": {},
   "outputs": [
    {
     "name": "stdout",
     "output_type": "stream",
     "text": [
      "Transfer 0.3750378673129355\n",
      "Return to Owner 0.8716277203891285\n",
      "Adoption 0.9650198341146773\n",
      "nan 0.0\n",
      "Died 0.0\n",
      "Euthanasia 0.25326991676575505\n",
      "Rto-Adopt 0.0\n",
      "Disposal 0.0\n",
      "Missing 0.0\n"
     ]
    }
   ],
   "source": [
    "for outcome_type in unique_df.outcome_type.unique():\n",
    "    print(outcome_type, recall_score(y_train==outcome_type, y_train_pred==outcome_type))"
   ]
  },
  {
   "cell_type": "markdown",
   "metadata": {},
   "source": [
    "### Testing our model on a dog in the shelter"
   ]
  },
  {
   "cell_type": "code",
   "execution_count": 124,
   "metadata": {},
   "outputs": [],
   "source": [
    "# calculate an undaopted dog's time in shelter\n",
    "def calc_time_in_shelter(date_in):\n",
    "    time_in_shelter = pd.to_datetime('today') - pd.to_datetime(date_in)\n",
    "    time_in_shelter = (time_in_shelter.days*24*60*60 + time_in_shelter.seconds)/60\n",
    "    return time_in_shelter"
   ]
  },
  {
   "cell_type": "code",
   "execution_count": 125,
   "metadata": {},
   "outputs": [],
   "source": [
    "unadopted_dogs = unique_df.loc[unique_df.in_shelter == \"Yes\"]\n",
    "unadopted_dogs.time_in_shelter = unadopted_dogs.date_in.apply(calc_time_in_shelter)\n",
    "\n",
    "unadopted_dogs = unadopted_dogs[features]"
   ]
  },
  {
   "cell_type": "code",
   "execution_count": 126,
   "metadata": {},
   "outputs": [],
   "source": [
    "unadopted_dogs_dict = unadopted_dogs.to_dict(orient=\"records\")\n",
    "unadopted_dogs = vec.transform(unadopted_dogs_dict)\n",
    "unadopted_dogs_sc = scaler.transform(unadopted_dogs)\n",
    "\n",
    "y_test_preds = model.predict(unadopted_dogs_sc)"
   ]
  },
  {
   "cell_type": "code",
   "execution_count": 137,
   "metadata": {},
   "outputs": [
    {
     "data": {
      "text/plain": [
       "Adoption           356\n",
       "Return to Owner     38\n",
       "Transfer            31\n",
       "Name: 0, dtype: int64"
      ]
     },
     "execution_count": 137,
     "metadata": {},
     "output_type": "execute_result"
    }
   ],
   "source": [
    "pd.DataFrame(y_test_preds)[0].value_counts()"
   ]
  },
  {
   "cell_type": "code",
   "execution_count": 140,
   "metadata": {},
   "outputs": [
    {
     "data": {
      "text/plain": [
       "Adoption           0.837647\n",
       "Return to Owner    0.089412\n",
       "Transfer           0.072941\n",
       "Name: 0, dtype: float64"
      ]
     },
     "execution_count": 140,
     "metadata": {},
     "output_type": "execute_result"
    }
   ],
   "source": [
    "(pd.DataFrame(y_test_preds)[0].value_counts() / \n",
    " pd.DataFrame(y_test_preds)[0].value_counts().sum())"
   ]
  },
  {
   "cell_type": "code",
   "execution_count": 139,
   "metadata": {},
   "outputs": [
    {
     "data": {
      "text/plain": [
       "Adoption           0.453396\n",
       "Return to Owner    0.260584\n",
       "Transfer           0.243030\n",
       "Euthanasia         0.033974\n",
       "Died               0.004256\n",
       "Rto-Adopt          0.004155\n",
       "Disposal           0.000302\n",
       "Missing            0.000302\n",
       "Name: outcome_type, dtype: float64"
      ]
     },
     "execution_count": 139,
     "metadata": {},
     "output_type": "execute_result"
    }
   ],
   "source": [
    "(unique_df.loc[unique_df.in_shelter == \"No\"]['outcome_type'].value_counts() / \n",
    "unique_df.loc[unique_df.in_shelter == \"No\"]['outcome_type'].value_counts().sum())"
   ]
  },
  {
   "cell_type": "markdown",
   "metadata": {},
   "source": [
    "### Analysis\n",
    "\n",
    "**We predicted that 83% of the dogs currently in the shelter will be adopted. However, based on the dogs that are no longer in the shelter, only 45% were adopted. Also, our model never predicted that the dogs currently in the shelter will never be euthanized, die, be disposed of, or go missing.**"
   ]
  },
  {
   "cell_type": "markdown",
   "metadata": {},
   "source": [
    "## 2. Will your dog get adopted?"
   ]
  },
  {
   "cell_type": "code",
   "execution_count": 57,
   "metadata": {},
   "outputs": [
    {
     "data": {
      "text/html": [
       "<div>\n",
       "<style scoped>\n",
       "    .dataframe tbody tr th:only-of-type {\n",
       "        vertical-align: middle;\n",
       "    }\n",
       "\n",
       "    .dataframe tbody tr th {\n",
       "        vertical-align: top;\n",
       "    }\n",
       "\n",
       "    .dataframe thead th {\n",
       "        text-align: right;\n",
       "    }\n",
       "</style>\n",
       "<table border=\"1\" class=\"dataframe\">\n",
       "  <thead>\n",
       "    <tr style=\"text-align: right;\">\n",
       "      <th></th>\n",
       "      <th>is_mixed</th>\n",
       "      <th>intake_condition</th>\n",
       "      <th>intake_type</th>\n",
       "      <th>name</th>\n",
       "      <th>sex</th>\n",
       "      <th>fixed</th>\n",
       "      <th>time_in_shelter</th>\n",
       "      <th>has_name</th>\n",
       "      <th>age_in</th>\n",
       "      <th>outcome_type</th>\n",
       "    </tr>\n",
       "    <tr>\n",
       "      <th>animal_id</th>\n",
       "      <th></th>\n",
       "      <th></th>\n",
       "      <th></th>\n",
       "      <th></th>\n",
       "      <th></th>\n",
       "      <th></th>\n",
       "      <th></th>\n",
       "      <th></th>\n",
       "      <th></th>\n",
       "      <th></th>\n",
       "    </tr>\n",
       "  </thead>\n",
       "  <tbody>\n",
       "    <tr>\n",
       "      <th>A786884</th>\n",
       "      <td>1</td>\n",
       "      <td>Normal</td>\n",
       "      <td>Stray</td>\n",
       "      <td>Brock</td>\n",
       "      <td>Male</td>\n",
       "      <td>Yes</td>\n",
       "      <td>7132.0</td>\n",
       "      <td>1</td>\n",
       "      <td>2.000000</td>\n",
       "      <td>Transfer</td>\n",
       "    </tr>\n",
       "    <tr>\n",
       "      <th>A706918</th>\n",
       "      <td>0</td>\n",
       "      <td>Normal</td>\n",
       "      <td>Stray</td>\n",
       "      <td>Belle</td>\n",
       "      <td>Female</td>\n",
       "      <td>Yes</td>\n",
       "      <td>134.0</td>\n",
       "      <td>1</td>\n",
       "      <td>8.005479</td>\n",
       "      <td>Return to Owner</td>\n",
       "    </tr>\n",
       "    <tr>\n",
       "      <th>A724273</th>\n",
       "      <td>1</td>\n",
       "      <td>Normal</td>\n",
       "      <td>Stray</td>\n",
       "      <td>Runster</td>\n",
       "      <td>Male</td>\n",
       "      <td>No</td>\n",
       "      <td>9994.0</td>\n",
       "      <td>1</td>\n",
       "      <td>0.994521</td>\n",
       "      <td>Return to Owner</td>\n",
       "    </tr>\n",
       "    <tr>\n",
       "      <th>A778404</th>\n",
       "      <td>1</td>\n",
       "      <td>Normal</td>\n",
       "      <td>Owner Surrender</td>\n",
       "      <td>Max</td>\n",
       "      <td>Male</td>\n",
       "      <td>No</td>\n",
       "      <td>4784.0</td>\n",
       "      <td>1</td>\n",
       "      <td>4.002740</td>\n",
       "      <td>Adoption</td>\n",
       "    </tr>\n",
       "    <tr>\n",
       "      <th>A682524</th>\n",
       "      <td>1</td>\n",
       "      <td>Normal</td>\n",
       "      <td>Stray</td>\n",
       "      <td>Rio</td>\n",
       "      <td>Male</td>\n",
       "      <td>Yes</td>\n",
       "      <td>4538.0</td>\n",
       "      <td>1</td>\n",
       "      <td>4.002740</td>\n",
       "      <td>Return to Owner</td>\n",
       "    </tr>\n",
       "  </tbody>\n",
       "</table>\n",
       "</div>"
      ],
      "text/plain": [
       "           is_mixed intake_condition      intake_type     name     sex fixed  \\\n",
       "animal_id                                                                      \n",
       "A786884           1           Normal            Stray    Brock    Male   Yes   \n",
       "A706918           0           Normal            Stray    Belle  Female   Yes   \n",
       "A724273           1           Normal            Stray  Runster    Male    No   \n",
       "A778404           1           Normal  Owner Surrender      Max    Male    No   \n",
       "A682524           1           Normal            Stray      Rio    Male   Yes   \n",
       "\n",
       "           time_in_shelter  has_name    age_in     outcome_type  \n",
       "animal_id                                                        \n",
       "A786884             7132.0         1  2.000000         Transfer  \n",
       "A706918              134.0         1  8.005479  Return to Owner  \n",
       "A724273             9994.0         1  0.994521  Return to Owner  \n",
       "A778404             4784.0         1  4.002740         Adoption  \n",
       "A682524             4538.0         1  4.002740  Return to Owner  "
      ]
     },
     "execution_count": 57,
     "metadata": {},
     "output_type": "execute_result"
    }
   ],
   "source": [
    "new_unique_df.head()"
   ]
  },
  {
   "cell_type": "code",
   "execution_count": 142,
   "metadata": {},
   "outputs": [],
   "source": [
    "your_features1 = ['is_mixed','intake_condition', 'intake_type', 'sex', 'fixed', 'age_in', 'has_name']\n",
    "your_features2 = ['intake_condition', 'intake_type', 'sex', 'fixed', 'age_in', 'has_name']\n",
    "your_features3 = ['is_mixed', 'intake_type', 'sex', 'fixed', 'age_in', 'has_name']\n",
    "your_features4 = ['is_mixed', 'sex', 'fixed', 'age_in', 'has_name']\n",
    "your_features5 = ['intake_condition', 'sex', 'age_in', 'has_name']\n",
    "your_features6 = ['is_mixed', 'sex', 'fixed', 'age_in']\n",
    "your_features = [your_features1, your_features2, your_features3, your_features4, your_features5, your_features6]"
   ]
  },
  {
   "cell_type": "markdown",
   "metadata": {},
   "source": [
    "## Model: KNeighborsClassifier \n",
    "### Feature Selection"
   ]
  },
  {
   "cell_type": "code",
   "execution_count": 99,
   "metadata": {
    "scrolled": true
   },
   "outputs": [
    {
     "name": "stderr",
     "output_type": "stream",
     "text": [
      "[Parallel(n_jobs=1)]: Done   5 out of   5 | elapsed:   17.0s finished\n"
     ]
    },
    {
     "name": "stdout",
     "output_type": "stream",
     "text": [
      "['is_mixed', 'intake_condition', 'intake_type', 'sex', 'fixed', 'age_in', 'has_name'] 0.5821020606653055\n"
     ]
    },
    {
     "name": "stderr",
     "output_type": "stream",
     "text": [
      "[Parallel(n_jobs=1)]: Done   5 out of   5 | elapsed:   16.5s finished\n"
     ]
    },
    {
     "name": "stdout",
     "output_type": "stream",
     "text": [
      "['intake_condition', 'intake_type', 'sex', 'fixed', 'age_in', 'has_name'] 0.5824201244870114\n"
     ]
    },
    {
     "name": "stderr",
     "output_type": "stream",
     "text": [
      "[Parallel(n_jobs=1)]: Done   5 out of   5 | elapsed:    6.4s finished\n"
     ]
    },
    {
     "name": "stdout",
     "output_type": "stream",
     "text": [
      "['is_mixed', 'intake_type', 'sex', 'fixed', 'age_in', 'has_name'] 0.5778185926872705\n"
     ]
    },
    {
     "name": "stderr",
     "output_type": "stream",
     "text": [
      "[Parallel(n_jobs=1)]: Done   5 out of   5 | elapsed:    3.0s finished\n"
     ]
    },
    {
     "name": "stdout",
     "output_type": "stream",
     "text": [
      "['is_mixed', 'sex', 'fixed', 'age_in', 'has_name'] 0.5211608681390264\n"
     ]
    },
    {
     "name": "stderr",
     "output_type": "stream",
     "text": [
      "[Parallel(n_jobs=1)]: Done   5 out of   5 | elapsed:   14.3s finished\n"
     ]
    },
    {
     "name": "stdout",
     "output_type": "stream",
     "text": [
      "['intake_condition', 'sex', 'age_in', 'has_name'] 0.50456923284251\n",
      "['is_mixed', 'sex', 'fixed', 'age_in'] 0.5211608681390264\n"
     ]
    },
    {
     "name": "stderr",
     "output_type": "stream",
     "text": [
      "[Parallel(n_jobs=1)]: Done   5 out of   5 | elapsed:    2.8s finished\n"
     ]
    }
   ],
   "source": [
    "model = KNeighborsClassifier(n_neighbors=30, n_jobs=-1)\n",
    "vec = DictVectorizer(sparse=False)\n",
    "scaler = StandardScaler()\n",
    "\n",
    "pipeline = Pipeline([\n",
    "    (\"vectorizer\", vec), \n",
    "    (\"scaler\", scaler), \n",
    "    (\"model\", model)\n",
    "])\n",
    "\n",
    "\n",
    "for feat in your_features:\n",
    "    x_train_dict = new_unique_df[feat].to_dict(orient=\"records\")\n",
    "    y_train = new_unique_df['outcome_type']\n",
    "    print(feat, cross_val_score(pipeline, x_train_dict, y_train, cv=5, scoring=\"accuracy\", verbose=1).mean())"
   ]
  },
  {
   "cell_type": "markdown",
   "metadata": {},
   "source": [
    "### Scaler testing"
   ]
  },
  {
   "cell_type": "code",
   "execution_count": 102,
   "metadata": {},
   "outputs": [],
   "source": [
    "x_train_dict = new_unique_df[your_features2].to_dict(orient=\"records\")\n",
    "y_train = new_unique_df['outcome_type']"
   ]
  },
  {
   "cell_type": "code",
   "execution_count": 101,
   "metadata": {},
   "outputs": [],
   "source": [
    "scalers = [StandardScaler(), Normalizer(), MinMaxScaler(), MaxAbsScaler(), RobustScaler()]"
   ]
  },
  {
   "cell_type": "code",
   "execution_count": 103,
   "metadata": {},
   "outputs": [
    {
     "name": "stdout",
     "output_type": "stream",
     "text": [
      "Fitting 5 folds for each of 5 candidates, totalling 25 fits\n"
     ]
    },
    {
     "name": "stderr",
     "output_type": "stream",
     "text": [
      "[Parallel(n_jobs=-1)]: Done   2 tasks      | elapsed:   23.5s\n",
      "[Parallel(n_jobs=-1)]: Done  16 out of  25 | elapsed:  1.1min remaining:   36.6s\n",
      "[Parallel(n_jobs=-1)]: Done  22 out of  25 | elapsed:  1.3min remaining:   10.7s\n",
      "[Parallel(n_jobs=-1)]: Done  25 out of  25 | elapsed:  1.3min finished\n"
     ]
    },
    {
     "data": {
      "text/plain": [
       "GridSearchCV(cv=5, error_score='raise',\n",
       "       estimator=Pipeline(memory=None,\n",
       "     steps=[('vectorizer', DictVectorizer(dtype=<class 'numpy.float64'>, separator='=', sort=True,\n",
       "        sparse=False)), ('scaler', StandardScaler(copy=True, with_mean=True, with_std=True)), ('model', KNeighborsClassifier(algorithm='auto', leaf_size=30, metric='minkowski',\n",
       "           metric_params=None, n_jobs=-1, n_neighbors=30, p=2,\n",
       "           weights='uniform'))]),\n",
       "       fit_params=None, iid=True, n_jobs=-1,\n",
       "       param_grid={'scaler': [StandardScaler(copy=True, with_mean=True, with_std=True), Normalizer(copy=True, norm='l2'), MinMaxScaler(copy=True, feature_range=(0, 1)), MaxAbsScaler(copy=True), RobustScaler(copy=True, quantile_range=(25.0, 75.0), with_centering=True,\n",
       "       with_scaling=True)]},\n",
       "       pre_dispatch='2*n_jobs', refit=True, return_train_score='warn',\n",
       "       scoring=None, verbose=5)"
      ]
     },
     "execution_count": 103,
     "metadata": {},
     "output_type": "execute_result"
    }
   ],
   "source": [
    "grid_kn = GridSearchCV(pipeline,param_grid=dict(scaler=scalers),cv=5, verbose=5, n_jobs=-1)\n",
    "grid_kn.fit(x_train_dict, y_train)"
   ]
  },
  {
   "cell_type": "code",
   "execution_count": 104,
   "metadata": {},
   "outputs": [
    {
     "name": "stdout",
     "output_type": "stream",
     "text": [
      "0.5836241355243956\n",
      "[('vectorizer', DictVectorizer(dtype=<class 'numpy.float64'>, separator='=', sort=True,\n",
      "        sparse=False)), ('scaler', Normalizer(copy=True, norm='l2')), ('model', KNeighborsClassifier(algorithm='auto', leaf_size=30, metric='minkowski',\n",
      "           metric_params=None, n_jobs=-1, n_neighbors=30, p=2,\n",
      "           weights='uniform'))]\n"
     ]
    }
   ],
   "source": [
    "print(grid_kn.best_score_)\n",
    "print(grid_kn.best_estimator_.steps)"
   ]
  },
  {
   "cell_type": "code",
   "execution_count": 105,
   "metadata": {
    "scrolled": true
   },
   "outputs": [
    {
     "data": {
      "text/html": [
       "<div>\n",
       "<style scoped>\n",
       "    .dataframe tbody tr th:only-of-type {\n",
       "        vertical-align: middle;\n",
       "    }\n",
       "\n",
       "    .dataframe tbody tr th {\n",
       "        vertical-align: top;\n",
       "    }\n",
       "\n",
       "    .dataframe thead th {\n",
       "        text-align: right;\n",
       "    }\n",
       "</style>\n",
       "<table border=\"1\" class=\"dataframe\">\n",
       "  <thead>\n",
       "    <tr style=\"text-align: right;\">\n",
       "      <th></th>\n",
       "      <th>mean_fit_time</th>\n",
       "      <th>std_fit_time</th>\n",
       "      <th>mean_score_time</th>\n",
       "      <th>std_score_time</th>\n",
       "      <th>param_scaler</th>\n",
       "      <th>params</th>\n",
       "      <th>split0_test_score</th>\n",
       "      <th>split1_test_score</th>\n",
       "      <th>split2_test_score</th>\n",
       "      <th>split3_test_score</th>\n",
       "      <th>...</th>\n",
       "      <th>mean_test_score</th>\n",
       "      <th>std_test_score</th>\n",
       "      <th>rank_test_score</th>\n",
       "      <th>split0_train_score</th>\n",
       "      <th>split1_train_score</th>\n",
       "      <th>split2_train_score</th>\n",
       "      <th>split3_train_score</th>\n",
       "      <th>split4_train_score</th>\n",
       "      <th>mean_train_score</th>\n",
       "      <th>std_train_score</th>\n",
       "    </tr>\n",
       "  </thead>\n",
       "  <tbody>\n",
       "    <tr>\n",
       "      <th>0</th>\n",
       "      <td>3.325717</td>\n",
       "      <td>1.584996</td>\n",
       "      <td>5.858148</td>\n",
       "      <td>1.601921</td>\n",
       "      <td>StandardScaler(copy=True, with_mean=True, with...</td>\n",
       "      <td>{'scaler': StandardScaler(copy=True, with_mean...</td>\n",
       "      <td>0.571972</td>\n",
       "      <td>0.584681</td>\n",
       "      <td>0.585660</td>\n",
       "      <td>0.586322</td>\n",
       "      <td>...</td>\n",
       "      <td>0.582419</td>\n",
       "      <td>0.005313</td>\n",
       "      <td>2</td>\n",
       "      <td>0.593440</td>\n",
       "      <td>0.595733</td>\n",
       "      <td>0.593941</td>\n",
       "      <td>0.594409</td>\n",
       "      <td>0.595757</td>\n",
       "      <td>0.594656</td>\n",
       "      <td>0.000941</td>\n",
       "    </tr>\n",
       "    <tr>\n",
       "      <th>1</th>\n",
       "      <td>3.307196</td>\n",
       "      <td>1.115818</td>\n",
       "      <td>3.752201</td>\n",
       "      <td>0.997321</td>\n",
       "      <td>Normalizer(copy=True, norm='l2')</td>\n",
       "      <td>{'scaler': Normalizer(copy=True, norm='l2')}</td>\n",
       "      <td>0.576094</td>\n",
       "      <td>0.583095</td>\n",
       "      <td>0.587722</td>\n",
       "      <td>0.588385</td>\n",
       "      <td>...</td>\n",
       "      <td>0.583624</td>\n",
       "      <td>0.004407</td>\n",
       "      <td>1</td>\n",
       "      <td>0.594670</td>\n",
       "      <td>0.596129</td>\n",
       "      <td>0.594734</td>\n",
       "      <td>0.592149</td>\n",
       "      <td>0.594568</td>\n",
       "      <td>0.594450</td>\n",
       "      <td>0.001285</td>\n",
       "    </tr>\n",
       "    <tr>\n",
       "      <th>2</th>\n",
       "      <td>4.755791</td>\n",
       "      <td>1.219479</td>\n",
       "      <td>3.382347</td>\n",
       "      <td>1.178871</td>\n",
       "      <td>MinMaxScaler(copy=True, feature_range=(0, 1))</td>\n",
       "      <td>{'scaler': MinMaxScaler(copy=True, feature_ran...</td>\n",
       "      <td>0.579264</td>\n",
       "      <td>0.564859</td>\n",
       "      <td>0.583439</td>\n",
       "      <td>0.587591</td>\n",
       "      <td>...</td>\n",
       "      <td>0.579754</td>\n",
       "      <td>0.007901</td>\n",
       "      <td>3</td>\n",
       "      <td>0.597010</td>\n",
       "      <td>0.579434</td>\n",
       "      <td>0.591244</td>\n",
       "      <td>0.594251</td>\n",
       "      <td>0.597145</td>\n",
       "      <td>0.591817</td>\n",
       "      <td>0.006557</td>\n",
       "    </tr>\n",
       "    <tr>\n",
       "      <th>3</th>\n",
       "      <td>4.119946</td>\n",
       "      <td>1.098841</td>\n",
       "      <td>4.927525</td>\n",
       "      <td>1.620165</td>\n",
       "      <td>MaxAbsScaler(copy=True)</td>\n",
       "      <td>{'scaler': MaxAbsScaler(copy=True)}</td>\n",
       "      <td>0.579264</td>\n",
       "      <td>0.564383</td>\n",
       "      <td>0.583122</td>\n",
       "      <td>0.587274</td>\n",
       "      <td>...</td>\n",
       "      <td>0.579532</td>\n",
       "      <td>0.007989</td>\n",
       "      <td>4</td>\n",
       "      <td>0.596891</td>\n",
       "      <td>0.579196</td>\n",
       "      <td>0.590372</td>\n",
       "      <td>0.594132</td>\n",
       "      <td>0.597304</td>\n",
       "      <td>0.591579</td>\n",
       "      <td>0.006668</td>\n",
       "    </tr>\n",
       "    <tr>\n",
       "      <th>4</th>\n",
       "      <td>2.987427</td>\n",
       "      <td>0.311313</td>\n",
       "      <td>2.965020</td>\n",
       "      <td>0.534475</td>\n",
       "      <td>RobustScaler(copy=True, quantile_range=(25.0, ...</td>\n",
       "      <td>{'scaler': RobustScaler(copy=True, quantile_ra...</td>\n",
       "      <td>0.575935</td>\n",
       "      <td>0.562004</td>\n",
       "      <td>0.588515</td>\n",
       "      <td>0.582037</td>\n",
       "      <td>...</td>\n",
       "      <td>0.578104</td>\n",
       "      <td>0.008981</td>\n",
       "      <td>5</td>\n",
       "      <td>0.595661</td>\n",
       "      <td>0.577015</td>\n",
       "      <td>0.593901</td>\n",
       "      <td>0.586717</td>\n",
       "      <td>0.594568</td>\n",
       "      <td>0.589572</td>\n",
       "      <td>0.007023</td>\n",
       "    </tr>\n",
       "  </tbody>\n",
       "</table>\n",
       "<p>5 rows × 21 columns</p>\n",
       "</div>"
      ],
      "text/plain": [
       "   mean_fit_time  std_fit_time  mean_score_time  std_score_time  \\\n",
       "0       3.325717      1.584996         5.858148        1.601921   \n",
       "1       3.307196      1.115818         3.752201        0.997321   \n",
       "2       4.755791      1.219479         3.382347        1.178871   \n",
       "3       4.119946      1.098841         4.927525        1.620165   \n",
       "4       2.987427      0.311313         2.965020        0.534475   \n",
       "\n",
       "                                        param_scaler  \\\n",
       "0  StandardScaler(copy=True, with_mean=True, with...   \n",
       "1                   Normalizer(copy=True, norm='l2')   \n",
       "2      MinMaxScaler(copy=True, feature_range=(0, 1))   \n",
       "3                            MaxAbsScaler(copy=True)   \n",
       "4  RobustScaler(copy=True, quantile_range=(25.0, ...   \n",
       "\n",
       "                                              params  split0_test_score  \\\n",
       "0  {'scaler': StandardScaler(copy=True, with_mean...           0.571972   \n",
       "1       {'scaler': Normalizer(copy=True, norm='l2')}           0.576094   \n",
       "2  {'scaler': MinMaxScaler(copy=True, feature_ran...           0.579264   \n",
       "3                {'scaler': MaxAbsScaler(copy=True)}           0.579264   \n",
       "4  {'scaler': RobustScaler(copy=True, quantile_ra...           0.575935   \n",
       "\n",
       "   split1_test_score  split2_test_score  split3_test_score       ...         \\\n",
       "0           0.584681           0.585660           0.586322       ...          \n",
       "1           0.583095           0.587722           0.588385       ...          \n",
       "2           0.564859           0.583439           0.587591       ...          \n",
       "3           0.564383           0.583122           0.587274       ...          \n",
       "4           0.562004           0.588515           0.582037       ...          \n",
       "\n",
       "   mean_test_score  std_test_score  rank_test_score  split0_train_score  \\\n",
       "0         0.582419        0.005313                2            0.593440   \n",
       "1         0.583624        0.004407                1            0.594670   \n",
       "2         0.579754        0.007901                3            0.597010   \n",
       "3         0.579532        0.007989                4            0.596891   \n",
       "4         0.578104        0.008981                5            0.595661   \n",
       "\n",
       "   split1_train_score  split2_train_score  split3_train_score  \\\n",
       "0            0.595733            0.593941            0.594409   \n",
       "1            0.596129            0.594734            0.592149   \n",
       "2            0.579434            0.591244            0.594251   \n",
       "3            0.579196            0.590372            0.594132   \n",
       "4            0.577015            0.593901            0.586717   \n",
       "\n",
       "   split4_train_score  mean_train_score  std_train_score  \n",
       "0            0.595757          0.594656         0.000941  \n",
       "1            0.594568          0.594450         0.001285  \n",
       "2            0.597145          0.591817         0.006557  \n",
       "3            0.597304          0.591579         0.006668  \n",
       "4            0.594568          0.589572         0.007023  \n",
       "\n",
       "[5 rows x 21 columns]"
      ]
     },
     "execution_count": 105,
     "metadata": {},
     "output_type": "execute_result"
    }
   ],
   "source": [
    "pd.DataFrame(grid_kn.cv_results_)"
   ]
  },
  {
   "cell_type": "markdown",
   "metadata": {},
   "source": [
    "### K value testing"
   ]
  },
  {
   "cell_type": "code",
   "execution_count": 106,
   "metadata": {},
   "outputs": [],
   "source": [
    "x_train_dict = new_unique_df[your_features2].to_dict(orient=\"records\")\n",
    "y_train = new_unique_df['outcome_type']\n",
    "\n",
    "vec = DictVectorizer(sparse=False)\n",
    "vec.fit(x_train_dict)\n",
    "x_train = vec.transform(x_train_dict)\n",
    "\n",
    "scaler = RobustScaler()\n",
    "scaler.fit(x_train)\n",
    "x_train_sc = scaler.transform(x_train)\n",
    "\n",
    "model = KNeighborsClassifier(n_jobs=-1)"
   ]
  },
  {
   "cell_type": "code",
   "execution_count": 107,
   "metadata": {},
   "outputs": [],
   "source": [
    "ks = [5,10,20,30,40,50]"
   ]
  },
  {
   "cell_type": "code",
   "execution_count": 108,
   "metadata": {},
   "outputs": [
    {
     "data": {
      "text/plain": [
       "GridSearchCV(cv=5, error_score='raise',\n",
       "       estimator=KNeighborsClassifier(algorithm='auto', leaf_size=30, metric='minkowski',\n",
       "           metric_params=None, n_jobs=-1, n_neighbors=5, p=2,\n",
       "           weights='uniform'),\n",
       "       fit_params=None, iid=True, n_jobs=1,\n",
       "       param_grid={'n_neighbors': [5, 10, 20, 30, 40, 50]},\n",
       "       pre_dispatch='2*n_jobs', refit=True, return_train_score='warn',\n",
       "       scoring=None, verbose=0)"
      ]
     },
     "execution_count": 108,
     "metadata": {},
     "output_type": "execute_result"
    }
   ],
   "source": [
    "grid_kn_k = GridSearchCV(model,param_grid=dict(n_neighbors=ks),cv=5)\n",
    "grid_kn_k.fit(x_train_sc, y_train)"
   ]
  },
  {
   "cell_type": "code",
   "execution_count": 109,
   "metadata": {},
   "outputs": [
    {
     "name": "stdout",
     "output_type": "stream",
     "text": [
      "0.5852103292938265\n",
      "50\n"
     ]
    }
   ],
   "source": [
    "print(grid_kn_k.best_score_)\n",
    "print(grid_kn_k.best_estimator_.n_neighbors)"
   ]
  },
  {
   "cell_type": "code",
   "execution_count": 110,
   "metadata": {
    "scrolled": true
   },
   "outputs": [
    {
     "data": {
      "text/plain": [
       "<matplotlib.axes._subplots.AxesSubplot at 0x22c83162e10>"
      ]
     },
     "execution_count": 110,
     "metadata": {},
     "output_type": "execute_result"
    },
    {
     "data": {
      "image/png": "[encoded data removed]",
      "text/plain": [
       "<Figure size 432x288 with 1 Axes>"
      ]
     },
     "metadata": {},
     "output_type": "display_data"
    }
   ],
   "source": [
    "pd.DataFrame(grid_kn_k.cv_results_).set_index(\"param_n_neighbors\")['mean_test_score'].plot.line()"
   ]
  },
  {
   "cell_type": "markdown",
   "metadata": {},
   "source": [
    "### Model Results"
   ]
  },
  {
   "cell_type": "markdown",
   "metadata": {},
   "source": [
    "accuracy = 0.5852103292938265\n",
    "\n",
    "k = 50\n",
    "\n",
    "scaler = RobustScaler()\n",
    "\n",
    "features = your_features1\n",
    "\n",
    "model = KNeighborsClassifier(algorithm='auto', leaf_size=30, metric='minkowski',\n",
    "           metric_params=None, n_jobs=-1, n_neighbors=5, p=2,\n",
    "           weights='uniform'),\n",
    "       fit_params=None, iid='warn', n_jobs=None)"
   ]
  },
  {
   "cell_type": "markdown",
   "metadata": {},
   "source": [
    "## Model: RandomForestClassifier"
   ]
  },
  {
   "cell_type": "code",
   "execution_count": 70,
   "metadata": {},
   "outputs": [
    {
     "name": "stdout",
     "output_type": "stream",
     "text": [
      "['is_mixed', 'intake_condition', 'intake_type', 'sex', 'fixed', 'age_in', 'has_name'] 0.5573572834417051\n",
      "['intake_condition', 'intake_type', 'sex', 'fixed', 'age_in', 'has_name'] 0.560117919123176\n",
      "['is_mixed', 'intake_type', 'sex', 'fixed', 'age_in', 'has_name'] 0.5576118252178109\n",
      "['is_mixed', 'sex', 'fixed', 'age_in', 'has_name'] 0.5051411440320803\n",
      "['intake_condition', 'sex', 'age_in', 'has_name'] 0.49016599989010273\n",
      "['is_mixed', 'sex', 'fixed', 'age_in'] 0.5033957571438188\n"
     ]
    }
   ],
   "source": [
    "model = RandomForestClassifier(n_jobs=-1)\n",
    "vec = DictVectorizer(sparse=False)\n",
    "scaler = StandardScaler()\n",
    "\n",
    "pipeline = Pipeline([\n",
    "    (\"vectorizer\", vec), \n",
    "    (\"scaler\", scaler), \n",
    "    (\"model\", model)\n",
    "])\n",
    "\n",
    "\n",
    "for feat in your_features:\n",
    "    x_train_dict = new_unique_df[feat].to_dict(orient=\"records\")\n",
    "    y_train = new_unique_df['outcome_type']\n",
    "    print(feat, cross_val_score(pipeline, x_train_dict, y_train, cv=5, scoring=\"accuracy\").mean())"
   ]
  },
  {
   "cell_type": "markdown",
   "metadata": {},
   "source": [
    "### Scaler Testing"
   ]
  },
  {
   "cell_type": "code",
   "execution_count": 71,
   "metadata": {},
   "outputs": [],
   "source": [
    "x_train_dict = new_unique_df[your_features2].to_dict(orient=\"records\")\n",
    "y_train = new_unique_df['outcome_type']"
   ]
  },
  {
   "cell_type": "code",
   "execution_count": 72,
   "metadata": {},
   "outputs": [],
   "source": [
    "scalers = [StandardScaler(), Normalizer(), MinMaxScaler(), MaxAbsScaler(), RobustScaler()]"
   ]
  },
  {
   "cell_type": "code",
   "execution_count": 73,
   "metadata": {},
   "outputs": [
    {
     "name": "stdout",
     "output_type": "stream",
     "text": [
      "Fitting 5 folds for each of 5 candidates, totalling 25 fits\n"
     ]
    },
    {
     "name": "stderr",
     "output_type": "stream",
     "text": [
      "[Parallel(n_jobs=-1)]: Done   2 tasks      | elapsed:    2.2s\n",
      "[Parallel(n_jobs=-1)]: Done  16 out of  25 | elapsed:    7.3s remaining:    4.1s\n",
      "[Parallel(n_jobs=-1)]: Done  22 out of  25 | elapsed:    7.7s remaining:    1.0s\n",
      "[Parallel(n_jobs=-1)]: Done  25 out of  25 | elapsed:    8.3s finished\n"
     ]
    },
    {
     "data": {
      "text/plain": [
       "GridSearchCV(cv=5, error_score='raise',\n",
       "       estimator=Pipeline(memory=None,\n",
       "     steps=[('vectorizer', DictVectorizer(dtype=<class 'numpy.float64'>, separator='=', sort=True,\n",
       "        sparse=False)), ('scaler', StandardScaler(copy=True, with_mean=True, with_std=True)), ('model', RandomForestClassifier(bootstrap=True, class_weight=None, criterion='gini',\n",
       "            max_depth=None..._jobs=-1,\n",
       "            oob_score=False, random_state=None, verbose=0,\n",
       "            warm_start=False))]),\n",
       "       fit_params=None, iid=True, n_jobs=-1,\n",
       "       param_grid={'scaler': [StandardScaler(copy=True, with_mean=True, with_std=True), Normalizer(copy=True, norm='l2'), MinMaxScaler(copy=True, feature_range=(0, 1)), MaxAbsScaler(copy=True), RobustScaler(copy=True, quantile_range=(25.0, 75.0), with_centering=True,\n",
       "       with_scaling=True)]},\n",
       "       pre_dispatch='2*n_jobs', refit=True, return_train_score='warn',\n",
       "       scoring=None, verbose=5)"
      ]
     },
     "execution_count": 73,
     "metadata": {},
     "output_type": "execute_result"
    }
   ],
   "source": [
    "grid_rf = GridSearchCV(pipeline,param_grid=dict(scaler=scalers),cv=5, verbose=5, n_jobs=-1)\n",
    "grid_rf.fit(x_train_dict, y_train)"
   ]
  },
  {
   "cell_type": "code",
   "execution_count": 74,
   "metadata": {},
   "outputs": [
    {
     "name": "stdout",
     "output_type": "stream",
     "text": [
      "0.5603388109891504\n",
      "[('vectorizer', DictVectorizer(dtype=<class 'numpy.float64'>, separator='=', sort=True,\n",
      "        sparse=False)), ('scaler', StandardScaler(copy=True, with_mean=True, with_std=True)), ('model', RandomForestClassifier(bootstrap=True, class_weight=None, criterion='gini',\n",
      "            max_depth=None, max_features='auto', max_leaf_nodes=None,\n",
      "            min_impurity_decrease=0.0, min_impurity_split=None,\n",
      "            min_samples_leaf=1, min_samples_split=2,\n",
      "            min_weight_fraction_leaf=0.0, n_estimators=10, n_jobs=-1,\n",
      "            oob_score=False, random_state=None, verbose=0,\n",
      "            warm_start=False))]\n"
     ]
    }
   ],
   "source": [
    "print(grid_rf.best_score_)\n",
    "print(grid_rf.best_estimator_.steps)"
   ]
  },
  {
   "cell_type": "code",
   "execution_count": 75,
   "metadata": {
    "scrolled": false
   },
   "outputs": [
    {
     "data": {
      "text/html": [
       "<div>\n",
       "<style scoped>\n",
       "    .dataframe tbody tr th:only-of-type {\n",
       "        vertical-align: middle;\n",
       "    }\n",
       "\n",
       "    .dataframe tbody tr th {\n",
       "        vertical-align: top;\n",
       "    }\n",
       "\n",
       "    .dataframe thead th {\n",
       "        text-align: right;\n",
       "    }\n",
       "</style>\n",
       "<table border=\"1\" class=\"dataframe\">\n",
       "  <thead>\n",
       "    <tr style=\"text-align: right;\">\n",
       "      <th></th>\n",
       "      <th>mean_fit_time</th>\n",
       "      <th>std_fit_time</th>\n",
       "      <th>mean_score_time</th>\n",
       "      <th>std_score_time</th>\n",
       "      <th>param_scaler</th>\n",
       "      <th>params</th>\n",
       "      <th>split0_test_score</th>\n",
       "      <th>split1_test_score</th>\n",
       "      <th>split2_test_score</th>\n",
       "      <th>split3_test_score</th>\n",
       "      <th>...</th>\n",
       "      <th>mean_test_score</th>\n",
       "      <th>std_test_score</th>\n",
       "      <th>rank_test_score</th>\n",
       "      <th>split0_train_score</th>\n",
       "      <th>split1_train_score</th>\n",
       "      <th>split2_train_score</th>\n",
       "      <th>split3_train_score</th>\n",
       "      <th>split4_train_score</th>\n",
       "      <th>mean_train_score</th>\n",
       "      <th>std_train_score</th>\n",
       "    </tr>\n",
       "  </thead>\n",
       "  <tbody>\n",
       "    <tr>\n",
       "      <th>0</th>\n",
       "      <td>0.369064</td>\n",
       "      <td>0.029137</td>\n",
       "      <td>0.152427</td>\n",
       "      <td>0.003708</td>\n",
       "      <td>StandardScaler(copy=True, with_mean=True, with...</td>\n",
       "      <td>{'scaler': StandardScaler(copy=True, with_mean...</td>\n",
       "      <td>0.555485</td>\n",
       "      <td>0.555186</td>\n",
       "      <td>0.563135</td>\n",
       "      <td>0.567122</td>\n",
       "      <td>...</td>\n",
       "      <td>0.560339</td>\n",
       "      <td>0.004564</td>\n",
       "      <td>1</td>\n",
       "      <td>0.678234</td>\n",
       "      <td>0.678498</td>\n",
       "      <td>0.676818</td>\n",
       "      <td>0.676170</td>\n",
       "      <td>0.678707</td>\n",
       "      <td>0.677685</td>\n",
       "      <td>0.001006</td>\n",
       "    </tr>\n",
       "    <tr>\n",
       "      <th>1</th>\n",
       "      <td>0.503892</td>\n",
       "      <td>0.138838</td>\n",
       "      <td>0.201427</td>\n",
       "      <td>0.058907</td>\n",
       "      <td>Normalizer(copy=True, norm='l2')</td>\n",
       "      <td>{'scaler': Normalizer(copy=True, norm='l2')}</td>\n",
       "      <td>0.556119</td>\n",
       "      <td>0.553283</td>\n",
       "      <td>0.565831</td>\n",
       "      <td>0.562044</td>\n",
       "      <td>...</td>\n",
       "      <td>0.559451</td>\n",
       "      <td>0.004402</td>\n",
       "      <td>3</td>\n",
       "      <td>0.678234</td>\n",
       "      <td>0.680084</td>\n",
       "      <td>0.678880</td>\n",
       "      <td>0.677676</td>\n",
       "      <td>0.681364</td>\n",
       "      <td>0.679248</td>\n",
       "      <td>0.001327</td>\n",
       "    </tr>\n",
       "    <tr>\n",
       "      <th>2</th>\n",
       "      <td>0.684687</td>\n",
       "      <td>0.065767</td>\n",
       "      <td>0.189344</td>\n",
       "      <td>0.017661</td>\n",
       "      <td>MinMaxScaler(copy=True, feature_range=(0, 1))</td>\n",
       "      <td>{'scaler': MinMaxScaler(copy=True, feature_ran...</td>\n",
       "      <td>0.554534</td>\n",
       "      <td>0.553758</td>\n",
       "      <td>0.564245</td>\n",
       "      <td>0.566011</td>\n",
       "      <td>...</td>\n",
       "      <td>0.559387</td>\n",
       "      <td>0.004974</td>\n",
       "      <td>4</td>\n",
       "      <td>0.678512</td>\n",
       "      <td>0.679370</td>\n",
       "      <td>0.676541</td>\n",
       "      <td>0.675734</td>\n",
       "      <td>0.679302</td>\n",
       "      <td>0.677892</td>\n",
       "      <td>0.001486</td>\n",
       "    </tr>\n",
       "    <tr>\n",
       "      <th>3</th>\n",
       "      <td>0.618886</td>\n",
       "      <td>0.051515</td>\n",
       "      <td>0.208576</td>\n",
       "      <td>0.021267</td>\n",
       "      <td>MaxAbsScaler(copy=True)</td>\n",
       "      <td>{'scaler': MaxAbsScaler(copy=True)}</td>\n",
       "      <td>0.556278</td>\n",
       "      <td>0.557723</td>\n",
       "      <td>0.563610</td>\n",
       "      <td>0.565376</td>\n",
       "      <td>...</td>\n",
       "      <td>0.560022</td>\n",
       "      <td>0.003721</td>\n",
       "      <td>2</td>\n",
       "      <td>0.678036</td>\n",
       "      <td>0.678656</td>\n",
       "      <td>0.676501</td>\n",
       "      <td>0.675535</td>\n",
       "      <td>0.678628</td>\n",
       "      <td>0.677471</td>\n",
       "      <td>0.001245</td>\n",
       "    </tr>\n",
       "    <tr>\n",
       "      <th>4</th>\n",
       "      <td>0.566277</td>\n",
       "      <td>0.129148</td>\n",
       "      <td>0.156887</td>\n",
       "      <td>0.013699</td>\n",
       "      <td>RobustScaler(copy=True, quantile_range=(25.0, ...</td>\n",
       "      <td>{'scaler': RobustScaler(copy=True, quantile_ra...</td>\n",
       "      <td>0.550729</td>\n",
       "      <td>0.554710</td>\n",
       "      <td>0.563135</td>\n",
       "      <td>0.565217</td>\n",
       "      <td>...</td>\n",
       "      <td>0.557960</td>\n",
       "      <td>0.005405</td>\n",
       "      <td>5</td>\n",
       "      <td>0.678115</td>\n",
       "      <td>0.678299</td>\n",
       "      <td>0.677096</td>\n",
       "      <td>0.676209</td>\n",
       "      <td>0.678906</td>\n",
       "      <td>0.677725</td>\n",
       "      <td>0.000956</td>\n",
       "    </tr>\n",
       "  </tbody>\n",
       "</table>\n",
       "<p>5 rows × 21 columns</p>\n",
       "</div>"
      ],
      "text/plain": [
       "   mean_fit_time  std_fit_time  mean_score_time  std_score_time  \\\n",
       "0       0.369064      0.029137         0.152427        0.003708   \n",
       "1       0.503892      0.138838         0.201427        0.058907   \n",
       "2       0.684687      0.065767         0.189344        0.017661   \n",
       "3       0.618886      0.051515         0.208576        0.021267   \n",
       "4       0.566277      0.129148         0.156887        0.013699   \n",
       "\n",
       "                                        param_scaler  \\\n",
       "0  StandardScaler(copy=True, with_mean=True, with...   \n",
       "1                   Normalizer(copy=True, norm='l2')   \n",
       "2      MinMaxScaler(copy=True, feature_range=(0, 1))   \n",
       "3                            MaxAbsScaler(copy=True)   \n",
       "4  RobustScaler(copy=True, quantile_range=(25.0, ...   \n",
       "\n",
       "                                              params  split0_test_score  \\\n",
       "0  {'scaler': StandardScaler(copy=True, with_mean...           0.555485   \n",
       "1       {'scaler': Normalizer(copy=True, norm='l2')}           0.556119   \n",
       "2  {'scaler': MinMaxScaler(copy=True, feature_ran...           0.554534   \n",
       "3                {'scaler': MaxAbsScaler(copy=True)}           0.556278   \n",
       "4  {'scaler': RobustScaler(copy=True, quantile_ra...           0.550729   \n",
       "\n",
       "   split1_test_score  split2_test_score  split3_test_score       ...         \\\n",
       "0           0.555186           0.563135           0.567122       ...          \n",
       "1           0.553283           0.565831           0.562044       ...          \n",
       "2           0.553758           0.564245           0.566011       ...          \n",
       "3           0.557723           0.563610           0.565376       ...          \n",
       "4           0.554710           0.563135           0.565217       ...          \n",
       "\n",
       "   mean_test_score  std_test_score  rank_test_score  split0_train_score  \\\n",
       "0         0.560339        0.004564                1            0.678234   \n",
       "1         0.559451        0.004402                3            0.678234   \n",
       "2         0.559387        0.004974                4            0.678512   \n",
       "3         0.560022        0.003721                2            0.678036   \n",
       "4         0.557960        0.005405                5            0.678115   \n",
       "\n",
       "   split1_train_score  split2_train_score  split3_train_score  \\\n",
       "0            0.678498            0.676818            0.676170   \n",
       "1            0.680084            0.678880            0.677676   \n",
       "2            0.679370            0.676541            0.675734   \n",
       "3            0.678656            0.676501            0.675535   \n",
       "4            0.678299            0.677096            0.676209   \n",
       "\n",
       "   split4_train_score  mean_train_score  std_train_score  \n",
       "0            0.678707          0.677685         0.001006  \n",
       "1            0.681364          0.679248         0.001327  \n",
       "2            0.679302          0.677892         0.001486  \n",
       "3            0.678628          0.677471         0.001245  \n",
       "4            0.678906          0.677725         0.000956  \n",
       "\n",
       "[5 rows x 21 columns]"
      ]
     },
     "execution_count": 75,
     "metadata": {},
     "output_type": "execute_result"
    }
   ],
   "source": [
    "pd.DataFrame(grid_rf.cv_results_)"
   ]
  },
  {
   "cell_type": "markdown",
   "metadata": {},
   "source": [
    "### Parameter tuning"
   ]
  },
  {
   "cell_type": "code",
   "execution_count": 76,
   "metadata": {},
   "outputs": [],
   "source": [
    "x_train_dict = new_unique_df[your_features2].to_dict(orient=\"records\")\n",
    "y_train = new_unique_df['outcome_type']\n",
    "\n",
    "vec = DictVectorizer(sparse=False)\n",
    "vec.fit(x_train_dict)\n",
    "x_train = vec.transform(x_train_dict)\n",
    "\n",
    "scaler = Normalizer()\n",
    "scaler.fit(x_train)\n",
    "x_train_sc = scaler.transform(x_train)\n",
    "\n",
    "model = RandomForestClassifier(n_jobs=-1)"
   ]
  },
  {
   "cell_type": "code",
   "execution_count": 77,
   "metadata": {},
   "outputs": [],
   "source": [
    "param_grid = {\n",
    "    'bootstrap': [True],\n",
    "    'max_depth': [10, 50, 90, 100],\n",
    "    'max_features': [2, 3],\n",
    "    'random_state': [10],\n",
    "    'min_samples_leaf': [2, 3, 4],\n",
    "    'min_samples_split': [10, 12, 15],\n",
    "    'n_estimators': [300, 1000]\n",
    "}"
   ]
  },
  {
   "cell_type": "code",
   "execution_count": 78,
   "metadata": {
    "scrolled": true
   },
   "outputs": [
    {
     "name": "stdout",
     "output_type": "stream",
     "text": [
      "Fitting 5 folds for each of 144 candidates, totalling 720 fits\n"
     ]
    },
    {
     "name": "stderr",
     "output_type": "stream",
     "text": [
      "[Parallel(n_jobs=-1)]: Done  25 tasks      | elapsed:   52.7s\n",
      "[Parallel(n_jobs=-1)]: Done 146 tasks      | elapsed:  5.8min\n",
      "[Parallel(n_jobs=-1)]: Done 349 tasks      | elapsed: 16.0min\n",
      "[Parallel(n_jobs=-1)]: Done 632 tasks      | elapsed: 30.1min\n",
      "[Parallel(n_jobs=-1)]: Done 720 out of 720 | elapsed: 35.0min finished\n"
     ]
    },
    {
     "data": {
      "text/plain": [
       "GridSearchCV(cv=5, error_score='raise',\n",
       "       estimator=RandomForestClassifier(bootstrap=True, class_weight=None, criterion='gini',\n",
       "            max_depth=None, max_features='auto', max_leaf_nodes=None,\n",
       "            min_impurity_decrease=0.0, min_impurity_split=None,\n",
       "            min_samples_leaf=1, min_samples_split=2,\n",
       "            min_weight_fraction_leaf=0.0, n_estimators=10, n_jobs=-1,\n",
       "            oob_score=False, random_state=None, verbose=0,\n",
       "            warm_start=False),\n",
       "       fit_params=None, iid=True, n_jobs=-1,\n",
       "       param_grid={'bootstrap': [True], 'max_depth': [10, 50, 90, 100], 'max_features': [2, 3], 'random_state': [10], 'min_samples_leaf': [2, 3, 4], 'min_samples_split': [10, 12, 15], 'n_estimators': [300, 1000]},\n",
       "       pre_dispatch='2*n_jobs', refit=True, return_train_score='warn',\n",
       "       scoring=None, verbose=2)"
      ]
     },
     "execution_count": 78,
     "metadata": {},
     "output_type": "execute_result"
    }
   ],
   "source": [
    "grid_rf_p = GridSearchCV(model,param_grid=param_grid,cv=5, n_jobs=-1, verbose=2)\n",
    "grid_rf_p.fit(x_train_sc, y_train)"
   ]
  },
  {
   "cell_type": "code",
   "execution_count": 79,
   "metadata": {},
   "outputs": [
    {
     "name": "stdout",
     "output_type": "stream",
     "text": [
      "0.5921895818793224\n",
      "RandomForestClassifier(bootstrap=True, class_weight=None, criterion='gini',\n",
      "            max_depth=10, max_features=3, max_leaf_nodes=None,\n",
      "            min_impurity_decrease=0.0, min_impurity_split=None,\n",
      "            min_samples_leaf=2, min_samples_split=15,\n",
      "            min_weight_fraction_leaf=0.0, n_estimators=1000, n_jobs=-1,\n",
      "            oob_score=False, random_state=10, verbose=0, warm_start=False)\n"
     ]
    }
   ],
   "source": [
    "print(grid_rf_p.best_score_)\n",
    "print(grid_rf_p.best_estimator_)"
   ]
  },
  {
   "cell_type": "markdown",
   "metadata": {},
   "source": [
    "### Model Results"
   ]
  },
  {
   "cell_type": "markdown",
   "metadata": {},
   "source": [
    "accuracy = 0.5921895818793224\n",
    "\n",
    "scaler = Normalizer()\n",
    "\n",
    "features = your_features2\n",
    "\n",
    "model = RandomForestClassifier(bootstrap=True, class_weight=None, criterion='gini',\n",
    "            max_depth=90, max_features=2, max_leaf_nodes=None,\n",
    "            min_impurity_decrease=0.0, min_impurity_split=None,\n",
    "            min_samples_leaf=2, min_samples_split=15,\n",
    "            min_weight_fraction_leaf=0.0, n_estimators=1000, n_jobs=-1,\n",
    "            oob_score=False, random_state=10, verbose=0, warm_start=False)"
   ]
  },
  {
   "cell_type": "markdown",
   "metadata": {},
   "source": [
    "## Model: LinearSVC"
   ]
  },
  {
   "cell_type": "code",
   "execution_count": 80,
   "metadata": {},
   "outputs": [
    {
     "name": "stdout",
     "output_type": "stream",
     "text": [
      "[LibLinear][LibLinear][LibLinear][LibLinear][LibLinear]['is_mixed', 'intake_condition', 'intake_type', 'sex', 'fixed', 'age_in', 'has_name'] 0.5825460621524394\n",
      "[LibLinear][LibLinear][LibLinear][LibLinear][LibLinear]['intake_condition', 'intake_type', 'sex', 'fixed', 'age_in', 'has_name'] 0.5815626097334865\n",
      "[LibLinear][LibLinear][LibLinear][LibLinear][LibLinear]['is_mixed', 'intake_type', 'sex', 'fixed', 'age_in', 'has_name'] 0.5793419885715285\n",
      "[LibLinear][LibLinear][LibLinear][LibLinear][LibLinear]['is_mixed', 'sex', 'fixed', 'age_in', 'has_name'] 0.5220492634024069\n",
      "[LibLinear][LibLinear][LibLinear][LibLinear][LibLinear]['intake_condition', 'sex', 'age_in', 'has_name'] 0.5005709552426022\n",
      "[LibLinear][LibLinear][LibLinear][LibLinear][LibLinear]['is_mixed', 'sex', 'fixed', 'age_in'] 0.5220492634024069\n"
     ]
    }
   ],
   "source": [
    "model = LinearSVC(verbose=2)\n",
    "vec = DictVectorizer(sparse=False)\n",
    "scaler = StandardScaler()\n",
    "\n",
    "pipeline = Pipeline([\n",
    "    (\"vectorizer\", vec), \n",
    "    (\"scaler\", scaler), \n",
    "    (\"model\", model)\n",
    "])\n",
    "\n",
    "\n",
    "for feat in your_features:\n",
    "    x_train_dict = new_unique_df[feat].to_dict(orient=\"records\")\n",
    "    y_train = new_unique_df['outcome_type']\n",
    "    print(feat, cross_val_score(pipeline, x_train_dict, y_train, cv=5, scoring=\"accuracy\").mean())"
   ]
  },
  {
   "cell_type": "markdown",
   "metadata": {},
   "source": [
    "### Scaler Testing"
   ]
  },
  {
   "cell_type": "code",
   "execution_count": 81,
   "metadata": {},
   "outputs": [],
   "source": [
    "x_train_dict = new_unique_df[your_features2].to_dict(orient=\"records\")\n",
    "y_train = new_unique_df['outcome_type']"
   ]
  },
  {
   "cell_type": "code",
   "execution_count": 82,
   "metadata": {},
   "outputs": [],
   "source": [
    "scalers = [StandardScaler(), Normalizer(), MinMaxScaler(), MaxAbsScaler(), RobustScaler()]"
   ]
  },
  {
   "cell_type": "code",
   "execution_count": 83,
   "metadata": {},
   "outputs": [
    {
     "name": "stdout",
     "output_type": "stream",
     "text": [
      "Fitting 5 folds for each of 5 candidates, totalling 25 fits\n"
     ]
    },
    {
     "name": "stderr",
     "output_type": "stream",
     "text": [
      "[Parallel(n_jobs=-1)]: Done   2 tasks      | elapsed:    8.2s\n",
      "[Parallel(n_jobs=-1)]: Done  16 out of  25 | elapsed:   59.8s remaining:   33.6s\n",
      "[Parallel(n_jobs=-1)]: Done  22 out of  25 | elapsed:  1.2min remaining:    9.6s\n",
      "[Parallel(n_jobs=-1)]: Done  25 out of  25 | elapsed:  1.3min finished\n"
     ]
    },
    {
     "name": "stdout",
     "output_type": "stream",
     "text": [
      "[LibLinear]"
     ]
    },
    {
     "data": {
      "text/plain": [
       "GridSearchCV(cv=5, error_score='raise',\n",
       "       estimator=Pipeline(memory=None,\n",
       "     steps=[('vectorizer', DictVectorizer(dtype=<class 'numpy.float64'>, separator='=', sort=True,\n",
       "        sparse=False)), ('scaler', StandardScaler(copy=True, with_mean=True, with_std=True)), ('model', LinearSVC(C=1.0, class_weight=None, dual=True, fit_intercept=True,\n",
       "     intercept_scaling=1, loss='squared_hinge', max_iter=1000,\n",
       "     multi_class='ovr', penalty='l2', random_state=None, tol=0.0001,\n",
       "     verbose=2))]),\n",
       "       fit_params=None, iid=True, n_jobs=-1,\n",
       "       param_grid={'scaler': [StandardScaler(copy=True, with_mean=True, with_std=True), Normalizer(copy=True, norm='l2'), MinMaxScaler(copy=True, feature_range=(0, 1)), MaxAbsScaler(copy=True), RobustScaler(copy=True, quantile_range=(25.0, 75.0), with_centering=True,\n",
       "       with_scaling=True)]},\n",
       "       pre_dispatch='2*n_jobs', refit=True, return_train_score='warn',\n",
       "       scoring=None, verbose=5)"
      ]
     },
     "execution_count": 83,
     "metadata": {},
     "output_type": "execute_result"
    }
   ],
   "source": [
    "grid_ls = GridSearchCV(pipeline,param_grid=dict(scaler=scalers),cv=5, verbose=5, n_jobs=-1)\n",
    "grid_ls.fit(x_train_dict, y_train)"
   ]
  },
  {
   "cell_type": "code",
   "execution_count": 84,
   "metadata": {},
   "outputs": [
    {
     "name": "stdout",
     "output_type": "stream",
     "text": [
      "0.5817207030010786\n",
      "[('vectorizer', DictVectorizer(dtype=<class 'numpy.float64'>, separator='=', sort=True,\n",
      "        sparse=False)), ('scaler', RobustScaler(copy=True, quantile_range=(25.0, 75.0), with_centering=True,\n",
      "       with_scaling=True)), ('model', LinearSVC(C=1.0, class_weight=None, dual=True, fit_intercept=True,\n",
      "     intercept_scaling=1, loss='squared_hinge', max_iter=1000,\n",
      "     multi_class='ovr', penalty='l2', random_state=None, tol=0.0001,\n",
      "     verbose=2))]\n"
     ]
    }
   ],
   "source": [
    "print(grid_ls.best_score_)\n",
    "print(grid_ls.best_estimator_.steps)"
   ]
  },
  {
   "cell_type": "markdown",
   "metadata": {},
   "source": [
    "### Parameter tuning"
   ]
  },
  {
   "cell_type": "code",
   "execution_count": 85,
   "metadata": {},
   "outputs": [],
   "source": [
    "x_train_dict = new_unique_df[your_features2].to_dict(orient=\"records\")\n",
    "y_train = new_unique_df['outcome_type']\n",
    "\n",
    "vec = DictVectorizer(sparse=False)\n",
    "vec.fit(x_train_dict)\n",
    "x_train = vec.transform(x_train_dict)\n",
    "\n",
    "scaler = Normalizer()\n",
    "scaler.fit(x_train)\n",
    "x_train_sc = scaler.transform(x_train)\n",
    "\n",
    "model = LinearSVC()"
   ]
  },
  {
   "cell_type": "code",
   "execution_count": 86,
   "metadata": {},
   "outputs": [],
   "source": [
    "param_grid = {\n",
    "    'C': [0.001, 0.01, 0.1, 1, 10],\n",
    "    'max_iter': [500,1000,1500]\n",
    "}"
   ]
  },
  {
   "cell_type": "code",
   "execution_count": 87,
   "metadata": {},
   "outputs": [
    {
     "name": "stdout",
     "output_type": "stream",
     "text": [
      "Fitting 5 folds for each of 15 candidates, totalling 75 fits\n"
     ]
    },
    {
     "name": "stderr",
     "output_type": "stream",
     "text": [
      "[Parallel(n_jobs=-1)]: Done  25 tasks      | elapsed:    6.3s\n",
      "[Parallel(n_jobs=-1)]: Done  75 out of  75 | elapsed:   56.0s finished\n"
     ]
    },
    {
     "data": {
      "text/plain": [
       "GridSearchCV(cv=5, error_score='raise',\n",
       "       estimator=LinearSVC(C=1.0, class_weight=None, dual=True, fit_intercept=True,\n",
       "     intercept_scaling=1, loss='squared_hinge', max_iter=1000,\n",
       "     multi_class='ovr', penalty='l2', random_state=None, tol=0.0001,\n",
       "     verbose=0),\n",
       "       fit_params=None, iid=True, n_jobs=-1,\n",
       "       param_grid={'C': [0.001, 0.01, 0.1, 1, 10], 'max_iter': [500, 1000, 1500]},\n",
       "       pre_dispatch='2*n_jobs', refit=True, return_train_score='warn',\n",
       "       scoring=None, verbose=2)"
      ]
     },
     "execution_count": 87,
     "metadata": {},
     "output_type": "execute_result"
    }
   ],
   "source": [
    "grid_ls_p = GridSearchCV(model,param_grid=param_grid,cv=5, n_jobs=-1, verbose=2)\n",
    "grid_ls_p.fit(x_train_sc, y_train)"
   ]
  },
  {
   "cell_type": "code",
   "execution_count": 88,
   "metadata": {},
   "outputs": [
    {
     "name": "stdout",
     "output_type": "stream",
     "text": [
      "0.568333227587082\n",
      "LinearSVC(C=10, class_weight=None, dual=True, fit_intercept=True,\n",
      "     intercept_scaling=1, loss='squared_hinge', max_iter=500,\n",
      "     multi_class='ovr', penalty='l2', random_state=None, tol=0.0001,\n",
      "     verbose=0)\n"
     ]
    }
   ],
   "source": [
    "print(grid_ls_p.best_score_)\n",
    "print(grid_ls_p.best_estimator_)"
   ]
  },
  {
   "cell_type": "markdown",
   "metadata": {},
   "source": [
    "### Model Results"
   ]
  },
  {
   "cell_type": "markdown",
   "metadata": {},
   "source": [
    "accuracy = 0.568333227587082\n",
    "\n",
    "scaler = Normalizer()\n",
    "\n",
    "features = features\n",
    "\n",
    "model = LinearSVC(C=10, class_weight=None, dual=True, fit_intercept=True,\n",
    "     intercept_scaling=1, loss='squared_hinge', max_iter=500,\n",
    "     multi_class='ovr', penalty='l2', random_state=None, tol=0.0001,\n",
    "     verbose=0)"
   ]
  },
  {
   "cell_type": "markdown",
   "metadata": {},
   "source": [
    "## Model: BaggingClassifier"
   ]
  },
  {
   "cell_type": "code",
   "execution_count": 89,
   "metadata": {},
   "outputs": [
    {
     "name": "stdout",
     "output_type": "stream",
     "text": [
      "['is_mixed', 'intake_condition', 'intake_type', 'sex', 'fixed', 'age_in', 'has_name'] 0.5586577834647615\n",
      "['intake_condition', 'intake_type', 'sex', 'fixed', 'age_in', 'has_name'] 0.5605622126610765\n",
      "['is_mixed', 'intake_type', 'sex', 'fixed', 'age_in', 'has_name'] 0.5592935488012417\n",
      "['is_mixed', 'sex', 'fixed', 'age_in', 'has_name'] 0.5045376377427448\n",
      "['intake_condition', 'sex', 'age_in', 'has_name'] 0.4891822055630194\n",
      "['is_mixed', 'sex', 'fixed', 'age_in'] 0.5042838003603564\n"
     ]
    }
   ],
   "source": [
    "model = BaggingClassifier(n_jobs=-1)\n",
    "vec = DictVectorizer(sparse=False)\n",
    "scaler = StandardScaler()\n",
    "\n",
    "pipeline = Pipeline([\n",
    "    (\"vectorizer\", vec), \n",
    "    (\"scaler\", scaler), \n",
    "    (\"model\", model)\n",
    "])\n",
    "\n",
    "\n",
    "for feat in your_features:\n",
    "    x_train_dict = new_unique_df[feat].to_dict(orient=\"records\")\n",
    "    y_train = new_unique_df['outcome_type']\n",
    "    print(feat, cross_val_score(pipeline, x_train_dict, y_train, cv=5, scoring=\"accuracy\").mean())"
   ]
  },
  {
   "cell_type": "markdown",
   "metadata": {},
   "source": [
    "### Scaler Testing"
   ]
  },
  {
   "cell_type": "code",
   "execution_count": 90,
   "metadata": {},
   "outputs": [],
   "source": [
    "x_train_dict = new_unique_df[your_features1].to_dict(orient=\"records\")\n",
    "y_train = new_unique_df['outcome_type']"
   ]
  },
  {
   "cell_type": "code",
   "execution_count": 91,
   "metadata": {},
   "outputs": [],
   "source": [
    "scalers = [StandardScaler(), Normalizer(), MinMaxScaler(), MaxAbsScaler(), RobustScaler()]"
   ]
  },
  {
   "cell_type": "code",
   "execution_count": 92,
   "metadata": {},
   "outputs": [
    {
     "name": "stdout",
     "output_type": "stream",
     "text": [
      "Fitting 5 folds for each of 5 candidates, totalling 25 fits\n"
     ]
    },
    {
     "name": "stderr",
     "output_type": "stream",
     "text": [
      "[Parallel(n_jobs=-1)]: Done   2 tasks      | elapsed:    2.4s\n",
      "[Parallel(n_jobs=-1)]: Done  16 out of  25 | elapsed:    8.6s remaining:    4.8s\n",
      "[Parallel(n_jobs=-1)]: Done  22 out of  25 | elapsed:    9.8s remaining:    1.3s\n",
      "[Parallel(n_jobs=-1)]: Done  25 out of  25 | elapsed:   10.3s finished\n"
     ]
    },
    {
     "data": {
      "text/plain": [
       "GridSearchCV(cv=5, error_score='raise',\n",
       "       estimator=Pipeline(memory=None,\n",
       "     steps=[('vectorizer', DictVectorizer(dtype=<class 'numpy.float64'>, separator='=', sort=True,\n",
       "        sparse=False)), ('scaler', StandardScaler(copy=True, with_mean=True, with_std=True)), ('model', BaggingClassifier(base_estimator=None, bootstrap=True,\n",
       "         bootstrap_features=False, max_features=1.0, max_samples=1.0,\n",
       "         n_estimators=10, n_jobs=-1, oob_score=False, random_state=None,\n",
       "         verbose=0, warm_start=False))]),\n",
       "       fit_params=None, iid=True, n_jobs=-1,\n",
       "       param_grid={'scaler': [StandardScaler(copy=True, with_mean=True, with_std=True), Normalizer(copy=True, norm='l2'), MinMaxScaler(copy=True, feature_range=(0, 1)), MaxAbsScaler(copy=True), RobustScaler(copy=True, quantile_range=(25.0, 75.0), with_centering=True,\n",
       "       with_scaling=True)]},\n",
       "       pre_dispatch='2*n_jobs', refit=True, return_train_score='warn',\n",
       "       scoring=None, verbose=5)"
      ]
     },
     "execution_count": 92,
     "metadata": {},
     "output_type": "execute_result"
    }
   ],
   "source": [
    "grid_bc = GridSearchCV(pipeline,param_grid=dict(scaler=scalers),cv=5, verbose=5, n_jobs=-1)\n",
    "grid_bc.fit(x_train_dict, y_train)"
   ]
  },
  {
   "cell_type": "code",
   "execution_count": 93,
   "metadata": {},
   "outputs": [
    {
     "name": "stdout",
     "output_type": "stream",
     "text": [
      "0.560370534864539\n",
      "[('vectorizer', DictVectorizer(dtype=<class 'numpy.float64'>, separator='=', sort=True,\n",
      "        sparse=False)), ('scaler', StandardScaler(copy=True, with_mean=True, with_std=True)), ('model', BaggingClassifier(base_estimator=None, bootstrap=True,\n",
      "         bootstrap_features=False, max_features=1.0, max_samples=1.0,\n",
      "         n_estimators=10, n_jobs=-1, oob_score=False, random_state=None,\n",
      "         verbose=0, warm_start=False))]\n"
     ]
    }
   ],
   "source": [
    "print(grid_bc.best_score_)\n",
    "print(grid_bc.best_estimator_.steps)"
   ]
  },
  {
   "cell_type": "code",
   "execution_count": 94,
   "metadata": {
    "scrolled": false
   },
   "outputs": [
    {
     "data": {
      "text/html": [
       "<div>\n",
       "<style scoped>\n",
       "    .dataframe tbody tr th:only-of-type {\n",
       "        vertical-align: middle;\n",
       "    }\n",
       "\n",
       "    .dataframe tbody tr th {\n",
       "        vertical-align: top;\n",
       "    }\n",
       "\n",
       "    .dataframe thead th {\n",
       "        text-align: right;\n",
       "    }\n",
       "</style>\n",
       "<table border=\"1\" class=\"dataframe\">\n",
       "  <thead>\n",
       "    <tr style=\"text-align: right;\">\n",
       "      <th></th>\n",
       "      <th>mean_fit_time</th>\n",
       "      <th>std_fit_time</th>\n",
       "      <th>mean_score_time</th>\n",
       "      <th>std_score_time</th>\n",
       "      <th>param_scaler</th>\n",
       "      <th>params</th>\n",
       "      <th>split0_test_score</th>\n",
       "      <th>split1_test_score</th>\n",
       "      <th>split2_test_score</th>\n",
       "      <th>split3_test_score</th>\n",
       "      <th>...</th>\n",
       "      <th>mean_test_score</th>\n",
       "      <th>std_test_score</th>\n",
       "      <th>rank_test_score</th>\n",
       "      <th>split0_train_score</th>\n",
       "      <th>split1_train_score</th>\n",
       "      <th>split2_train_score</th>\n",
       "      <th>split3_train_score</th>\n",
       "      <th>split4_train_score</th>\n",
       "      <th>mean_train_score</th>\n",
       "      <th>std_train_score</th>\n",
       "    </tr>\n",
       "  </thead>\n",
       "  <tbody>\n",
       "    <tr>\n",
       "      <th>0</th>\n",
       "      <td>0.693277</td>\n",
       "      <td>0.063658</td>\n",
       "      <td>0.070887</td>\n",
       "      <td>0.003383</td>\n",
       "      <td>StandardScaler(copy=True, with_mean=True, with...</td>\n",
       "      <td>{'scaler': StandardScaler(copy=True, with_mean...</td>\n",
       "      <td>0.556595</td>\n",
       "      <td>0.555820</td>\n",
       "      <td>0.565990</td>\n",
       "      <td>0.568232</td>\n",
       "      <td>...</td>\n",
       "      <td>0.560371</td>\n",
       "      <td>0.005565</td>\n",
       "      <td>1</td>\n",
       "      <td>0.688863</td>\n",
       "      <td>0.688095</td>\n",
       "      <td>0.686970</td>\n",
       "      <td>0.686043</td>\n",
       "      <td>0.687946</td>\n",
       "      <td>0.687583</td>\n",
       "      <td>0.000978</td>\n",
       "    </tr>\n",
       "    <tr>\n",
       "      <th>1</th>\n",
       "      <td>1.703493</td>\n",
       "      <td>0.340098</td>\n",
       "      <td>0.123836</td>\n",
       "      <td>0.022457</td>\n",
       "      <td>Normalizer(copy=True, norm='l2')</td>\n",
       "      <td>{'scaler': Normalizer(copy=True, norm='l2')}</td>\n",
       "      <td>0.554217</td>\n",
       "      <td>0.555344</td>\n",
       "      <td>0.563610</td>\n",
       "      <td>0.559346</td>\n",
       "      <td>...</td>\n",
       "      <td>0.558150</td>\n",
       "      <td>0.003305</td>\n",
       "      <td>5</td>\n",
       "      <td>0.688030</td>\n",
       "      <td>0.687976</td>\n",
       "      <td>0.686533</td>\n",
       "      <td>0.684933</td>\n",
       "      <td>0.686875</td>\n",
       "      <td>0.686870</td>\n",
       "      <td>0.001135</td>\n",
       "    </tr>\n",
       "    <tr>\n",
       "      <th>2</th>\n",
       "      <td>0.984493</td>\n",
       "      <td>0.057858</td>\n",
       "      <td>0.131823</td>\n",
       "      <td>0.026012</td>\n",
       "      <td>MinMaxScaler(copy=True, feature_range=(0, 1))</td>\n",
       "      <td>{'scaler': MinMaxScaler(copy=True, feature_ran...</td>\n",
       "      <td>0.551363</td>\n",
       "      <td>0.557564</td>\n",
       "      <td>0.565514</td>\n",
       "      <td>0.562361</td>\n",
       "      <td>...</td>\n",
       "      <td>0.558467</td>\n",
       "      <td>0.004994</td>\n",
       "      <td>4</td>\n",
       "      <td>0.689220</td>\n",
       "      <td>0.688174</td>\n",
       "      <td>0.687604</td>\n",
       "      <td>0.684655</td>\n",
       "      <td>0.689413</td>\n",
       "      <td>0.687813</td>\n",
       "      <td>0.001714</td>\n",
       "    </tr>\n",
       "    <tr>\n",
       "      <th>3</th>\n",
       "      <td>1.146454</td>\n",
       "      <td>0.089750</td>\n",
       "      <td>0.138183</td>\n",
       "      <td>0.008665</td>\n",
       "      <td>MaxAbsScaler(copy=True)</td>\n",
       "      <td>{'scaler': MaxAbsScaler(copy=True)}</td>\n",
       "      <td>0.552156</td>\n",
       "      <td>0.558516</td>\n",
       "      <td>0.567735</td>\n",
       "      <td>0.567598</td>\n",
       "      <td>...</td>\n",
       "      <td>0.560339</td>\n",
       "      <td>0.006312</td>\n",
       "      <td>2</td>\n",
       "      <td>0.688863</td>\n",
       "      <td>0.687897</td>\n",
       "      <td>0.686692</td>\n",
       "      <td>0.685289</td>\n",
       "      <td>0.688660</td>\n",
       "      <td>0.687480</td>\n",
       "      <td>0.001334</td>\n",
       "    </tr>\n",
       "    <tr>\n",
       "      <th>4</th>\n",
       "      <td>1.129060</td>\n",
       "      <td>0.089202</td>\n",
       "      <td>0.115846</td>\n",
       "      <td>0.016759</td>\n",
       "      <td>RobustScaler(copy=True, quantile_range=(25.0, ...</td>\n",
       "      <td>{'scaler': RobustScaler(copy=True, quantile_ra...</td>\n",
       "      <td>0.551522</td>\n",
       "      <td>0.556930</td>\n",
       "      <td>0.564404</td>\n",
       "      <td>0.562520</td>\n",
       "      <td>...</td>\n",
       "      <td>0.558594</td>\n",
       "      <td>0.004538</td>\n",
       "      <td>3</td>\n",
       "      <td>0.687951</td>\n",
       "      <td>0.687936</td>\n",
       "      <td>0.686573</td>\n",
       "      <td>0.686241</td>\n",
       "      <td>0.688779</td>\n",
       "      <td>0.687496</td>\n",
       "      <td>0.000946</td>\n",
       "    </tr>\n",
       "  </tbody>\n",
       "</table>\n",
       "<p>5 rows × 21 columns</p>\n",
       "</div>"
      ],
      "text/plain": [
       "   mean_fit_time  std_fit_time  mean_score_time  std_score_time  \\\n",
       "0       0.693277      0.063658         0.070887        0.003383   \n",
       "1       1.703493      0.340098         0.123836        0.022457   \n",
       "2       0.984493      0.057858         0.131823        0.026012   \n",
       "3       1.146454      0.089750         0.138183        0.008665   \n",
       "4       1.129060      0.089202         0.115846        0.016759   \n",
       "\n",
       "                                        param_scaler  \\\n",
       "0  StandardScaler(copy=True, with_mean=True, with...   \n",
       "1                   Normalizer(copy=True, norm='l2')   \n",
       "2      MinMaxScaler(copy=True, feature_range=(0, 1))   \n",
       "3                            MaxAbsScaler(copy=True)   \n",
       "4  RobustScaler(copy=True, quantile_range=(25.0, ...   \n",
       "\n",
       "                                              params  split0_test_score  \\\n",
       "0  {'scaler': StandardScaler(copy=True, with_mean...           0.556595   \n",
       "1       {'scaler': Normalizer(copy=True, norm='l2')}           0.554217   \n",
       "2  {'scaler': MinMaxScaler(copy=True, feature_ran...           0.551363   \n",
       "3                {'scaler': MaxAbsScaler(copy=True)}           0.552156   \n",
       "4  {'scaler': RobustScaler(copy=True, quantile_ra...           0.551522   \n",
       "\n",
       "   split1_test_score  split2_test_score  split3_test_score       ...         \\\n",
       "0           0.555820           0.565990           0.568232       ...          \n",
       "1           0.555344           0.563610           0.559346       ...          \n",
       "2           0.557564           0.565514           0.562361       ...          \n",
       "3           0.558516           0.567735           0.567598       ...          \n",
       "4           0.556930           0.564404           0.562520       ...          \n",
       "\n",
       "   mean_test_score  std_test_score  rank_test_score  split0_train_score  \\\n",
       "0         0.560371        0.005565                1            0.688863   \n",
       "1         0.558150        0.003305                5            0.688030   \n",
       "2         0.558467        0.004994                4            0.689220   \n",
       "3         0.560339        0.006312                2            0.688863   \n",
       "4         0.558594        0.004538                3            0.687951   \n",
       "\n",
       "   split1_train_score  split2_train_score  split3_train_score  \\\n",
       "0            0.688095            0.686970            0.686043   \n",
       "1            0.687976            0.686533            0.684933   \n",
       "2            0.688174            0.687604            0.684655   \n",
       "3            0.687897            0.686692            0.685289   \n",
       "4            0.687936            0.686573            0.686241   \n",
       "\n",
       "   split4_train_score  mean_train_score  std_train_score  \n",
       "0            0.687946          0.687583         0.000978  \n",
       "1            0.686875          0.686870         0.001135  \n",
       "2            0.689413          0.687813         0.001714  \n",
       "3            0.688660          0.687480         0.001334  \n",
       "4            0.688779          0.687496         0.000946  \n",
       "\n",
       "[5 rows x 21 columns]"
      ]
     },
     "execution_count": 94,
     "metadata": {},
     "output_type": "execute_result"
    }
   ],
   "source": [
    "pd.DataFrame(grid_bc.cv_results_)"
   ]
  },
  {
   "cell_type": "markdown",
   "metadata": {},
   "source": [
    "### Parameter tuning"
   ]
  },
  {
   "cell_type": "code",
   "execution_count": 95,
   "metadata": {},
   "outputs": [],
   "source": [
    "x_train_dict = new_unique_df[your_features1].to_dict(orient=\"records\")\n",
    "y_train = new_unique_df['outcome_type']\n",
    "\n",
    "vec = DictVectorizer(sparse=False)\n",
    "vec.fit(x_train_dict)\n",
    "x_train = vec.transform(x_train_dict)\n",
    "\n",
    "scaler = Normalizer()\n",
    "scaler.fit(x_train)\n",
    "x_train_sc = scaler.transform(x_train)\n",
    "\n",
    "model = BaggingClassifier(n_jobs=-1)"
   ]
  },
  {
   "cell_type": "code",
   "execution_count": 96,
   "metadata": {},
   "outputs": [],
   "source": [
    "param_grid = {\n",
    "    'max_samples': [600,800,1000],\n",
    "    'max_features': [0.5, 0.75, 1],\n",
    "    'random_state': [10],\n",
    "    'n_estimators': [100, 200, 300, 500]\n",
    "}"
   ]
  },
  {
   "cell_type": "code",
   "execution_count": 97,
   "metadata": {},
   "outputs": [
    {
     "name": "stdout",
     "output_type": "stream",
     "text": [
      "Fitting 5 folds for each of 36 candidates, totalling 180 fits\n"
     ]
    },
    {
     "name": "stderr",
     "output_type": "stream",
     "text": [
      "[Parallel(n_jobs=-1)]: Done  25 tasks      | elapsed:   27.9s\n",
      "[Parallel(n_jobs=-1)]: Done 146 tasks      | elapsed:  2.7min\n",
      "[Parallel(n_jobs=-1)]: Done 180 out of 180 | elapsed:  3.0min finished\n"
     ]
    },
    {
     "data": {
      "text/plain": [
       "GridSearchCV(cv=5, error_score='raise',\n",
       "       estimator=BaggingClassifier(base_estimator=None, bootstrap=True,\n",
       "         bootstrap_features=False, max_features=1.0, max_samples=1.0,\n",
       "         n_estimators=10, n_jobs=-1, oob_score=False, random_state=None,\n",
       "         verbose=0, warm_start=False),\n",
       "       fit_params=None, iid=True, n_jobs=-1,\n",
       "       param_grid={'max_samples': [600, 800, 1000], 'max_features': [0.5, 0.75, 1], 'random_state': [10], 'n_estimators': [100, 200, 300, 500]},\n",
       "       pre_dispatch='2*n_jobs', refit=True, return_train_score='warn',\n",
       "       scoring=None, verbose=2)"
      ]
     },
     "execution_count": 97,
     "metadata": {},
     "output_type": "execute_result"
    }
   ],
   "source": [
    "grid_bc_p = GridSearchCV(model,param_grid=param_grid,cv=5, n_jobs=-1, verbose=2)\n",
    "grid_bc_p.fit(x_train_sc, y_train)"
   ]
  },
  {
   "cell_type": "code",
   "execution_count": 98,
   "metadata": {
    "scrolled": true
   },
   "outputs": [
    {
     "name": "stdout",
     "output_type": "stream",
     "text": [
      "0.5895565002220672\n",
      "BaggingClassifier(base_estimator=None, bootstrap=True,\n",
      "         bootstrap_features=False, max_features=0.75, max_samples=800,\n",
      "         n_estimators=500, n_jobs=-1, oob_score=False, random_state=10,\n",
      "         verbose=0, warm_start=False)\n"
     ]
    }
   ],
   "source": [
    "print(grid_bc_p.best_score_)\n",
    "print(grid_bc_p.best_estimator_)"
   ]
  },
  {
   "cell_type": "markdown",
   "metadata": {},
   "source": [
    "### Model Results"
   ]
  },
  {
   "cell_type": "markdown",
   "metadata": {},
   "source": [
    "accuracy = 0.5895565002220672\n",
    "\n",
    "scaler = Normalizer()\n",
    "\n",
    "features = features\n",
    "\n",
    "model = BaggingClassifier(base_estimator=None, bootstrap=True,\n",
    "         bootstrap_features=False, max_features=0.75, max_samples=800,\n",
    "         n_estimators=500, n_jobs=-1, oob_score=False, random_state=10,\n",
    "         verbose=0, warm_start=False)"
   ]
  },
  {
   "cell_type": "markdown",
   "metadata": {},
   "source": [
    "---"
   ]
  },
  {
   "cell_type": "markdown",
   "metadata": {},
   "source": [
    "## Predicting what will happen to your dog\n",
    "* **Best Model: RandomForestClassifier**\n",
    "\n",
    "* 2nd Best Model: BaggingClassifier\n",
    "* 3rd Model: KNeighborsClassifier\n",
    "* Worst Model: LinearSVC"
   ]
  },
  {
   "cell_type": "markdown",
   "metadata": {},
   "source": [
    "### Fit the model"
   ]
  },
  {
   "cell_type": "code",
   "execution_count": 143,
   "metadata": {},
   "outputs": [
    {
     "data": {
      "text/plain": [
       "RandomForestClassifier(bootstrap=True, class_weight=None, criterion='gini',\n",
       "            max_depth=10, max_features=3, max_leaf_nodes=None,\n",
       "            min_impurity_decrease=0.0, min_impurity_split=None,\n",
       "            min_samples_leaf=2, min_samples_split=15,\n",
       "            min_weight_fraction_leaf=0.0, n_estimators=1000, n_jobs=-1,\n",
       "            oob_score=False, random_state=10, verbose=0, warm_start=False)"
      ]
     },
     "execution_count": 143,
     "metadata": {},
     "output_type": "execute_result"
    }
   ],
   "source": [
    "x_train_dict = new_unique_df[your_features2].to_dict(orient=\"records\")\n",
    "y_train = new_unique_df['outcome_type']\n",
    "\n",
    "vec = DictVectorizer(sparse=False)\n",
    "vec.fit(x_train_dict)\n",
    "x_train = vec.transform(x_train_dict)\n",
    "\n",
    "scaler = StandardScaler()\n",
    "scaler.fit(x_train)\n",
    "x_train_sc = scaler.transform(x_train)\n",
    "\n",
    "model = RandomForestClassifier(bootstrap=True, class_weight=None, criterion='gini',\n",
    "            max_depth=10, max_features=3, max_leaf_nodes=None,\n",
    "            min_impurity_decrease=0.0, min_impurity_split=None,\n",
    "            min_samples_leaf=2, min_samples_split=15,\n",
    "            min_weight_fraction_leaf=0.0, n_estimators=1000, n_jobs=-1,\n",
    "            oob_score=False, random_state=10, verbose=0, warm_start=False)\n",
    "\n",
    "model.fit(x_train_sc, y_train)\n"
   ]
  },
  {
   "cell_type": "markdown",
   "metadata": {},
   "source": [
    "## Testing our best model"
   ]
  },
  {
   "cell_type": "markdown",
   "metadata": {},
   "source": [
    "#### Predicting outcome of Dog 1"
   ]
  },
  {
   "cell_type": "code",
   "execution_count": 162,
   "metadata": {},
   "outputs": [
    {
     "data": {
      "text/plain": [
       "array(['Euthanasia'], dtype=object)"
      ]
     },
     "execution_count": 162,
     "metadata": {},
     "output_type": "execute_result"
    }
   ],
   "source": [
    "new_dog = pd.DataFrame()\n",
    "new_dog['intake_condition'] = ['Sick']\n",
    "new_dog['intake_type'] = ['Owner Surrender']\n",
    "new_dog['sex'] = ['Male']\n",
    "new_dog['fixed'] = [\"Yes\"]\n",
    "new_dog['age_in'] = [15]\n",
    "new_dog['has_name'] = [1]\n",
    "\n",
    "new_dog = new_dog.to_dict(orient=\"records\")\n",
    "new_dog = vec.transform(new_dog)\n",
    "new_dog_sc = scaler.transform(new_dog)\n",
    "\n",
    "model.predict(new_dog_sc)"
   ]
  },
  {
   "cell_type": "markdown",
   "metadata": {},
   "source": [
    "#### Predicting outcome of Dog 2"
   ]
  },
  {
   "cell_type": "code",
   "execution_count": 163,
   "metadata": {},
   "outputs": [
    {
     "data": {
      "text/plain": [
       "array(['Adoption'], dtype=object)"
      ]
     },
     "execution_count": 163,
     "metadata": {},
     "output_type": "execute_result"
    }
   ],
   "source": [
    "new_dog_2 = pd.DataFrame()\n",
    "new_dog_2['intake_condition'] = ['Normal']\n",
    "new_dog_2['intake_type'] = ['Stray']\n",
    "new_dog_2['sex'] = ['Female']\n",
    "new_dog_2['fixed'] = [\"No\"]\n",
    "new_dog_2['age_in'] = [2]\n",
    "new_dog_2['has_name'] = [0]\n",
    "\n",
    "new_dog_2 = new_dog_2.to_dict(orient=\"records\")\n",
    "new_dog_2 = vec.transform(new_dog_2)\n",
    "new_dog_2_sc = scaler.transform(new_dog_2)\n",
    "\n",
    "model.predict(new_dog_2_sc)"
   ]
  },
  {
   "cell_type": "markdown",
   "metadata": {},
   "source": [
    "#### Predicting outcome of Dog 3"
   ]
  },
  {
   "cell_type": "code",
   "execution_count": 164,
   "metadata": {},
   "outputs": [
    {
     "data": {
      "text/plain": [
       "array(['Transfer'], dtype=object)"
      ]
     },
     "execution_count": 164,
     "metadata": {},
     "output_type": "execute_result"
    }
   ],
   "source": [
    "new_dog_3 = pd.DataFrame()\n",
    "new_dog_3['intake_condition'] = ['Feral']\n",
    "new_dog_3['intake_type'] = ['Stray']\n",
    "new_dog_3['sex'] = ['Male']\n",
    "new_dog_3['fixed'] = [\"No\"]\n",
    "new_dog_3['age_in'] = [4]\n",
    "new_dog_3['has_name'] = [0]\n",
    "\n",
    "new_dog_3 = new_dog_3.to_dict(orient=\"records\")\n",
    "new_dog_3 = vec.transform(new_dog_3)\n",
    "new_dog_3_sc = scaler.transform(new_dog_3)\n",
    "\n",
    "model.predict(new_dog_3_sc)"
   ]
  },
  {
   "cell_type": "markdown",
   "metadata": {},
   "source": [
    "### Analysis\n",
    "\n",
    "**Dog 1:** A sick, male, neutured dog that was surrendered by it's owner at 15 years old was predicted to be euthanized.\n",
    "\n",
    "**Dog 2:** A normal, female, unspayed, 2 year old, unnamed, stray dog was predicted to be Adopted. :)\n",
    "\n",
    "**Dog 3:** A feral, male, unneutered, 4 year old, unnamed dog was predicted to be Transfered."
   ]
  },
  {
   "cell_type": "code",
   "execution_count": null,
   "metadata": {},
   "outputs": [],
   "source": []
  }
 ],
 "metadata": {
  "kernelspec": {
   "display_name": "Python 3",
   "language": "python",
   "name": "python3"
  },
  "language_info": {
   "codemirror_mode": {
    "name": "ipython",
    "version": 3
   },
   "file_extension": ".py",
   "mimetype": "text/x-python",
   "name": "python",
   "nbconvert_exporter": "python",
   "pygments_lexer": "ipython3",
   "version": "3.6.8"
  }
 },
 "nbformat": 4,
 "nbformat_minor": 2
}
