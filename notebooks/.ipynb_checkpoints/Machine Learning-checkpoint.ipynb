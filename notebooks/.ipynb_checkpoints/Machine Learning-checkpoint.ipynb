{
 "cells": [
  {
   "cell_type": "markdown",
   "metadata": {},
   "source": [
    "# Machine Learning"
   ]
  },
  {
   "cell_type": "markdown",
   "metadata": {},
   "source": [
    "### Will a dog (already in the shelter) get adopted?\n",
    "* Predict outcome of a dog"
   ]
  },
  {
   "cell_type": "code",
   "execution_count": 29,
   "metadata": {},
   "outputs": [],
   "source": [
    "%matplotlib inline\n",
    "\n",
    "import numpy as np\n",
    "import pandas as pd\n",
    "\n",
    "from sklearn.preprocessing import StandardScaler, Normalizer, MinMaxScaler, MaxAbsScaler, RobustScaler\n",
    "from sklearn.feature_extraction import DictVectorizer\n",
    "from sklearn.pipeline import Pipeline\n",
    "\n",
    "from sklearn.svm import LinearSVC\n",
    "from sklearn.svm import SVC\n",
    "from sklearn.neighbors import KNeighborsClassifier\n",
    "from sklearn.ensemble import RandomForestClassifier\n",
    "from sklearn.ensemble import BaggingClassifier\n",
    "\n",
    "from sklearn.model_selection import GridSearchCV, cross_val_score\n",
    "from sklearn.metrics import precision_score, accuracy_score, f1_score, recall_score\n",
    "\n",
    "\n",
    "import warnings\n",
    "warnings.filterwarnings('ignore')"
   ]
  },
  {
   "cell_type": "code",
   "execution_count": 3,
   "metadata": {},
   "outputs": [],
   "source": [
    "unique_df = pd.read_csv(\"../data/unique_austin_shelter.csv\")\n",
    "unique_df.set_index(\"animal_id\", inplace=True)"
   ]
  },
  {
   "cell_type": "code",
   "execution_count": 21,
   "metadata": {},
   "outputs": [],
   "source": [
    "features = ['is_mixed','intake_condition', 'intake_type', 'sex', 'fixed', 'time_in_shelter', 'age_in']\n",
    "features1 = ['intake_condition', 'intake_type', 'sex', 'fixed', 'time_in_shelter', 'age_in']\n",
    "features2 = ['is_mixed', 'sex', 'fixed', 'time_in_shelter', 'age_in']\n",
    "features3 = ['intake_condition', 'sex', 'time_in_shelter', 'age_in']\n",
    "features4 = ['is_mixed', 'intake_type', 'sex', 'fixed', 'age_in']\n",
    "features5 = ['is_mixed', 'sex', 'fixed', 'age_in']"
   ]
  },
  {
   "cell_type": "code",
   "execution_count": 22,
   "metadata": {},
   "outputs": [],
   "source": [
    "new_unique_df = unique_df[unique_df.in_shelter == \"No\"][['is_mixed', 'intake_condition', 'intake_type', 'sex', 'fixed', 'time_in_shelter', 'age_in','outcome_type']]"
   ]
  },
  {
   "cell_type": "code",
   "execution_count": 23,
   "metadata": {},
   "outputs": [
    {
     "data": {
      "text/plain": [
       "dtype('float64')"
      ]
     },
     "execution_count": 23,
     "metadata": {},
     "output_type": "execute_result"
    }
   ],
   "source": [
    "temp = new_unique_df.time_in_shelter.apply(pd.to_timedelta)\n",
    "temp = temp.apply(lambda x:( x.days*24*60*60 + x.seconds)/60)\n",
    "new_unique_df.time_in_shelter = temp\n",
    "new_unique_df.time_in_shelter.dtype\n"
   ]
  },
  {
   "cell_type": "code",
   "execution_count": 24,
   "metadata": {},
   "outputs": [],
   "source": [
    "new_unique_df.dropna(inplace=True)"
   ]
  },
  {
   "cell_type": "markdown",
   "metadata": {},
   "source": [
    "**Hyperparameter Tuning**\n",
    "1. Features\n",
    "2. Scaling\n",
    "3. K "
   ]
  },
  {
   "cell_type": "code",
   "execution_count": 25,
   "metadata": {},
   "outputs": [
    {
     "data": {
      "text/html": [
       "<div>\n",
       "<style scoped>\n",
       "    .dataframe tbody tr th:only-of-type {\n",
       "        vertical-align: middle;\n",
       "    }\n",
       "\n",
       "    .dataframe tbody tr th {\n",
       "        vertical-align: top;\n",
       "    }\n",
       "\n",
       "    .dataframe thead th {\n",
       "        text-align: right;\n",
       "    }\n",
       "</style>\n",
       "<table border=\"1\" class=\"dataframe\">\n",
       "  <thead>\n",
       "    <tr style=\"text-align: right;\">\n",
       "      <th></th>\n",
       "      <th>is_mixed</th>\n",
       "      <th>intake_condition</th>\n",
       "      <th>intake_type</th>\n",
       "      <th>sex</th>\n",
       "      <th>fixed</th>\n",
       "      <th>time_in_shelter</th>\n",
       "      <th>age_in</th>\n",
       "      <th>outcome_type</th>\n",
       "    </tr>\n",
       "    <tr>\n",
       "      <th>animal_id</th>\n",
       "      <th></th>\n",
       "      <th></th>\n",
       "      <th></th>\n",
       "      <th></th>\n",
       "      <th></th>\n",
       "      <th></th>\n",
       "      <th></th>\n",
       "      <th></th>\n",
       "    </tr>\n",
       "  </thead>\n",
       "  <tbody>\n",
       "    <tr>\n",
       "      <th>A786884</th>\n",
       "      <td>1</td>\n",
       "      <td>Normal</td>\n",
       "      <td>Stray</td>\n",
       "      <td>Male</td>\n",
       "      <td>Yes</td>\n",
       "      <td>7132.0</td>\n",
       "      <td>2.0</td>\n",
       "      <td>Transfer</td>\n",
       "    </tr>\n",
       "    <tr>\n",
       "      <th>A706918</th>\n",
       "      <td>0</td>\n",
       "      <td>Normal</td>\n",
       "      <td>Stray</td>\n",
       "      <td>Female</td>\n",
       "      <td>Yes</td>\n",
       "      <td>134.0</td>\n",
       "      <td>8.0</td>\n",
       "      <td>Return to Owner</td>\n",
       "    </tr>\n",
       "    <tr>\n",
       "      <th>A724273</th>\n",
       "      <td>1</td>\n",
       "      <td>Normal</td>\n",
       "      <td>Stray</td>\n",
       "      <td>Male</td>\n",
       "      <td>No</td>\n",
       "      <td>9994.0</td>\n",
       "      <td>1.0</td>\n",
       "      <td>Return to Owner</td>\n",
       "    </tr>\n",
       "    <tr>\n",
       "      <th>A778404</th>\n",
       "      <td>1</td>\n",
       "      <td>Normal</td>\n",
       "      <td>Owner Surrender</td>\n",
       "      <td>Male</td>\n",
       "      <td>No</td>\n",
       "      <td>4784.0</td>\n",
       "      <td>4.0</td>\n",
       "      <td>Adoption</td>\n",
       "    </tr>\n",
       "    <tr>\n",
       "      <th>A682524</th>\n",
       "      <td>1</td>\n",
       "      <td>Normal</td>\n",
       "      <td>Stray</td>\n",
       "      <td>Male</td>\n",
       "      <td>Yes</td>\n",
       "      <td>4538.0</td>\n",
       "      <td>4.0</td>\n",
       "      <td>Return to Owner</td>\n",
       "    </tr>\n",
       "  </tbody>\n",
       "</table>\n",
       "</div>"
      ],
      "text/plain": [
       "           is_mixed intake_condition      intake_type     sex fixed  \\\n",
       "animal_id                                                             \n",
       "A786884           1           Normal            Stray    Male   Yes   \n",
       "A706918           0           Normal            Stray  Female   Yes   \n",
       "A724273           1           Normal            Stray    Male    No   \n",
       "A778404           1           Normal  Owner Surrender    Male    No   \n",
       "A682524           1           Normal            Stray    Male   Yes   \n",
       "\n",
       "           time_in_shelter  age_in     outcome_type  \n",
       "animal_id                                            \n",
       "A786884             7132.0     2.0         Transfer  \n",
       "A706918              134.0     8.0  Return to Owner  \n",
       "A724273             9994.0     1.0  Return to Owner  \n",
       "A778404             4784.0     4.0         Adoption  \n",
       "A682524             4538.0     4.0  Return to Owner  "
      ]
     },
     "execution_count": 25,
     "metadata": {},
     "output_type": "execute_result"
    }
   ],
   "source": [
    "new_unique_df.head()"
   ]
  },
  {
   "cell_type": "markdown",
   "metadata": {},
   "source": [
    "## Defining Training Data"
   ]
  },
  {
   "cell_type": "code",
   "execution_count": 26,
   "metadata": {},
   "outputs": [],
   "source": [
    "x_train_dict = new_unique_df[features].to_dict(orient=\"records\")\n",
    "y_train = new_unique_df['outcome_type']"
   ]
  },
  {
   "cell_type": "code",
   "execution_count": 27,
   "metadata": {},
   "outputs": [],
   "source": [
    "vec = DictVectorizer(sparse=False)\n",
    "vec.fit(x_train_dict)\n",
    "x_train = vec.transform(x_train_dict)\n",
    "\n",
    "scaler = Normalizer()\n",
    "scaler.fit(x_train)\n",
    "x_train_sc = scaler.transform(x_train)"
   ]
  },
  {
   "cell_type": "raw",
   "metadata": {},
   "source": [
    "model = KNeighborsClassifier(n_neighbors=9)\n",
    "vec = DictVectorizer(sparse=False)\n",
    "scaler = StandardScaler()\n",
    "\n",
    "pipeline = Pipeline([\n",
    "    (\"vectorizer\", vec), \n",
    "    (\"scaler\", scaler), \n",
    "    (\"model\", model)\n",
    "])"
   ]
  },
  {
   "cell_type": "markdown",
   "metadata": {},
   "source": [
    "## Model: KNeighborsClassifier \n",
    "### Feature Selection"
   ]
  },
  {
   "cell_type": "code",
   "execution_count": 28,
   "metadata": {},
   "outputs": [
    {
     "name": "stdout",
     "output_type": "stream",
     "text": [
      "['is_mixed', 'intake_condition', 'intake_type', 'sex', 'fixed', 'time_in_shelter', 'age_in'] 0.6971530504115181\n",
      "['intake_condition', 'intake_type', 'sex', 'fixed', 'time_in_shelter', 'age_in'] 0.70163558915865\n",
      "['is_mixed', 'sex', 'fixed', 'time_in_shelter', 'age_in'] 0.6404590170368781\n",
      "['intake_condition', 'sex', 'time_in_shelter', 'age_in'] 0.647650275690558\n",
      "['is_mixed', 'intake_type', 'sex', 'fixed', 'age_in'] 0.5567718064738866\n",
      "['is_mixed', 'sex', 'fixed', 'age_in'] 0.5119780145296502\n"
     ]
    }
   ],
   "source": [
    "model = KNeighborsClassifier(n_neighbors=30, n_jobs=-1)\n",
    "vec = DictVectorizer(sparse=False)\n",
    "scaler = StandardScaler()\n",
    "\n",
    "pipeline = Pipeline([\n",
    "    (\"vectorizer\", vec), \n",
    "    (\"scaler\", scaler), \n",
    "    (\"model\", model)\n",
    "])\n",
    "\n",
    "\n",
    "for feat in [features, features1, features2, features3, features4, features5]:\n",
    "    x_train_dict = new_unique_df[feat].to_dict(orient=\"records\")\n",
    "    y_train = new_unique_df['outcome_type']\n",
    "    print(feat, cross_val_score(pipeline, x_train_dict, y_train, cv=5, scoring=\"accuracy\").mean())"
   ]
  },
  {
   "cell_type": "markdown",
   "metadata": {},
   "source": [
    "features1 was the best"
   ]
  },
  {
   "cell_type": "markdown",
   "metadata": {},
   "source": [
    "### Scaler testing"
   ]
  },
  {
   "cell_type": "code",
   "execution_count": 36,
   "metadata": {},
   "outputs": [],
   "source": [
    "x_train_dict = new_unique_df[features1].to_dict(orient=\"records\")\n",
    "y_train = new_unique_df['outcome_type']"
   ]
  },
  {
   "cell_type": "code",
   "execution_count": 37,
   "metadata": {},
   "outputs": [],
   "source": [
    "scalers = [StandardScaler(), Normalizer(), MinMaxScaler(), MaxAbsScaler(), RobustScaler()]"
   ]
  },
  {
   "cell_type": "code",
   "execution_count": 38,
   "metadata": {},
   "outputs": [
    {
     "name": "stdout",
     "output_type": "stream",
     "text": [
      "Fitting 5 folds for each of 5 candidates, totalling 25 fits\n"
     ]
    },
    {
     "name": "stderr",
     "output_type": "stream",
     "text": [
      "[Parallel(n_jobs=-1)]: Using backend LokyBackend with 8 concurrent workers.\n",
      "[Parallel(n_jobs=-1)]: Done   2 tasks      | elapsed:   39.7s\n",
      "[Parallel(n_jobs=-1)]: Done  16 out of  25 | elapsed:  1.7min remaining:   58.8s\n",
      "[Parallel(n_jobs=-1)]: Done  22 out of  25 | elapsed:  2.0min remaining:   16.5s\n",
      "[Parallel(n_jobs=-1)]: Done  25 out of  25 | elapsed:  2.1min finished\n"
     ]
    },
    {
     "data": {
      "text/plain": [
       "GridSearchCV(cv=5, error_score='raise-deprecating',\n",
       "       estimator=Pipeline(memory=None,\n",
       "     steps=[('vectorizer', DictVectorizer(dtype=<class 'numpy.float64'>, separator='=', sort=True,\n",
       "        sparse=False)), ('scaler', StandardScaler(copy=True, with_mean=True, with_std=True)), ('model', KNeighborsClassifier(algorithm='auto', leaf_size=30, metric='minkowski',\n",
       "           metric_params=None, n_jobs=-1, n_neighbors=30, p=2,\n",
       "           weights='uniform'))]),\n",
       "       fit_params=None, iid='warn', n_jobs=-1,\n",
       "       param_grid={'scaler': [StandardScaler(copy=True, with_mean=True, with_std=True), Normalizer(copy=True, norm='l2'), MinMaxScaler(copy=True, feature_range=(0, 1)), MaxAbsScaler(copy=True), RobustScaler(copy=True, quantile_range=(25.0, 75.0), with_centering=True,\n",
       "       with_scaling=True)]},\n",
       "       pre_dispatch='2*n_jobs', refit=True, return_train_score='warn',\n",
       "       scoring=None, verbose=5)"
      ]
     },
     "execution_count": 38,
     "metadata": {},
     "output_type": "execute_result"
    }
   ],
   "source": [
    "grid = GridSearchCV(pipeline,param_grid=dict(scaler=scalers),cv=5, verbose=5, n_jobs=-1)\n",
    "grid.fit(x_train_dict, y_train)"
   ]
  },
  {
   "cell_type": "code",
   "execution_count": 39,
   "metadata": {},
   "outputs": [
    {
     "name": "stdout",
     "output_type": "stream",
     "text": [
      "0.7065734832371113\n",
      "[('vectorizer', DictVectorizer(dtype=<class 'numpy.float64'>, separator='=', sort=True,\n",
      "        sparse=False)), ('scaler', RobustScaler(copy=True, quantile_range=(25.0, 75.0), with_centering=True,\n",
      "       with_scaling=True)), ('model', KNeighborsClassifier(algorithm='auto', leaf_size=30, metric='minkowski',\n",
      "           metric_params=None, n_jobs=-1, n_neighbors=30, p=2,\n",
      "           weights='uniform'))]\n"
     ]
    }
   ],
   "source": [
    "print(grid.best_score_)\n",
    "print(grid.best_estimator_.steps)"
   ]
  },
  {
   "cell_type": "code",
   "execution_count": 40,
   "metadata": {
    "scrolled": true
   },
   "outputs": [
    {
     "data": {
      "text/html": [
       "<div>\n",
       "<style scoped>\n",
       "    .dataframe tbody tr th:only-of-type {\n",
       "        vertical-align: middle;\n",
       "    }\n",
       "\n",
       "    .dataframe tbody tr th {\n",
       "        vertical-align: top;\n",
       "    }\n",
       "\n",
       "    .dataframe thead th {\n",
       "        text-align: right;\n",
       "    }\n",
       "</style>\n",
       "<table border=\"1\" class=\"dataframe\">\n",
       "  <thead>\n",
       "    <tr style=\"text-align: right;\">\n",
       "      <th></th>\n",
       "      <th>mean_fit_time</th>\n",
       "      <th>std_fit_time</th>\n",
       "      <th>mean_score_time</th>\n",
       "      <th>std_score_time</th>\n",
       "      <th>param_scaler</th>\n",
       "      <th>params</th>\n",
       "      <th>split0_test_score</th>\n",
       "      <th>split1_test_score</th>\n",
       "      <th>split2_test_score</th>\n",
       "      <th>split3_test_score</th>\n",
       "      <th>...</th>\n",
       "      <th>mean_test_score</th>\n",
       "      <th>std_test_score</th>\n",
       "      <th>rank_test_score</th>\n",
       "      <th>split0_train_score</th>\n",
       "      <th>split1_train_score</th>\n",
       "      <th>split2_train_score</th>\n",
       "      <th>split3_train_score</th>\n",
       "      <th>split4_train_score</th>\n",
       "      <th>mean_train_score</th>\n",
       "      <th>std_train_score</th>\n",
       "    </tr>\n",
       "  </thead>\n",
       "  <tbody>\n",
       "    <tr>\n",
       "      <th>0</th>\n",
       "      <td>5.052805</td>\n",
       "      <td>2.826535</td>\n",
       "      <td>7.965209</td>\n",
       "      <td>3.085577</td>\n",
       "      <td>StandardScaler(copy=True, with_mean=True, with...</td>\n",
       "      <td>{'scaler': StandardScaler(copy=True, with_mean...</td>\n",
       "      <td>0.699190</td>\n",
       "      <td>0.706582</td>\n",
       "      <td>0.702925</td>\n",
       "      <td>0.702545</td>\n",
       "      <td>...</td>\n",
       "      <td>0.701636</td>\n",
       "      <td>0.003318</td>\n",
       "      <td>2</td>\n",
       "      <td>0.715290</td>\n",
       "      <td>0.713788</td>\n",
       "      <td>0.716094</td>\n",
       "      <td>0.715525</td>\n",
       "      <td>0.717116</td>\n",
       "      <td>0.715563</td>\n",
       "      <td>0.001088</td>\n",
       "    </tr>\n",
       "    <tr>\n",
       "      <th>1</th>\n",
       "      <td>2.966998</td>\n",
       "      <td>0.564824</td>\n",
       "      <td>5.674741</td>\n",
       "      <td>0.882539</td>\n",
       "      <td>Normalizer(copy=True, norm='l2')</td>\n",
       "      <td>{'scaler': Normalizer(copy=True, norm='l2')}</td>\n",
       "      <td>0.698810</td>\n",
       "      <td>0.707215</td>\n",
       "      <td>0.699380</td>\n",
       "      <td>0.699253</td>\n",
       "      <td>...</td>\n",
       "      <td>0.700344</td>\n",
       "      <td>0.003535</td>\n",
       "      <td>3</td>\n",
       "      <td>0.713928</td>\n",
       "      <td>0.711731</td>\n",
       "      <td>0.715145</td>\n",
       "      <td>0.714480</td>\n",
       "      <td>0.716388</td>\n",
       "      <td>0.714334</td>\n",
       "      <td>0.001539</td>\n",
       "    </tr>\n",
       "    <tr>\n",
       "      <th>2</th>\n",
       "      <td>3.812916</td>\n",
       "      <td>1.190793</td>\n",
       "      <td>4.673145</td>\n",
       "      <td>1.449552</td>\n",
       "      <td>MinMaxScaler(copy=True, feature_range=(0, 1))</td>\n",
       "      <td>{'scaler': MinMaxScaler(copy=True, feature_ran...</td>\n",
       "      <td>0.696786</td>\n",
       "      <td>0.699873</td>\n",
       "      <td>0.695327</td>\n",
       "      <td>0.698493</td>\n",
       "      <td>...</td>\n",
       "      <td>0.696647</td>\n",
       "      <td>0.002479</td>\n",
       "      <td>4</td>\n",
       "      <td>0.711301</td>\n",
       "      <td>0.709673</td>\n",
       "      <td>0.711568</td>\n",
       "      <td>0.711537</td>\n",
       "      <td>0.712654</td>\n",
       "      <td>0.711347</td>\n",
       "      <td>0.000959</td>\n",
       "    </tr>\n",
       "    <tr>\n",
       "      <th>3</th>\n",
       "      <td>5.145111</td>\n",
       "      <td>0.846617</td>\n",
       "      <td>7.430025</td>\n",
       "      <td>0.390906</td>\n",
       "      <td>MaxAbsScaler(copy=True)</td>\n",
       "      <td>{'scaler': MaxAbsScaler(copy=True)}</td>\n",
       "      <td>0.696786</td>\n",
       "      <td>0.699747</td>\n",
       "      <td>0.694821</td>\n",
       "      <td>0.698620</td>\n",
       "      <td>...</td>\n",
       "      <td>0.696495</td>\n",
       "      <td>0.002604</td>\n",
       "      <td>5</td>\n",
       "      <td>0.711206</td>\n",
       "      <td>0.709452</td>\n",
       "      <td>0.711505</td>\n",
       "      <td>0.711537</td>\n",
       "      <td>0.712590</td>\n",
       "      <td>0.711258</td>\n",
       "      <td>0.001018</td>\n",
       "    </tr>\n",
       "    <tr>\n",
       "      <th>4</th>\n",
       "      <td>2.040941</td>\n",
       "      <td>0.654370</td>\n",
       "      <td>3.469866</td>\n",
       "      <td>1.585345</td>\n",
       "      <td>RobustScaler(copy=True, quantile_range=(25.0, ...</td>\n",
       "      <td>{'scaler': RobustScaler(copy=True, quantile_ra...</td>\n",
       "      <td>0.703493</td>\n",
       "      <td>0.711013</td>\n",
       "      <td>0.706597</td>\n",
       "      <td>0.706091</td>\n",
       "      <td>...</td>\n",
       "      <td>0.706573</td>\n",
       "      <td>0.002460</td>\n",
       "      <td>1</td>\n",
       "      <td>0.718740</td>\n",
       "      <td>0.717840</td>\n",
       "      <td>0.719639</td>\n",
       "      <td>0.721190</td>\n",
       "      <td>0.721389</td>\n",
       "      <td>0.719760</td>\n",
       "      <td>0.001374</td>\n",
       "    </tr>\n",
       "  </tbody>\n",
       "</table>\n",
       "<p>5 rows × 21 columns</p>\n",
       "</div>"
      ],
      "text/plain": [
       "   mean_fit_time  std_fit_time  mean_score_time  std_score_time  \\\n",
       "0       5.052805      2.826535         7.965209        3.085577   \n",
       "1       2.966998      0.564824         5.674741        0.882539   \n",
       "2       3.812916      1.190793         4.673145        1.449552   \n",
       "3       5.145111      0.846617         7.430025        0.390906   \n",
       "4       2.040941      0.654370         3.469866        1.585345   \n",
       "\n",
       "                                        param_scaler  \\\n",
       "0  StandardScaler(copy=True, with_mean=True, with...   \n",
       "1                   Normalizer(copy=True, norm='l2')   \n",
       "2      MinMaxScaler(copy=True, feature_range=(0, 1))   \n",
       "3                            MaxAbsScaler(copy=True)   \n",
       "4  RobustScaler(copy=True, quantile_range=(25.0, ...   \n",
       "\n",
       "                                              params  split0_test_score  \\\n",
       "0  {'scaler': StandardScaler(copy=True, with_mean...           0.699190   \n",
       "1       {'scaler': Normalizer(copy=True, norm='l2')}           0.698810   \n",
       "2  {'scaler': MinMaxScaler(copy=True, feature_ran...           0.696786   \n",
       "3                {'scaler': MaxAbsScaler(copy=True)}           0.696786   \n",
       "4  {'scaler': RobustScaler(copy=True, quantile_ra...           0.703493   \n",
       "\n",
       "   split1_test_score  split2_test_score  split3_test_score  ...  \\\n",
       "0           0.706582           0.702925           0.702545  ...   \n",
       "1           0.707215           0.699380           0.699253  ...   \n",
       "2           0.699873           0.695327           0.698493  ...   \n",
       "3           0.699747           0.694821           0.698620  ...   \n",
       "4           0.711013           0.706597           0.706091  ...   \n",
       "\n",
       "   mean_test_score  std_test_score  rank_test_score  split0_train_score  \\\n",
       "0         0.701636        0.003318                2            0.715290   \n",
       "1         0.700344        0.003535                3            0.713928   \n",
       "2         0.696647        0.002479                4            0.711301   \n",
       "3         0.696495        0.002604                5            0.711206   \n",
       "4         0.706573        0.002460                1            0.718740   \n",
       "\n",
       "   split1_train_score  split2_train_score  split3_train_score  \\\n",
       "0            0.713788            0.716094            0.715525   \n",
       "1            0.711731            0.715145            0.714480   \n",
       "2            0.709673            0.711568            0.711537   \n",
       "3            0.709452            0.711505            0.711537   \n",
       "4            0.717840            0.719639            0.721190   \n",
       "\n",
       "   split4_train_score  mean_train_score  std_train_score  \n",
       "0            0.717116          0.715563         0.001088  \n",
       "1            0.716388          0.714334         0.001539  \n",
       "2            0.712654          0.711347         0.000959  \n",
       "3            0.712590          0.711258         0.001018  \n",
       "4            0.721389          0.719760         0.001374  \n",
       "\n",
       "[5 rows x 21 columns]"
      ]
     },
     "execution_count": 40,
     "metadata": {},
     "output_type": "execute_result"
    }
   ],
   "source": [
    "pd.DataFrame(grid.cv_results_)"
   ]
  },
  {
   "cell_type": "markdown",
   "metadata": {},
   "source": [
    "Robust scaler is the best"
   ]
  },
  {
   "cell_type": "markdown",
   "metadata": {},
   "source": [
    "### K value testing"
   ]
  },
  {
   "cell_type": "code",
   "execution_count": 43,
   "metadata": {},
   "outputs": [],
   "source": [
    "x_train_dict = new_unique_df[features1].to_dict(orient=\"records\")\n",
    "y_train = new_unique_df['outcome_type']\n",
    "\n",
    "vec = DictVectorizer(sparse=False)\n",
    "vec.fit(x_train_dict)\n",
    "x_train = vec.transform(x_train_dict)\n",
    "\n",
    "scaler = RobustScaler()\n",
    "scaler.fit(x_train)\n",
    "x_train_sc = scaler.transform(x_train)\n",
    "\n",
    "model = KNeighborsClassifier(n_jobs=-1)"
   ]
  },
  {
   "cell_type": "code",
   "execution_count": 44,
   "metadata": {},
   "outputs": [],
   "source": [
    "n = [5,10,20,30,40,50]\n",
    "ks = pd.Series()\n",
    "ks.index = n\n",
    "test_errs.ks.apply()"
   ]
  },
  {
   "cell_type": "code",
   "execution_count": 45,
   "metadata": {},
   "outputs": [
    {
     "data": {
      "text/plain": [
       "GridSearchCV(cv=5, error_score='raise-deprecating',\n",
       "       estimator=KNeighborsClassifier(algorithm='auto', leaf_size=30, metric='minkowski',\n",
       "           metric_params=None, n_jobs=-1, n_neighbors=5, p=2,\n",
       "           weights='uniform'),\n",
       "       fit_params=None, iid='warn', n_jobs=None,\n",
       "       param_grid={'n_neighbors': [5, 10, 20, 30, 40, 50]},\n",
       "       pre_dispatch='2*n_jobs', refit=True, return_train_score='warn',\n",
       "       scoring=None, verbose=0)"
      ]
     },
     "execution_count": 45,
     "metadata": {},
     "output_type": "execute_result"
    }
   ],
   "source": [
    "grid = GridSearchCV(model,param_grid=dict(n_neighbors=ks),cv=5)\n",
    "grid.fit(x_train_sc, y_train)"
   ]
  },
  {
   "cell_type": "code",
   "execution_count": 46,
   "metadata": {},
   "outputs": [
    {
     "name": "stdout",
     "output_type": "stream",
     "text": [
      "0.7071558796718322\n",
      "40\n"
     ]
    }
   ],
   "source": [
    "print(grid.best_score_)\n",
    "print(grid.best_estimator_.n_neighbors)"
   ]
  },
  {
   "cell_type": "code",
   "execution_count": 52,
   "metadata": {},
   "outputs": [
    {
     "data": {
      "text/plain": [
       "<matplotlib.axes._subplots.AxesSubplot at 0x2044043d320>"
      ]
     },
     "execution_count": 52,
     "metadata": {},
     "output_type": "execute_result"
    },
    {
     "data": {
      "image/png": "[encoded data removed]",
      "text/plain": [
       "<Figure size 432x288 with 1 Axes>"
      ]
     },
     "metadata": {
      "needs_background": "light"
     },
     "output_type": "display_data"
    }
   ],
   "source": [
    "pd.DataFrame(grid.cv_results_).set_index(\"param_n_neighbors\")['mean_test_score'].plot.line()"
   ]
  },
  {
   "cell_type": "markdown",
   "metadata": {},
   "source": [
    "k=40"
   ]
  },
  {
   "cell_type": "markdown",
   "metadata": {},
   "source": [
    "## Model: RandomForestClassifier"
   ]
  },
  {
   "cell_type": "code",
   "execution_count": 54,
   "metadata": {},
   "outputs": [
    {
     "name": "stdout",
     "output_type": "stream",
     "text": [
      "['is_mixed', 'intake_condition', 'intake_type', 'sex', 'fixed', 'time_in_shelter', 'age_in'] 0.6530440308125804\n",
      "['intake_condition', 'intake_type', 'sex', 'fixed', 'time_in_shelter', 'age_in'] 0.6509176501850181\n",
      "['is_mixed', 'sex', 'fixed', 'time_in_shelter', 'age_in'] 0.5705971276166315\n",
      "['intake_condition', 'sex', 'time_in_shelter', 'age_in'] 0.5759396983858641\n",
      "['is_mixed', 'intake_type', 'sex', 'fixed', 'age_in'] 0.5650260612953572\n",
      "['is_mixed', 'sex', 'fixed', 'age_in'] 0.5228661492148154\n"
     ]
    }
   ],
   "source": [
    "model = RandomForestClassifier(n_jobs=-1)\n",
    "vec = DictVectorizer(sparse=False)\n",
    "scaler = StandardScaler()\n",
    "\n",
    "pipeline = Pipeline([\n",
    "    (\"vectorizer\", vec), \n",
    "    (\"scaler\", scaler), \n",
    "    (\"model\", model)\n",
    "])\n",
    "\n",
    "\n",
    "for feat in [features, features1, features2, features3, features4, features5]:\n",
    "    x_train_dict = new_unique_df[feat].to_dict(orient=\"records\")\n",
    "    y_train = new_unique_df['outcome_type']\n",
    "    print(feat, cross_val_score(pipeline, x_train_dict, y_train, cv=5, scoring=\"accuracy\").mean())"
   ]
  },
  {
   "cell_type": "markdown",
   "metadata": {},
   "source": [
    "features"
   ]
  },
  {
   "cell_type": "markdown",
   "metadata": {},
   "source": [
    "### Scaler Testing"
   ]
  },
  {
   "cell_type": "code",
   "execution_count": 55,
   "metadata": {},
   "outputs": [],
   "source": [
    "x_train_dict = new_unique_df[features].to_dict(orient=\"records\")\n",
    "y_train = new_unique_df['outcome_type']"
   ]
  },
  {
   "cell_type": "code",
   "execution_count": 56,
   "metadata": {},
   "outputs": [],
   "source": [
    "scalers = [StandardScaler(), Normalizer(), MinMaxScaler(), MaxAbsScaler(), RobustScaler()]"
   ]
  },
  {
   "cell_type": "code",
   "execution_count": 57,
   "metadata": {},
   "outputs": [
    {
     "name": "stdout",
     "output_type": "stream",
     "text": [
      "Fitting 5 folds for each of 5 candidates, totalling 25 fits\n"
     ]
    },
    {
     "name": "stderr",
     "output_type": "stream",
     "text": [
      "[Parallel(n_jobs=-1)]: Using backend LokyBackend with 8 concurrent workers.\n",
      "[Parallel(n_jobs=-1)]: Done   2 tasks      | elapsed:    3.1s\n",
      "[Parallel(n_jobs=-1)]: Done  16 out of  25 | elapsed:   16.6s remaining:    9.3s\n",
      "[Parallel(n_jobs=-1)]: Done  22 out of  25 | elapsed:   22.3s remaining:    2.9s\n",
      "[Parallel(n_jobs=-1)]: Done  25 out of  25 | elapsed:   25.1s finished\n"
     ]
    },
    {
     "data": {
      "text/plain": [
       "GridSearchCV(cv=5, error_score='raise-deprecating',\n",
       "       estimator=Pipeline(memory=None,\n",
       "     steps=[('vectorizer', DictVectorizer(dtype=<class 'numpy.float64'>, separator='=', sort=True,\n",
       "        sparse=False)), ('scaler', StandardScaler(copy=True, with_mean=True, with_std=True)), ('model', RandomForestClassifier(bootstrap=True, class_weight=None, criterion='gini',\n",
       "            max_depth=None..._jobs=-1,\n",
       "            oob_score=False, random_state=None, verbose=0,\n",
       "            warm_start=False))]),\n",
       "       fit_params=None, iid='warn', n_jobs=-1,\n",
       "       param_grid={'scaler': [StandardScaler(copy=True, with_mean=True, with_std=True), Normalizer(copy=True, norm='l2'), MinMaxScaler(copy=True, feature_range=(0, 1)), MaxAbsScaler(copy=True), RobustScaler(copy=True, quantile_range=(25.0, 75.0), with_centering=True,\n",
       "       with_scaling=True)]},\n",
       "       pre_dispatch='2*n_jobs', refit=True, return_train_score='warn',\n",
       "       scoring=None, verbose=5)"
      ]
     },
     "execution_count": 57,
     "metadata": {},
     "output_type": "execute_result"
    }
   ],
   "source": [
    "grid = GridSearchCV(pipeline,param_grid=dict(scaler=scalers),cv=5, verbose=5, n_jobs=-1)\n",
    "grid.fit(x_train_dict, y_train)"
   ]
  },
  {
   "cell_type": "code",
   "execution_count": 58,
   "metadata": {},
   "outputs": [
    {
     "name": "stdout",
     "output_type": "stream",
     "text": [
      "0.6844677403018333\n",
      "[('vectorizer', DictVectorizer(dtype=<class 'numpy.float64'>, separator='=', sort=True,\n",
      "        sparse=False)), ('scaler', Normalizer(copy=True, norm='l2')), ('model', RandomForestClassifier(bootstrap=True, class_weight=None, criterion='gini',\n",
      "            max_depth=None, max_features='auto', max_leaf_nodes=None,\n",
      "            min_impurity_decrease=0.0, min_impurity_split=None,\n",
      "            min_samples_leaf=1, min_samples_split=2,\n",
      "            min_weight_fraction_leaf=0.0, n_estimators=10, n_jobs=-1,\n",
      "            oob_score=False, random_state=None, verbose=0,\n",
      "            warm_start=False))]\n"
     ]
    }
   ],
   "source": [
    "print(grid.best_score_)\n",
    "print(grid.best_estimator_.steps)"
   ]
  },
  {
   "cell_type": "code",
   "execution_count": 59,
   "metadata": {
    "scrolled": false
   },
   "outputs": [
    {
     "data": {
      "text/html": [
       "<div>\n",
       "<style scoped>\n",
       "    .dataframe tbody tr th:only-of-type {\n",
       "        vertical-align: middle;\n",
       "    }\n",
       "\n",
       "    .dataframe tbody tr th {\n",
       "        vertical-align: top;\n",
       "    }\n",
       "\n",
       "    .dataframe thead th {\n",
       "        text-align: right;\n",
       "    }\n",
       "</style>\n",
       "<table border=\"1\" class=\"dataframe\">\n",
       "  <thead>\n",
       "    <tr style=\"text-align: right;\">\n",
       "      <th></th>\n",
       "      <th>mean_fit_time</th>\n",
       "      <th>std_fit_time</th>\n",
       "      <th>mean_score_time</th>\n",
       "      <th>std_score_time</th>\n",
       "      <th>param_scaler</th>\n",
       "      <th>params</th>\n",
       "      <th>split0_test_score</th>\n",
       "      <th>split1_test_score</th>\n",
       "      <th>split2_test_score</th>\n",
       "      <th>split3_test_score</th>\n",
       "      <th>...</th>\n",
       "      <th>mean_test_score</th>\n",
       "      <th>std_test_score</th>\n",
       "      <th>rank_test_score</th>\n",
       "      <th>split0_train_score</th>\n",
       "      <th>split1_train_score</th>\n",
       "      <th>split2_train_score</th>\n",
       "      <th>split3_train_score</th>\n",
       "      <th>split4_train_score</th>\n",
       "      <th>mean_train_score</th>\n",
       "      <th>std_train_score</th>\n",
       "    </tr>\n",
       "  </thead>\n",
       "  <tbody>\n",
       "    <tr>\n",
       "      <th>0</th>\n",
       "      <td>0.463739</td>\n",
       "      <td>0.049157</td>\n",
       "      <td>0.153403</td>\n",
       "      <td>0.002868</td>\n",
       "      <td>StandardScaler(copy=True, with_mean=True, with...</td>\n",
       "      <td>{'scaler': StandardScaler(copy=True, with_mean...</td>\n",
       "      <td>0.644394</td>\n",
       "      <td>0.658228</td>\n",
       "      <td>0.659111</td>\n",
       "      <td>0.648854</td>\n",
       "      <td>...</td>\n",
       "      <td>0.652664</td>\n",
       "      <td>0.005576</td>\n",
       "      <td>4</td>\n",
       "      <td>0.952137</td>\n",
       "      <td>0.952994</td>\n",
       "      <td>0.952018</td>\n",
       "      <td>0.950055</td>\n",
       "      <td>0.951766</td>\n",
       "      <td>0.951794</td>\n",
       "      <td>0.000963</td>\n",
       "    </tr>\n",
       "    <tr>\n",
       "      <th>1</th>\n",
       "      <td>0.461668</td>\n",
       "      <td>0.017738</td>\n",
       "      <td>0.153075</td>\n",
       "      <td>0.003597</td>\n",
       "      <td>Normalizer(copy=True, norm='l2')</td>\n",
       "      <td>{'scaler': Normalizer(copy=True, norm='l2')}</td>\n",
       "      <td>0.678562</td>\n",
       "      <td>0.690380</td>\n",
       "      <td>0.686590</td>\n",
       "      <td>0.683804</td>\n",
       "      <td>...</td>\n",
       "      <td>0.684468</td>\n",
       "      <td>0.003923</td>\n",
       "      <td>1</td>\n",
       "      <td>0.907249</td>\n",
       "      <td>0.906274</td>\n",
       "      <td>0.907169</td>\n",
       "      <td>0.904763</td>\n",
       "      <td>0.906254</td>\n",
       "      <td>0.906342</td>\n",
       "      <td>0.000896</td>\n",
       "    </tr>\n",
       "    <tr>\n",
       "      <th>2</th>\n",
       "      <td>0.444430</td>\n",
       "      <td>0.044151</td>\n",
       "      <td>0.157617</td>\n",
       "      <td>0.008575</td>\n",
       "      <td>MinMaxScaler(copy=True, feature_range=(0, 1))</td>\n",
       "      <td>{'scaler': MinMaxScaler(copy=True, feature_ran...</td>\n",
       "      <td>0.646925</td>\n",
       "      <td>0.659873</td>\n",
       "      <td>0.659238</td>\n",
       "      <td>0.651387</td>\n",
       "      <td>...</td>\n",
       "      <td>0.653474</td>\n",
       "      <td>0.005174</td>\n",
       "      <td>3</td>\n",
       "      <td>0.952168</td>\n",
       "      <td>0.950842</td>\n",
       "      <td>0.952366</td>\n",
       "      <td>0.950404</td>\n",
       "      <td>0.951450</td>\n",
       "      <td>0.951446</td>\n",
       "      <td>0.000751</td>\n",
       "    </tr>\n",
       "    <tr>\n",
       "      <th>3</th>\n",
       "      <td>0.438518</td>\n",
       "      <td>0.040227</td>\n",
       "      <td>0.150395</td>\n",
       "      <td>0.002422</td>\n",
       "      <td>MaxAbsScaler(copy=True)</td>\n",
       "      <td>{'scaler': MaxAbsScaler(copy=True)}</td>\n",
       "      <td>0.643888</td>\n",
       "      <td>0.660253</td>\n",
       "      <td>0.659491</td>\n",
       "      <td>0.649994</td>\n",
       "      <td>...</td>\n",
       "      <td>0.653575</td>\n",
       "      <td>0.006112</td>\n",
       "      <td>2</td>\n",
       "      <td>0.953973</td>\n",
       "      <td>0.951602</td>\n",
       "      <td>0.953315</td>\n",
       "      <td>0.951828</td>\n",
       "      <td>0.951734</td>\n",
       "      <td>0.952490</td>\n",
       "      <td>0.000967</td>\n",
       "    </tr>\n",
       "    <tr>\n",
       "      <th>4</th>\n",
       "      <td>0.391922</td>\n",
       "      <td>0.052007</td>\n",
       "      <td>0.153726</td>\n",
       "      <td>0.004880</td>\n",
       "      <td>RobustScaler(copy=True, quantile_range=(25.0, ...</td>\n",
       "      <td>{'scaler': RobustScaler(copy=True, quantile_ra...</td>\n",
       "      <td>0.639205</td>\n",
       "      <td>0.659241</td>\n",
       "      <td>0.653413</td>\n",
       "      <td>0.650627</td>\n",
       "      <td>...</td>\n",
       "      <td>0.651296</td>\n",
       "      <td>0.006658</td>\n",
       "      <td>5</td>\n",
       "      <td>0.952422</td>\n",
       "      <td>0.950082</td>\n",
       "      <td>0.952113</td>\n",
       "      <td>0.952682</td>\n",
       "      <td>0.950817</td>\n",
       "      <td>0.951623</td>\n",
       "      <td>0.001002</td>\n",
       "    </tr>\n",
       "  </tbody>\n",
       "</table>\n",
       "<p>5 rows × 21 columns</p>\n",
       "</div>"
      ],
      "text/plain": [
       "   mean_fit_time  std_fit_time  mean_score_time  std_score_time  \\\n",
       "0       0.463739      0.049157         0.153403        0.002868   \n",
       "1       0.461668      0.017738         0.153075        0.003597   \n",
       "2       0.444430      0.044151         0.157617        0.008575   \n",
       "3       0.438518      0.040227         0.150395        0.002422   \n",
       "4       0.391922      0.052007         0.153726        0.004880   \n",
       "\n",
       "                                        param_scaler  \\\n",
       "0  StandardScaler(copy=True, with_mean=True, with...   \n",
       "1                   Normalizer(copy=True, norm='l2')   \n",
       "2      MinMaxScaler(copy=True, feature_range=(0, 1))   \n",
       "3                            MaxAbsScaler(copy=True)   \n",
       "4  RobustScaler(copy=True, quantile_range=(25.0, ...   \n",
       "\n",
       "                                              params  split0_test_score  \\\n",
       "0  {'scaler': StandardScaler(copy=True, with_mean...           0.644394   \n",
       "1       {'scaler': Normalizer(copy=True, norm='l2')}           0.678562   \n",
       "2  {'scaler': MinMaxScaler(copy=True, feature_ran...           0.646925   \n",
       "3                {'scaler': MaxAbsScaler(copy=True)}           0.643888   \n",
       "4  {'scaler': RobustScaler(copy=True, quantile_ra...           0.639205   \n",
       "\n",
       "   split1_test_score  split2_test_score  split3_test_score  ...  \\\n",
       "0           0.658228           0.659111           0.648854  ...   \n",
       "1           0.690380           0.686590           0.683804  ...   \n",
       "2           0.659873           0.659238           0.651387  ...   \n",
       "3           0.660253           0.659491           0.649994  ...   \n",
       "4           0.659241           0.653413           0.650627  ...   \n",
       "\n",
       "   mean_test_score  std_test_score  rank_test_score  split0_train_score  \\\n",
       "0         0.652664        0.005576                4            0.952137   \n",
       "1         0.684468        0.003923                1            0.907249   \n",
       "2         0.653474        0.005174                3            0.952168   \n",
       "3         0.653575        0.006112                2            0.953973   \n",
       "4         0.651296        0.006658                5            0.952422   \n",
       "\n",
       "   split1_train_score  split2_train_score  split3_train_score  \\\n",
       "0            0.952994            0.952018            0.950055   \n",
       "1            0.906274            0.907169            0.904763   \n",
       "2            0.950842            0.952366            0.950404   \n",
       "3            0.951602            0.953315            0.951828   \n",
       "4            0.950082            0.952113            0.952682   \n",
       "\n",
       "   split4_train_score  mean_train_score  std_train_score  \n",
       "0            0.951766          0.951794         0.000963  \n",
       "1            0.906254          0.906342         0.000896  \n",
       "2            0.951450          0.951446         0.000751  \n",
       "3            0.951734          0.952490         0.000967  \n",
       "4            0.950817          0.951623         0.001002  \n",
       "\n",
       "[5 rows x 21 columns]"
      ]
     },
     "execution_count": 59,
     "metadata": {},
     "output_type": "execute_result"
    }
   ],
   "source": [
    "pd.DataFrame(grid.cv_results_)"
   ]
  },
  {
   "cell_type": "markdown",
   "metadata": {},
   "source": [
    "### Parameter tuning"
   ]
  },
  {
   "cell_type": "code",
   "execution_count": 62,
   "metadata": {},
   "outputs": [],
   "source": [
    "x_train_dict = new_unique_df[features].to_dict(orient=\"records\")\n",
    "y_train = new_unique_df['outcome_type']\n",
    "\n",
    "vec = DictVectorizer(sparse=False)\n",
    "vec.fit(x_train_dict)\n",
    "x_train = vec.transform(x_train_dict)\n",
    "\n",
    "scaler = Normalizer()\n",
    "scaler.fit(x_train)\n",
    "x_train_sc = scaler.transform(x_train)\n",
    "\n",
    "model = RandomForestClassifier(n_jobs=-1)"
   ]
  },
  {
   "cell_type": "code",
   "execution_count": 68,
   "metadata": {},
   "outputs": [],
   "source": [
    "param_grid = {\n",
    "    'bootstrap': [True],\n",
    "    'max_depth': [10, 50, 90, 100],\n",
    "    'max_features': [2, 3],\n",
    "    'random_state': [10],\n",
    "    'min_samples_leaf': [2, 3, 4],\n",
    "    'min_samples_split': [10, 12, 15],\n",
    "    'n_estimators': [100, 200, 300, 1000]\n",
    "}"
   ]
  },
  {
   "cell_type": "code",
   "execution_count": null,
   "metadata": {},
   "outputs": [
    {
     "name": "stdout",
     "output_type": "stream",
     "text": [
      "Fitting 5 folds for each of 288 candidates, totalling 1440 fits\n"
     ]
    },
    {
     "name": "stderr",
     "output_type": "stream",
     "text": [
      "[Parallel(n_jobs=-1)]: Using backend LokyBackend with 8 concurrent workers.\n",
      "[Parallel(n_jobs=-1)]: Done  25 tasks      | elapsed:   54.9s\n"
     ]
    }
   ],
   "source": [
    "grid = GridSearchCV(model,param_grid=param_grid,cv=5, n_jobs=-1, verbose=2)\n",
    "grid.fit(x_train_sc, y_train)"
   ]
  },
  {
   "cell_type": "code",
   "execution_count": null,
   "metadata": {},
   "outputs": [],
   "source": [
    "print(grid.best_score_)\n",
    "print(grid.best_estimator_.n_neighbors)"
   ]
  },
  {
   "cell_type": "code",
   "execution_count": null,
   "metadata": {},
   "outputs": [],
   "source": []
  },
  {
   "cell_type": "code",
   "execution_count": null,
   "metadata": {},
   "outputs": [],
   "source": []
  },
  {
   "cell_type": "code",
   "execution_count": null,
   "metadata": {},
   "outputs": [],
   "source": []
  },
  {
   "cell_type": "code",
   "execution_count": null,
   "metadata": {},
   "outputs": [],
   "source": [
    "y_train_pred = model.predict(x_train_sc)"
   ]
  },
  {
   "cell_type": "markdown",
   "metadata": {},
   "source": [
    "**TRAINING**"
   ]
  },
  {
   "cell_type": "code",
   "execution_count": null,
   "metadata": {},
   "outputs": [],
   "source": [
    "print(\"Training Accuracy\")\n",
    "print(accuracy_score(y_train, y_train_pred))"
   ]
  },
  {
   "cell_type": "code",
   "execution_count": null,
   "metadata": {},
   "outputs": [],
   "source": [
    "print(\"Training Precision\")\n",
    "print(precision_score(y_train, y_train_pred,pos_label=\"Adoption\", average=None).mean())"
   ]
  },
  {
   "cell_type": "code",
   "execution_count": null,
   "metadata": {},
   "outputs": [],
   "source": [
    "print(\"Training Recall\")\n",
    "print(recall_score(y_train, y_train_pred,pos_label=\"Adoption\", average=None).mean())"
   ]
  },
  {
   "cell_type": "code",
   "execution_count": null,
   "metadata": {},
   "outputs": [],
   "source": [
    "true_positives = ((y_train_pred == \"Transfer\") & (y_train == \"Transfer\")).sum()\n",
    "\n",
    "precision = true_positives / (y_train_pred == \"Transfer\").sum()\n",
    "recall = true_positives / (y_train == \"Transfer\").sum()\n",
    "    \n",
    "precision, recall"
   ]
  },
  {
   "cell_type": "code",
   "execution_count": null,
   "metadata": {},
   "outputs": [],
   "source": [
    "pipeline = Pipeline([\n",
    "    (\"vectorizer\", vec), \n",
    "    (\"scaler\", scaler), \n",
    "    (\"model\", model)\n",
    "])\n",
    "\n",
    "print(cross_val_score(pipeline, x_train_dict, y_train, cv=10, scoring=\"accuracy\").mean())"
   ]
  },
  {
   "cell_type": "code",
   "execution_count": 26,
   "metadata": {},
   "outputs": [],
   "source": [
    "x_train_dict = new_unique_df[features1].to_dict(orient=\"records\")\n",
    "y_train = new_unique_df['outcome_type']\n",
    "\n",
    "vec = DictVectorizer(sparse=False)\n",
    "vec.fit(x_train_dict)\n",
    "x_train = vec.transform(x_train_dict)\n",
    "\n",
    "scaler = Normalizer()\n",
    "scaler.fit(x_train)\n",
    "x_train_sc = scaler.transform(x_train)\n",
    "\n",
    "model = KNeighborsClassifier(n_neighbors=30)\n",
    "model.fit(x_train_sc, y_train)\n",
    "\n",
    "new_dog = pd.DataFrame()\n",
    "new_dog['sex'] = ['Male']\n",
    "new_dog['fixed'] = ['No']\n",
    "new_dog['time_in_shelter'] = [5000.0]\n",
    "new_dog['age_in'] = [4.0]"
   ]
  },
  {
   "cell_type": "code",
   "execution_count": 27,
   "metadata": {},
   "outputs": [],
   "source": [
    "new_dog = new_dog.to_dict(orient=\"records\")\n",
    "new_dog = vec.transform(new_dog)\n",
    "new_dog_sc = scaler.transform(new_dog)\n",
    "\n",
    "preds = model.predict(new_dog_sc)\n"
   ]
  },
  {
   "cell_type": "code",
   "execution_count": 28,
   "metadata": {},
   "outputs": [
    {
     "data": {
      "text/plain": [
       "array(['Adoption'], dtype=object)"
      ]
     },
     "execution_count": 28,
     "metadata": {},
     "output_type": "execute_result"
    }
   ],
   "source": [
    "preds"
   ]
  },
  {
   "cell_type": "code",
   "execution_count": null,
   "metadata": {},
   "outputs": [],
   "source": [
    "new_unique_df[:10]"
   ]
  },
  {
   "cell_type": "code",
   "execution_count": null,
   "metadata": {},
   "outputs": [],
   "source": []
  }
 ],
 "metadata": {
  "kernelspec": {
   "display_name": "Python 3",
   "language": "python",
   "name": "python3"
  },
  "language_info": {
   "codemirror_mode": {
    "name": "ipython",
    "version": 3
   },
   "file_extension": ".py",
   "mimetype": "text/x-python",
   "name": "python",
   "nbconvert_exporter": "python",
   "pygments_lexer": "ipython3",
   "version": "3.6.8"
  }
 },
 "nbformat": 4,
 "nbformat_minor": 2
}
